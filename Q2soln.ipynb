{
 "cells": [
  {
   "cell_type": "code",
   "execution_count": 1,
   "metadata": {},
   "outputs": [],
   "source": [
    "# Soln to Coding Interview Q2\n",
    "# Q2: compress a word in the following way:\n",
    "#     original word 'AaBBCCCE'\n",
    "#     compressed word 'A1a1B2C3E1'\n",
    "\n",
    "# brute force way: time o(n^2) space o(n)\n",
    "def compress_v1(word):\n",
    "    unique  = []\n",
    "    output  = ''\n",
    "    counter = 0\n",
    "    for i, v in enumerate(word):\n",
    "        counter += 1\n",
    "        if v not in unique:\n",
    "            output += v\n",
    "            output += str(word.count(v)) # time o(n) for count\n",
    "            unique.append(v)\n",
    "            \n",
    "    return output, counter**2"
   ]
  },
  {
   "cell_type": "code",
   "execution_count": 2,
   "metadata": {},
   "outputs": [
    {
     "name": "stdout",
     "output_type": "stream",
     "text": [
      "compressed word: A2a2B4C5D2E4\n",
      "time complexity: 361\n"
     ]
    }
   ],
   "source": [
    "# try an example\n",
    "w1 = 'AAaaBBBBCCCCCDDEEEE'\n",
    "\n",
    "cw1, counter = compress_v1(w1)\n",
    "print('compressed word:', cw1)\n",
    "print('time complexity:', counter)"
   ]
  },
  {
   "cell_type": "code",
   "execution_count": 3,
   "metadata": {},
   "outputs": [],
   "source": [
    "# optimize time: time o(n) space o(n)\n",
    "def compress_v2(word):\n",
    "    counter = 0\n",
    "    \n",
    "    if len(word) == 0:\n",
    "        output = ''\n",
    "    elif len(word) == 1:\n",
    "        output = word + str(1)\n",
    "    else:\n",
    "        unique = [] # [['unique_character', # of occurrences]]\n",
    "        unique.append([word[0],1])\n",
    "        \n",
    "        char = 0\n",
    "        # time o(n)\n",
    "        for i in range(1,len(word)):\n",
    "            counter += 1\n",
    "            if word[i] not in unique[char][0]:\n",
    "                # record character and count 1st occurrence\n",
    "                unique.append([word[i],1]) \n",
    "                # move to the next potential unique character\n",
    "                char += 1\n",
    "            else:\n",
    "                unique[char][1] += 1\n",
    "    \n",
    "        output = ''\n",
    "        # time o(n)\n",
    "        for i in unique:\n",
    "            counter += 1\n",
    "            output  += i[0] + str(i[1])\n",
    "            \n",
    "    return output, counter"
   ]
  },
  {
   "cell_type": "code",
   "execution_count": 4,
   "metadata": {},
   "outputs": [
    {
     "name": "stdout",
     "output_type": "stream",
     "text": [
      "compressed word: A2a2B4C5D2E4\n",
      "time complexity: 24\n"
     ]
    }
   ],
   "source": [
    "# try the same example\n",
    "w1 = 'AAaaBBBBCCCCCDDEEEE'\n",
    "\n",
    "cw1, counter = compress_v2(w1)\n",
    "print('compressed word:', cw1)\n",
    "print('time complexity:', counter)"
   ]
  },
  {
   "cell_type": "code",
   "execution_count": 5,
   "metadata": {},
   "outputs": [],
   "source": [
    "# optimize time & space: time o(n) space o(1)\n",
    "def compress_v3(word):  \n",
    "    counter = 0\n",
    "    \n",
    "    if len(word) == 0:\n",
    "        output= ''\n",
    "    elif len(word) == 1:\n",
    "        output = word + str(1)\n",
    "    else:\n",
    "        output = ''\n",
    "        chr_count = 1\n",
    "        counter = 0\n",
    "        for i in range(1, len(word)):\n",
    "            counter += 1\n",
    "            if word[i] == word[i-1]:\n",
    "                chr_count += 1\n",
    "            else:\n",
    "                output += word[i-1] + str(chr_count)\n",
    "                chr_count = 1\n",
    "        output += word[len(word)-1] + str(chr_count) \n",
    "        \n",
    "    return output, counter"
   ]
  },
  {
   "cell_type": "code",
   "execution_count": 6,
   "metadata": {},
   "outputs": [
    {
     "name": "stdout",
     "output_type": "stream",
     "text": [
      "compressed word: A2a2B4C5D2E4\n",
      "time complexity: 18\n"
     ]
    }
   ],
   "source": [
    "# try the same example\n",
    "w1 = 'AAaaBBBBCCCCCDDEEEE'\n",
    "\n",
    "cw1, counter = compress_v3(w1)\n",
    "print('compressed word:', cw1)\n",
    "print('time complexity:', counter)"
   ]
  },
  {
   "cell_type": "code",
   "execution_count": 7,
   "metadata": {},
   "outputs": [
    {
     "name": "stdout",
     "output_type": "stream",
     "text": [
      "compressed word: \n",
      "time complexity: 0\n",
      "compressed word: \n",
      "time complexity: 0\n",
      "compressed word: \n",
      "time complexity: 0\n"
     ]
    }
   ],
   "source": [
    "# try a corner case\n",
    "w2 = ''\n",
    "cw2, counter = compress_v1(w2)\n",
    "print('compressed word:', cw2)\n",
    "print('time complexity:', counter)\n",
    "\n",
    "cw2, counter = compress_v2(w2)\n",
    "print('compressed word:', cw2)\n",
    "print('time complexity:', counter)\n",
    "\n",
    "cw2, counter = compress_v3(w2)\n",
    "print('compressed word:', cw2)\n",
    "print('time complexity:', counter)"
   ]
  }
 ],
 "metadata": {
  "kernelspec": {
   "display_name": "Python 3",
   "language": "python",
   "name": "python3"
  },
  "language_info": {
   "codemirror_mode": {
    "name": "ipython",
    "version": 3
   },
   "file_extension": ".py",
   "mimetype": "text/x-python",
   "name": "python",
   "nbconvert_exporter": "python",
   "pygments_lexer": "ipython3",
   "version": "3.7.4"
  }
 },
 "nbformat": 4,
 "nbformat_minor": 2
}
