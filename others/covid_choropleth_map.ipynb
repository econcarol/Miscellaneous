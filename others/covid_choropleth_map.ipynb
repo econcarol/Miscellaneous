{
 "cells": [
  {
   "cell_type": "code",
   "execution_count": 1,
   "metadata": {},
   "outputs": [
    {
     "data": {
      "text/html": [
       "        <script type=\"text/javascript\">\n",
       "        window.PlotlyConfig = {MathJaxConfig: 'local'};\n",
       "        if (window.MathJax) {MathJax.Hub.Config({SVG: {font: \"STIX-Web\"}});}\n",
       "        if (typeof require !== 'undefined') {\n",
       "        require.undef(\"plotly\");\n",
       "        requirejs.config({\n",
       "            paths: {\n",
       "                'plotly': ['https://cdn.plot.ly/plotly-latest.min']\n",
       "            }\n",
       "        });\n",
       "        require(['plotly'], function(Plotly) {\n",
       "            window._Plotly = Plotly;\n",
       "        });\n",
       "        }\n",
       "        </script>\n",
       "        "
      ]
     },
     "metadata": {},
     "output_type": "display_data"
    }
   ],
   "source": [
    "# import libraries\n",
    "import datetime as dt\n",
    "import numpy as np \n",
    "import pandas as pd \n",
    "import plotly as py\n",
    "import plotly.express as px\n",
    "import plotly.graph_objs as go\n",
    "from plotly.subplots import make_subplots\n",
    "from plotly.offline import download_plotlyjs, init_notebook_mode, plot, iplot\n",
    "init_notebook_mode(connected=True)"
   ]
  },
  {
   "cell_type": "code",
   "execution_count": 2,
   "metadata": {},
   "outputs": [
    {
     "name": "stdout",
     "output_type": "stream",
     "text": [
      "         date       state  fips  cases  deaths\n",
      "0  2020-01-21  Washington    53      1       0\n",
      "1  2020-01-22  Washington    53      1       0\n",
      "2  2020-01-23  Washington    53      1       0\n"
     ]
    }
   ],
   "source": [
    "# import real-time data\n",
    "url = 'https://raw.githubusercontent.com/nytimes/covid-19-data/master/us-states.csv'\n",
    "df = pd.read_csv(url, error_bad_lines=False)\n",
    "print(df.head(3))"
   ]
  },
  {
   "cell_type": "code",
   "execution_count": 3,
   "metadata": {},
   "outputs": [],
   "source": [
    "# rename columns\n",
    "df_states = df.groupby(['state', 'date']).sum().reset_index().sort_values('date', ascending=False)\n",
    "# remove duplicates\n",
    "df_states = df_states.drop_duplicates(subset = ['state'])\n",
    "# only consider 50 US states, not territories\n",
    "notstates = ['Guam','Puerto Rico','Northern Mariana Islands','Virgin Islands']\n",
    "df_states = df_states[~df_states['state'].isin(notstates)]"
   ]
  },
  {
   "cell_type": "code",
   "execution_count": 4,
   "metadata": {},
   "outputs": [],
   "source": [
    "# convert state names to 2-letter code\n",
    "state_codes = {\n",
    "    'District of Columbia' : 'dc','Mississippi': 'MS', 'Oklahoma': 'OK', \n",
    "    'Delaware': 'DE', 'Minnesota': 'MN', 'Illinois': 'IL', 'Arkansas': 'AR', \n",
    "    'New Mexico': 'NM', 'Indiana': 'IN', 'Maryland': 'MD', 'Louisiana': 'LA', \n",
    "    'Idaho': 'ID', 'Wyoming': 'WY', 'Tennessee': 'TN', 'Arizona': 'AZ', \n",
    "    'Iowa': 'IA', 'Michigan': 'MI', 'Kansas': 'KS', 'Utah': 'UT', \n",
    "    'Virginia': 'VA', 'Oregon': 'OR', 'Connecticut': 'CT', 'Montana': 'MT', \n",
    "    'California': 'CA', 'Massachusetts': 'MA', 'West Virginia': 'WV', \n",
    "    'South Carolina': 'SC', 'New Hampshire': 'NH', 'Wisconsin': 'WI',\n",
    "    'Vermont': 'VT', 'Georgia': 'GA', 'North Dakota': 'ND', \n",
    "    'Pennsylvania': 'PA', 'Florida': 'FL', 'Alaska': 'AK', 'Kentucky': 'KY', \n",
    "    'Hawaii': 'HI', 'Nebraska': 'NE', 'Missouri': 'MO', 'Ohio': 'OH', \n",
    "    'Alabama': 'AL', 'Rhode Island': 'RI', 'South Dakota': 'SD', \n",
    "    'Colorado': 'CO', 'New Jersey': 'NJ', 'Washington': 'WA', \n",
    "    'North Carolina': 'NC', 'New York': 'NY', 'Texas': 'TX', \n",
    "    'Nevada': 'NV', 'Maine': 'ME'}\n",
    "\n",
    "df_states['state_code'] = df_states['state'].apply(lambda x : state_codes[x])"
   ]
  },
  {
   "cell_type": "code",
   "execution_count": 5,
   "metadata": {},
   "outputs": [
    {
     "data": {
      "application/vnd.plotly.v1+json": {
       "config": {
        "plotlyServerURL": "https://plot.ly"
       },
       "data": [
        {
         "autocolorscale": false,
         "colorscale": [
          [
           0,
           "rgb(255,245,240)"
          ],
          [
           0.125,
           "rgb(254,224,210)"
          ],
          [
           0.25,
           "rgb(252,187,161)"
          ],
          [
           0.375,
           "rgb(252,146,114)"
          ],
          [
           0.5,
           "rgb(251,106,74)"
          ],
          [
           0.625,
           "rgb(239,59,44)"
          ],
          [
           0.75,
           "rgb(203,24,29)"
          ],
          [
           0.875,
           "rgb(165,15,21)"
          ],
          [
           1,
           "rgb(103,0,13)"
          ]
         ],
         "locationmode": "USA-states",
         "locations": [
          "WY",
          "SC",
          "MD",
          "TX",
          "FL",
          "ID",
          "NE",
          "OH",
          "MI",
          "UT",
          "OR",
          "KS",
          "HI",
          "WV",
          "AK",
          "CO",
          "NM",
          "ME",
          "MS",
          "AR",
          "MN",
          "KY",
          "CT",
          "NJ",
          "WA",
          "ND",
          "WI",
          "GA",
          "LA",
          "RI",
          "IA",
          "VA",
          "NY",
          "VT",
          "DE",
          "SD",
          "dc",
          "PA",
          "MT",
          "IL",
          "NV",
          "IN",
          "AZ",
          "CA",
          "NH",
          "AL",
          "MO",
          "TN",
          "OK",
          "MA",
          "NC"
         ],
         "type": "choropleth",
         "z": [
          221,
          2417,
          4371,
          8974,
          14739,
          1210,
          490,
          4782,
          18852,
          1752,
          1181,
          905,
          408,
          412,
          211,
          5429,
          794,
          519,
          1915,
          997,
          1069,
          1289,
          7781,
          44416,
          8682,
          237,
          2578,
          9156,
          16284,
          1229,
          1048,
          3333,
          140081,
          575,
          928,
          320,
          1211,
          14582,
          319,
          13549,
          2101,
          5507,
          2575,
          17540,
          747,
          2197,
          3037,
          4010,
          1472,
          15202,
          3220
         ]
        }
       ],
       "layout": {
        "geo": {
         "projection": {
          "type": "albers usa"
         },
         "scope": "usa",
         "showlakes": false
        },
        "template": {
         "data": {
          "bar": [
           {
            "error_x": {
             "color": "#2a3f5f"
            },
            "error_y": {
             "color": "#2a3f5f"
            },
            "marker": {
             "line": {
              "color": "#E5ECF6",
              "width": 0.5
             }
            },
            "type": "bar"
           }
          ],
          "barpolar": [
           {
            "marker": {
             "line": {
              "color": "#E5ECF6",
              "width": 0.5
             }
            },
            "type": "barpolar"
           }
          ],
          "carpet": [
           {
            "aaxis": {
             "endlinecolor": "#2a3f5f",
             "gridcolor": "white",
             "linecolor": "white",
             "minorgridcolor": "white",
             "startlinecolor": "#2a3f5f"
            },
            "baxis": {
             "endlinecolor": "#2a3f5f",
             "gridcolor": "white",
             "linecolor": "white",
             "minorgridcolor": "white",
             "startlinecolor": "#2a3f5f"
            },
            "type": "carpet"
           }
          ],
          "choropleth": [
           {
            "colorbar": {
             "outlinewidth": 0,
             "ticks": ""
            },
            "type": "choropleth"
           }
          ],
          "contour": [
           {
            "colorbar": {
             "outlinewidth": 0,
             "ticks": ""
            },
            "colorscale": [
             [
              0,
              "#0d0887"
             ],
             [
              0.1111111111111111,
              "#46039f"
             ],
             [
              0.2222222222222222,
              "#7201a8"
             ],
             [
              0.3333333333333333,
              "#9c179e"
             ],
             [
              0.4444444444444444,
              "#bd3786"
             ],
             [
              0.5555555555555556,
              "#d8576b"
             ],
             [
              0.6666666666666666,
              "#ed7953"
             ],
             [
              0.7777777777777778,
              "#fb9f3a"
             ],
             [
              0.8888888888888888,
              "#fdca26"
             ],
             [
              1,
              "#f0f921"
             ]
            ],
            "type": "contour"
           }
          ],
          "contourcarpet": [
           {
            "colorbar": {
             "outlinewidth": 0,
             "ticks": ""
            },
            "type": "contourcarpet"
           }
          ],
          "heatmap": [
           {
            "colorbar": {
             "outlinewidth": 0,
             "ticks": ""
            },
            "colorscale": [
             [
              0,
              "#0d0887"
             ],
             [
              0.1111111111111111,
              "#46039f"
             ],
             [
              0.2222222222222222,
              "#7201a8"
             ],
             [
              0.3333333333333333,
              "#9c179e"
             ],
             [
              0.4444444444444444,
              "#bd3786"
             ],
             [
              0.5555555555555556,
              "#d8576b"
             ],
             [
              0.6666666666666666,
              "#ed7953"
             ],
             [
              0.7777777777777778,
              "#fb9f3a"
             ],
             [
              0.8888888888888888,
              "#fdca26"
             ],
             [
              1,
              "#f0f921"
             ]
            ],
            "type": "heatmap"
           }
          ],
          "heatmapgl": [
           {
            "colorbar": {
             "outlinewidth": 0,
             "ticks": ""
            },
            "colorscale": [
             [
              0,
              "#0d0887"
             ],
             [
              0.1111111111111111,
              "#46039f"
             ],
             [
              0.2222222222222222,
              "#7201a8"
             ],
             [
              0.3333333333333333,
              "#9c179e"
             ],
             [
              0.4444444444444444,
              "#bd3786"
             ],
             [
              0.5555555555555556,
              "#d8576b"
             ],
             [
              0.6666666666666666,
              "#ed7953"
             ],
             [
              0.7777777777777778,
              "#fb9f3a"
             ],
             [
              0.8888888888888888,
              "#fdca26"
             ],
             [
              1,
              "#f0f921"
             ]
            ],
            "type": "heatmapgl"
           }
          ],
          "histogram": [
           {
            "marker": {
             "colorbar": {
              "outlinewidth": 0,
              "ticks": ""
             }
            },
            "type": "histogram"
           }
          ],
          "histogram2d": [
           {
            "colorbar": {
             "outlinewidth": 0,
             "ticks": ""
            },
            "colorscale": [
             [
              0,
              "#0d0887"
             ],
             [
              0.1111111111111111,
              "#46039f"
             ],
             [
              0.2222222222222222,
              "#7201a8"
             ],
             [
              0.3333333333333333,
              "#9c179e"
             ],
             [
              0.4444444444444444,
              "#bd3786"
             ],
             [
              0.5555555555555556,
              "#d8576b"
             ],
             [
              0.6666666666666666,
              "#ed7953"
             ],
             [
              0.7777777777777778,
              "#fb9f3a"
             ],
             [
              0.8888888888888888,
              "#fdca26"
             ],
             [
              1,
              "#f0f921"
             ]
            ],
            "type": "histogram2d"
           }
          ],
          "histogram2dcontour": [
           {
            "colorbar": {
             "outlinewidth": 0,
             "ticks": ""
            },
            "colorscale": [
             [
              0,
              "#0d0887"
             ],
             [
              0.1111111111111111,
              "#46039f"
             ],
             [
              0.2222222222222222,
              "#7201a8"
             ],
             [
              0.3333333333333333,
              "#9c179e"
             ],
             [
              0.4444444444444444,
              "#bd3786"
             ],
             [
              0.5555555555555556,
              "#d8576b"
             ],
             [
              0.6666666666666666,
              "#ed7953"
             ],
             [
              0.7777777777777778,
              "#fb9f3a"
             ],
             [
              0.8888888888888888,
              "#fdca26"
             ],
             [
              1,
              "#f0f921"
             ]
            ],
            "type": "histogram2dcontour"
           }
          ],
          "mesh3d": [
           {
            "colorbar": {
             "outlinewidth": 0,
             "ticks": ""
            },
            "type": "mesh3d"
           }
          ],
          "parcoords": [
           {
            "line": {
             "colorbar": {
              "outlinewidth": 0,
              "ticks": ""
             }
            },
            "type": "parcoords"
           }
          ],
          "pie": [
           {
            "automargin": true,
            "type": "pie"
           }
          ],
          "scatter": [
           {
            "marker": {
             "colorbar": {
              "outlinewidth": 0,
              "ticks": ""
             }
            },
            "type": "scatter"
           }
          ],
          "scatter3d": [
           {
            "line": {
             "colorbar": {
              "outlinewidth": 0,
              "ticks": ""
             }
            },
            "marker": {
             "colorbar": {
              "outlinewidth": 0,
              "ticks": ""
             }
            },
            "type": "scatter3d"
           }
          ],
          "scattercarpet": [
           {
            "marker": {
             "colorbar": {
              "outlinewidth": 0,
              "ticks": ""
             }
            },
            "type": "scattercarpet"
           }
          ],
          "scattergeo": [
           {
            "marker": {
             "colorbar": {
              "outlinewidth": 0,
              "ticks": ""
             }
            },
            "type": "scattergeo"
           }
          ],
          "scattergl": [
           {
            "marker": {
             "colorbar": {
              "outlinewidth": 0,
              "ticks": ""
             }
            },
            "type": "scattergl"
           }
          ],
          "scattermapbox": [
           {
            "marker": {
             "colorbar": {
              "outlinewidth": 0,
              "ticks": ""
             }
            },
            "type": "scattermapbox"
           }
          ],
          "scatterpolar": [
           {
            "marker": {
             "colorbar": {
              "outlinewidth": 0,
              "ticks": ""
             }
            },
            "type": "scatterpolar"
           }
          ],
          "scatterpolargl": [
           {
            "marker": {
             "colorbar": {
              "outlinewidth": 0,
              "ticks": ""
             }
            },
            "type": "scatterpolargl"
           }
          ],
          "scatterternary": [
           {
            "marker": {
             "colorbar": {
              "outlinewidth": 0,
              "ticks": ""
             }
            },
            "type": "scatterternary"
           }
          ],
          "surface": [
           {
            "colorbar": {
             "outlinewidth": 0,
             "ticks": ""
            },
            "colorscale": [
             [
              0,
              "#0d0887"
             ],
             [
              0.1111111111111111,
              "#46039f"
             ],
             [
              0.2222222222222222,
              "#7201a8"
             ],
             [
              0.3333333333333333,
              "#9c179e"
             ],
             [
              0.4444444444444444,
              "#bd3786"
             ],
             [
              0.5555555555555556,
              "#d8576b"
             ],
             [
              0.6666666666666666,
              "#ed7953"
             ],
             [
              0.7777777777777778,
              "#fb9f3a"
             ],
             [
              0.8888888888888888,
              "#fdca26"
             ],
             [
              1,
              "#f0f921"
             ]
            ],
            "type": "surface"
           }
          ],
          "table": [
           {
            "cells": {
             "fill": {
              "color": "#EBF0F8"
             },
             "line": {
              "color": "white"
             }
            },
            "header": {
             "fill": {
              "color": "#C8D4E3"
             },
             "line": {
              "color": "white"
             }
            },
            "type": "table"
           }
          ]
         },
         "layout": {
          "annotationdefaults": {
           "arrowcolor": "#2a3f5f",
           "arrowhead": 0,
           "arrowwidth": 1
          },
          "coloraxis": {
           "colorbar": {
            "outlinewidth": 0,
            "ticks": ""
           }
          },
          "colorscale": {
           "diverging": [
            [
             0,
             "#8e0152"
            ],
            [
             0.1,
             "#c51b7d"
            ],
            [
             0.2,
             "#de77ae"
            ],
            [
             0.3,
             "#f1b6da"
            ],
            [
             0.4,
             "#fde0ef"
            ],
            [
             0.5,
             "#f7f7f7"
            ],
            [
             0.6,
             "#e6f5d0"
            ],
            [
             0.7,
             "#b8e186"
            ],
            [
             0.8,
             "#7fbc41"
            ],
            [
             0.9,
             "#4d9221"
            ],
            [
             1,
             "#276419"
            ]
           ],
           "sequential": [
            [
             0,
             "#0d0887"
            ],
            [
             0.1111111111111111,
             "#46039f"
            ],
            [
             0.2222222222222222,
             "#7201a8"
            ],
            [
             0.3333333333333333,
             "#9c179e"
            ],
            [
             0.4444444444444444,
             "#bd3786"
            ],
            [
             0.5555555555555556,
             "#d8576b"
            ],
            [
             0.6666666666666666,
             "#ed7953"
            ],
            [
             0.7777777777777778,
             "#fb9f3a"
            ],
            [
             0.8888888888888888,
             "#fdca26"
            ],
            [
             1,
             "#f0f921"
            ]
           ],
           "sequentialminus": [
            [
             0,
             "#0d0887"
            ],
            [
             0.1111111111111111,
             "#46039f"
            ],
            [
             0.2222222222222222,
             "#7201a8"
            ],
            [
             0.3333333333333333,
             "#9c179e"
            ],
            [
             0.4444444444444444,
             "#bd3786"
            ],
            [
             0.5555555555555556,
             "#d8576b"
            ],
            [
             0.6666666666666666,
             "#ed7953"
            ],
            [
             0.7777777777777778,
             "#fb9f3a"
            ],
            [
             0.8888888888888888,
             "#fdca26"
            ],
            [
             1,
             "#f0f921"
            ]
           ]
          },
          "colorway": [
           "#636efa",
           "#EF553B",
           "#00cc96",
           "#ab63fa",
           "#FFA15A",
           "#19d3f3",
           "#FF6692",
           "#B6E880",
           "#FF97FF",
           "#FECB52"
          ],
          "font": {
           "color": "#2a3f5f"
          },
          "geo": {
           "bgcolor": "white",
           "lakecolor": "white",
           "landcolor": "#E5ECF6",
           "showlakes": true,
           "showland": true,
           "subunitcolor": "white"
          },
          "hoverlabel": {
           "align": "left"
          },
          "hovermode": "closest",
          "mapbox": {
           "style": "light"
          },
          "paper_bgcolor": "white",
          "plot_bgcolor": "#E5ECF6",
          "polar": {
           "angularaxis": {
            "gridcolor": "white",
            "linecolor": "white",
            "ticks": ""
           },
           "bgcolor": "#E5ECF6",
           "radialaxis": {
            "gridcolor": "white",
            "linecolor": "white",
            "ticks": ""
           }
          },
          "scene": {
           "xaxis": {
            "backgroundcolor": "#E5ECF6",
            "gridcolor": "white",
            "gridwidth": 2,
            "linecolor": "white",
            "showbackground": true,
            "ticks": "",
            "zerolinecolor": "white"
           },
           "yaxis": {
            "backgroundcolor": "#E5ECF6",
            "gridcolor": "white",
            "gridwidth": 2,
            "linecolor": "white",
            "showbackground": true,
            "ticks": "",
            "zerolinecolor": "white"
           },
           "zaxis": {
            "backgroundcolor": "#E5ECF6",
            "gridcolor": "white",
            "gridwidth": 2,
            "linecolor": "white",
            "showbackground": true,
            "ticks": "",
            "zerolinecolor": "white"
           }
          },
          "shapedefaults": {
           "line": {
            "color": "#2a3f5f"
           }
          },
          "ternary": {
           "aaxis": {
            "gridcolor": "white",
            "linecolor": "white",
            "ticks": ""
           },
           "baxis": {
            "gridcolor": "white",
            "linecolor": "white",
            "ticks": ""
           },
           "bgcolor": "#E5ECF6",
           "caxis": {
            "gridcolor": "white",
            "linecolor": "white",
            "ticks": ""
           }
          },
          "title": {
           "x": 0.05
          },
          "xaxis": {
           "automargin": true,
           "gridcolor": "white",
           "linecolor": "white",
           "ticks": "",
           "title": {
            "standoff": 15
           },
           "zerolinecolor": "white",
           "zerolinewidth": 2
          },
          "yaxis": {
           "automargin": true,
           "gridcolor": "white",
           "linecolor": "white",
           "ticks": "",
           "title": {
            "standoff": 15
           },
           "zerolinecolor": "white",
           "zerolinewidth": 2
          }
         }
        },
        "title": {
         "text": "Confirmed Cases in the US as of April 08, 2020",
         "x": 0.5
        }
       }
      },
      "text/html": [
       "<div>\n",
       "        \n",
       "        \n",
       "            <div id=\"cbf27aa3-29d4-4447-9c05-f1043d93ac7f\" class=\"plotly-graph-div\" style=\"height:525px; width:100%;\"></div>\n",
       "            <script type=\"text/javascript\">\n",
       "                require([\"plotly\"], function(Plotly) {\n",
       "                    window.PLOTLYENV=window.PLOTLYENV || {};\n",
       "                    \n",
       "                if (document.getElementById(\"cbf27aa3-29d4-4447-9c05-f1043d93ac7f\")) {\n",
       "                    Plotly.newPlot(\n",
       "                        'cbf27aa3-29d4-4447-9c05-f1043d93ac7f',\n",
       "                        [{\"autocolorscale\": false, \"colorscale\": [[0.0, \"rgb(255,245,240)\"], [0.125, \"rgb(254,224,210)\"], [0.25, \"rgb(252,187,161)\"], [0.375, \"rgb(252,146,114)\"], [0.5, \"rgb(251,106,74)\"], [0.625, \"rgb(239,59,44)\"], [0.75, \"rgb(203,24,29)\"], [0.875, \"rgb(165,15,21)\"], [1.0, \"rgb(103,0,13)\"]], \"locationmode\": \"USA-states\", \"locations\": [\"WY\", \"SC\", \"MD\", \"TX\", \"FL\", \"ID\", \"NE\", \"OH\", \"MI\", \"UT\", \"OR\", \"KS\", \"HI\", \"WV\", \"AK\", \"CO\", \"NM\", \"ME\", \"MS\", \"AR\", \"MN\", \"KY\", \"CT\", \"NJ\", \"WA\", \"ND\", \"WI\", \"GA\", \"LA\", \"RI\", \"IA\", \"VA\", \"NY\", \"VT\", \"DE\", \"SD\", \"dc\", \"PA\", \"MT\", \"IL\", \"NV\", \"IN\", \"AZ\", \"CA\", \"NH\", \"AL\", \"MO\", \"TN\", \"OK\", \"MA\", \"NC\"], \"type\": \"choropleth\", \"z\": [221, 2417, 4371, 8974, 14739, 1210, 490, 4782, 18852, 1752, 1181, 905, 408, 412, 211, 5429, 794, 519, 1915, 997, 1069, 1289, 7781, 44416, 8682, 237, 2578, 9156, 16284, 1229, 1048, 3333, 140081, 575, 928, 320, 1211, 14582, 319, 13549, 2101, 5507, 2575, 17540, 747, 2197, 3037, 4010, 1472, 15202, 3220]}],\n",
       "                        {\"geo\": {\"projection\": {\"type\": \"albers usa\"}, \"scope\": \"usa\", \"showlakes\": false}, \"template\": {\"data\": {\"bar\": [{\"error_x\": {\"color\": \"#2a3f5f\"}, \"error_y\": {\"color\": \"#2a3f5f\"}, \"marker\": {\"line\": {\"color\": \"#E5ECF6\", \"width\": 0.5}}, \"type\": \"bar\"}], \"barpolar\": [{\"marker\": {\"line\": {\"color\": \"#E5ECF6\", \"width\": 0.5}}, \"type\": \"barpolar\"}], \"carpet\": [{\"aaxis\": {\"endlinecolor\": \"#2a3f5f\", \"gridcolor\": \"white\", \"linecolor\": \"white\", \"minorgridcolor\": \"white\", \"startlinecolor\": \"#2a3f5f\"}, \"baxis\": {\"endlinecolor\": \"#2a3f5f\", \"gridcolor\": \"white\", \"linecolor\": \"white\", \"minorgridcolor\": \"white\", \"startlinecolor\": \"#2a3f5f\"}, \"type\": \"carpet\"}], \"choropleth\": [{\"colorbar\": {\"outlinewidth\": 0, \"ticks\": \"\"}, \"type\": \"choropleth\"}], \"contour\": [{\"colorbar\": {\"outlinewidth\": 0, \"ticks\": \"\"}, \"colorscale\": [[0.0, \"#0d0887\"], [0.1111111111111111, \"#46039f\"], [0.2222222222222222, \"#7201a8\"], [0.3333333333333333, \"#9c179e\"], [0.4444444444444444, \"#bd3786\"], [0.5555555555555556, \"#d8576b\"], [0.6666666666666666, \"#ed7953\"], [0.7777777777777778, \"#fb9f3a\"], [0.8888888888888888, \"#fdca26\"], [1.0, \"#f0f921\"]], \"type\": \"contour\"}], \"contourcarpet\": [{\"colorbar\": {\"outlinewidth\": 0, \"ticks\": \"\"}, \"type\": \"contourcarpet\"}], \"heatmap\": [{\"colorbar\": {\"outlinewidth\": 0, \"ticks\": \"\"}, \"colorscale\": [[0.0, \"#0d0887\"], [0.1111111111111111, \"#46039f\"], [0.2222222222222222, \"#7201a8\"], [0.3333333333333333, \"#9c179e\"], [0.4444444444444444, \"#bd3786\"], [0.5555555555555556, \"#d8576b\"], [0.6666666666666666, \"#ed7953\"], [0.7777777777777778, \"#fb9f3a\"], [0.8888888888888888, \"#fdca26\"], [1.0, \"#f0f921\"]], \"type\": \"heatmap\"}], \"heatmapgl\": [{\"colorbar\": {\"outlinewidth\": 0, \"ticks\": \"\"}, \"colorscale\": [[0.0, \"#0d0887\"], [0.1111111111111111, \"#46039f\"], [0.2222222222222222, \"#7201a8\"], [0.3333333333333333, \"#9c179e\"], [0.4444444444444444, \"#bd3786\"], [0.5555555555555556, \"#d8576b\"], [0.6666666666666666, \"#ed7953\"], [0.7777777777777778, \"#fb9f3a\"], [0.8888888888888888, \"#fdca26\"], [1.0, \"#f0f921\"]], \"type\": \"heatmapgl\"}], \"histogram\": [{\"marker\": {\"colorbar\": {\"outlinewidth\": 0, \"ticks\": \"\"}}, \"type\": \"histogram\"}], \"histogram2d\": [{\"colorbar\": {\"outlinewidth\": 0, \"ticks\": \"\"}, \"colorscale\": [[0.0, \"#0d0887\"], [0.1111111111111111, \"#46039f\"], [0.2222222222222222, \"#7201a8\"], [0.3333333333333333, \"#9c179e\"], [0.4444444444444444, \"#bd3786\"], [0.5555555555555556, \"#d8576b\"], [0.6666666666666666, \"#ed7953\"], [0.7777777777777778, \"#fb9f3a\"], [0.8888888888888888, \"#fdca26\"], [1.0, \"#f0f921\"]], \"type\": \"histogram2d\"}], \"histogram2dcontour\": [{\"colorbar\": {\"outlinewidth\": 0, \"ticks\": \"\"}, \"colorscale\": [[0.0, \"#0d0887\"], [0.1111111111111111, \"#46039f\"], [0.2222222222222222, \"#7201a8\"], [0.3333333333333333, \"#9c179e\"], [0.4444444444444444, \"#bd3786\"], [0.5555555555555556, \"#d8576b\"], [0.6666666666666666, \"#ed7953\"], [0.7777777777777778, \"#fb9f3a\"], [0.8888888888888888, \"#fdca26\"], [1.0, \"#f0f921\"]], \"type\": \"histogram2dcontour\"}], \"mesh3d\": [{\"colorbar\": {\"outlinewidth\": 0, \"ticks\": \"\"}, \"type\": \"mesh3d\"}], \"parcoords\": [{\"line\": {\"colorbar\": {\"outlinewidth\": 0, \"ticks\": \"\"}}, \"type\": \"parcoords\"}], \"pie\": [{\"automargin\": true, \"type\": \"pie\"}], \"scatter\": [{\"marker\": {\"colorbar\": {\"outlinewidth\": 0, \"ticks\": \"\"}}, \"type\": \"scatter\"}], \"scatter3d\": [{\"line\": {\"colorbar\": {\"outlinewidth\": 0, \"ticks\": \"\"}}, \"marker\": {\"colorbar\": {\"outlinewidth\": 0, \"ticks\": \"\"}}, \"type\": \"scatter3d\"}], \"scattercarpet\": [{\"marker\": {\"colorbar\": {\"outlinewidth\": 0, \"ticks\": \"\"}}, \"type\": \"scattercarpet\"}], \"scattergeo\": [{\"marker\": {\"colorbar\": {\"outlinewidth\": 0, \"ticks\": \"\"}}, \"type\": \"scattergeo\"}], \"scattergl\": [{\"marker\": {\"colorbar\": {\"outlinewidth\": 0, \"ticks\": \"\"}}, \"type\": \"scattergl\"}], \"scattermapbox\": [{\"marker\": {\"colorbar\": {\"outlinewidth\": 0, \"ticks\": \"\"}}, \"type\": \"scattermapbox\"}], \"scatterpolar\": [{\"marker\": {\"colorbar\": {\"outlinewidth\": 0, \"ticks\": \"\"}}, \"type\": \"scatterpolar\"}], \"scatterpolargl\": [{\"marker\": {\"colorbar\": {\"outlinewidth\": 0, \"ticks\": \"\"}}, \"type\": \"scatterpolargl\"}], \"scatterternary\": [{\"marker\": {\"colorbar\": {\"outlinewidth\": 0, \"ticks\": \"\"}}, \"type\": \"scatterternary\"}], \"surface\": [{\"colorbar\": {\"outlinewidth\": 0, \"ticks\": \"\"}, \"colorscale\": [[0.0, \"#0d0887\"], [0.1111111111111111, \"#46039f\"], [0.2222222222222222, \"#7201a8\"], [0.3333333333333333, \"#9c179e\"], [0.4444444444444444, \"#bd3786\"], [0.5555555555555556, \"#d8576b\"], [0.6666666666666666, \"#ed7953\"], [0.7777777777777778, \"#fb9f3a\"], [0.8888888888888888, \"#fdca26\"], [1.0, \"#f0f921\"]], \"type\": \"surface\"}], \"table\": [{\"cells\": {\"fill\": {\"color\": \"#EBF0F8\"}, \"line\": {\"color\": \"white\"}}, \"header\": {\"fill\": {\"color\": \"#C8D4E3\"}, \"line\": {\"color\": \"white\"}}, \"type\": \"table\"}]}, \"layout\": {\"annotationdefaults\": {\"arrowcolor\": \"#2a3f5f\", \"arrowhead\": 0, \"arrowwidth\": 1}, \"coloraxis\": {\"colorbar\": {\"outlinewidth\": 0, \"ticks\": \"\"}}, \"colorscale\": {\"diverging\": [[0, \"#8e0152\"], [0.1, \"#c51b7d\"], [0.2, \"#de77ae\"], [0.3, \"#f1b6da\"], [0.4, \"#fde0ef\"], [0.5, \"#f7f7f7\"], [0.6, \"#e6f5d0\"], [0.7, \"#b8e186\"], [0.8, \"#7fbc41\"], [0.9, \"#4d9221\"], [1, \"#276419\"]], \"sequential\": [[0.0, \"#0d0887\"], [0.1111111111111111, \"#46039f\"], [0.2222222222222222, \"#7201a8\"], [0.3333333333333333, \"#9c179e\"], [0.4444444444444444, \"#bd3786\"], [0.5555555555555556, \"#d8576b\"], [0.6666666666666666, \"#ed7953\"], [0.7777777777777778, \"#fb9f3a\"], [0.8888888888888888, \"#fdca26\"], [1.0, \"#f0f921\"]], \"sequentialminus\": [[0.0, \"#0d0887\"], [0.1111111111111111, \"#46039f\"], [0.2222222222222222, \"#7201a8\"], [0.3333333333333333, \"#9c179e\"], [0.4444444444444444, \"#bd3786\"], [0.5555555555555556, \"#d8576b\"], [0.6666666666666666, \"#ed7953\"], [0.7777777777777778, \"#fb9f3a\"], [0.8888888888888888, \"#fdca26\"], [1.0, \"#f0f921\"]]}, \"colorway\": [\"#636efa\", \"#EF553B\", \"#00cc96\", \"#ab63fa\", \"#FFA15A\", \"#19d3f3\", \"#FF6692\", \"#B6E880\", \"#FF97FF\", \"#FECB52\"], \"font\": {\"color\": \"#2a3f5f\"}, \"geo\": {\"bgcolor\": \"white\", \"lakecolor\": \"white\", \"landcolor\": \"#E5ECF6\", \"showlakes\": true, \"showland\": true, \"subunitcolor\": \"white\"}, \"hoverlabel\": {\"align\": \"left\"}, \"hovermode\": \"closest\", \"mapbox\": {\"style\": \"light\"}, \"paper_bgcolor\": \"white\", \"plot_bgcolor\": \"#E5ECF6\", \"polar\": {\"angularaxis\": {\"gridcolor\": \"white\", \"linecolor\": \"white\", \"ticks\": \"\"}, \"bgcolor\": \"#E5ECF6\", \"radialaxis\": {\"gridcolor\": \"white\", \"linecolor\": \"white\", \"ticks\": \"\"}}, \"scene\": {\"xaxis\": {\"backgroundcolor\": \"#E5ECF6\", \"gridcolor\": \"white\", \"gridwidth\": 2, \"linecolor\": \"white\", \"showbackground\": true, \"ticks\": \"\", \"zerolinecolor\": \"white\"}, \"yaxis\": {\"backgroundcolor\": \"#E5ECF6\", \"gridcolor\": \"white\", \"gridwidth\": 2, \"linecolor\": \"white\", \"showbackground\": true, \"ticks\": \"\", \"zerolinecolor\": \"white\"}, \"zaxis\": {\"backgroundcolor\": \"#E5ECF6\", \"gridcolor\": \"white\", \"gridwidth\": 2, \"linecolor\": \"white\", \"showbackground\": true, \"ticks\": \"\", \"zerolinecolor\": \"white\"}}, \"shapedefaults\": {\"line\": {\"color\": \"#2a3f5f\"}}, \"ternary\": {\"aaxis\": {\"gridcolor\": \"white\", \"linecolor\": \"white\", \"ticks\": \"\"}, \"baxis\": {\"gridcolor\": \"white\", \"linecolor\": \"white\", \"ticks\": \"\"}, \"bgcolor\": \"#E5ECF6\", \"caxis\": {\"gridcolor\": \"white\", \"linecolor\": \"white\", \"ticks\": \"\"}}, \"title\": {\"x\": 0.05}, \"xaxis\": {\"automargin\": true, \"gridcolor\": \"white\", \"linecolor\": \"white\", \"ticks\": \"\", \"title\": {\"standoff\": 15}, \"zerolinecolor\": \"white\", \"zerolinewidth\": 2}, \"yaxis\": {\"automargin\": true, \"gridcolor\": \"white\", \"linecolor\": \"white\", \"ticks\": \"\", \"title\": {\"standoff\": 15}, \"zerolinecolor\": \"white\", \"zerolinewidth\": 2}}}, \"title\": {\"text\": \"Confirmed Cases in the US as of April 08, 2020\", \"x\": 0.5}},\n",
       "                        {\"responsive\": true}\n",
       "                    ).then(function(){\n",
       "                            \n",
       "var gd = document.getElementById('cbf27aa3-29d4-4447-9c05-f1043d93ac7f');\n",
       "var x = new MutationObserver(function (mutations, observer) {{\n",
       "        var display = window.getComputedStyle(gd).display;\n",
       "        if (!display || display === 'none') {{\n",
       "            console.log([gd, 'removed!']);\n",
       "            Plotly.purge(gd);\n",
       "            observer.disconnect();\n",
       "        }}\n",
       "}});\n",
       "\n",
       "// Listen for the removal of the full notebook cells\n",
       "var notebookContainer = gd.closest('#notebook-container');\n",
       "if (notebookContainer) {{\n",
       "    x.observe(notebookContainer, {childList: true});\n",
       "}}\n",
       "\n",
       "// Listen for the clearing of the current output cell\n",
       "var outputEl = gd.closest('.output');\n",
       "if (outputEl) {{\n",
       "    x.observe(outputEl, {childList: true});\n",
       "}}\n",
       "\n",
       "                        })\n",
       "                };\n",
       "                });\n",
       "            </script>\n",
       "        </div>"
      ]
     },
     "metadata": {},
     "output_type": "display_data"
    }
   ],
   "source": [
    "# create static choropleth map\n",
    "fig = go.Figure(\n",
    "    data = go.Choropleth(\n",
    "    locations = df_states['state_code'],\n",
    "    locationmode = 'USA-states',\n",
    "    z = df_states['cases'],\n",
    "    colorscale = 'Reds',\n",
    "    autocolorscale = False,)\n",
    ")\n",
    "\n",
    "today = dt.date.today()\n",
    "maptitle = 'Confirmed Cases in the US as of '+ today.strftime(\"%B %d, %Y\")\n",
    "\n",
    "fig.update_layout(\n",
    "    title_text = maptitle,\n",
    "    title_x = 0.5,\n",
    "    geo = dict(\n",
    "        scope = 'usa',\n",
    "        projection = go.layout.geo.Projection(type = 'albers usa'),\n",
    "        showlakes = False),\n",
    ")\n",
    "\n",
    "fig.show()"
   ]
  },
  {
   "cell_type": "code",
   "execution_count": 6,
   "metadata": {},
   "outputs": [],
   "source": [
    "# re-arrange data\n",
    "df_statedate = df.groupby(['date','state']).sum().reset_index()\n",
    "notstates = ['Guam','Puerto Rico','Northern Mariana Islands','Virgin Islands']\n",
    "df_statedate = df_statedate[~df_statedate['state'].isin(notstates)]\n",
    "df_statedate['state_code'] = df_statedate['state'].apply(lambda x : state_codes[x])"
   ]
  },
  {
   "cell_type": "code",
   "execution_count": 7,
   "metadata": {},
   "outputs": [
    {
     "data": {
      "application/vnd.plotly.v1+json": {
       "config": {
        "plotlyServerURL": "https://plot.ly"
       },
       "data": [
        {
         "coloraxis": "coloraxis",
         "geo": "geo",
         "hovertemplate": "<b>%{hovertext}</b><br><br>date=2020-01-21<br>state_code=%{location}<br>cases=%{z}<extra></extra>",
         "hovertext": [
          "WA"
         ],
         "locationmode": "USA-states",
         "locations": [
          "WA"
         ],
         "name": "",
         "type": "choropleth",
         "z": [
          1
         ]
        }
       ],
       "frames": [
        {
         "data": [
          {
           "coloraxis": "coloraxis",
           "geo": "geo",
           "hovertemplate": "<b>%{hovertext}</b><br><br>date=2020-01-21<br>state_code=%{location}<br>cases=%{z}<extra></extra>",
           "hovertext": [
            "WA"
           ],
           "locationmode": "USA-states",
           "locations": [
            "WA"
           ],
           "name": "",
           "type": "choropleth",
           "z": [
            1
           ]
          }
         ],
         "name": "2020-01-21"
        },
        {
         "data": [
          {
           "coloraxis": "coloraxis",
           "geo": "geo",
           "hovertemplate": "<b>%{hovertext}</b><br><br>date=2020-01-22<br>state_code=%{location}<br>cases=%{z}<extra></extra>",
           "hovertext": [
            "WA"
           ],
           "locationmode": "USA-states",
           "locations": [
            "WA"
           ],
           "name": "",
           "type": "choropleth",
           "z": [
            1
           ]
          }
         ],
         "name": "2020-01-22"
        },
        {
         "data": [
          {
           "coloraxis": "coloraxis",
           "geo": "geo",
           "hovertemplate": "<b>%{hovertext}</b><br><br>date=2020-01-23<br>state_code=%{location}<br>cases=%{z}<extra></extra>",
           "hovertext": [
            "WA"
           ],
           "locationmode": "USA-states",
           "locations": [
            "WA"
           ],
           "name": "",
           "type": "choropleth",
           "z": [
            1
           ]
          }
         ],
         "name": "2020-01-23"
        },
        {
         "data": [
          {
           "coloraxis": "coloraxis",
           "geo": "geo",
           "hovertemplate": "<b>%{hovertext}</b><br><br>date=2020-01-24<br>state_code=%{location}<br>cases=%{z}<extra></extra>",
           "hovertext": [
            "IL",
            "WA"
           ],
           "locationmode": "USA-states",
           "locations": [
            "IL",
            "WA"
           ],
           "name": "",
           "type": "choropleth",
           "z": [
            1,
            1
           ]
          }
         ],
         "name": "2020-01-24"
        },
        {
         "data": [
          {
           "coloraxis": "coloraxis",
           "geo": "geo",
           "hovertemplate": "<b>%{hovertext}</b><br><br>date=2020-01-25<br>state_code=%{location}<br>cases=%{z}<extra></extra>",
           "hovertext": [
            "CA",
            "IL",
            "WA"
           ],
           "locationmode": "USA-states",
           "locations": [
            "CA",
            "IL",
            "WA"
           ],
           "name": "",
           "type": "choropleth",
           "z": [
            1,
            1,
            1
           ]
          }
         ],
         "name": "2020-01-25"
        },
        {
         "data": [
          {
           "coloraxis": "coloraxis",
           "geo": "geo",
           "hovertemplate": "<b>%{hovertext}</b><br><br>date=2020-01-26<br>state_code=%{location}<br>cases=%{z}<extra></extra>",
           "hovertext": [
            "AZ",
            "CA",
            "IL",
            "WA"
           ],
           "locationmode": "USA-states",
           "locations": [
            "AZ",
            "CA",
            "IL",
            "WA"
           ],
           "name": "",
           "type": "choropleth",
           "z": [
            1,
            2,
            1,
            1
           ]
          }
         ],
         "name": "2020-01-26"
        },
        {
         "data": [
          {
           "coloraxis": "coloraxis",
           "geo": "geo",
           "hovertemplate": "<b>%{hovertext}</b><br><br>date=2020-01-27<br>state_code=%{location}<br>cases=%{z}<extra></extra>",
           "hovertext": [
            "AZ",
            "CA",
            "IL",
            "WA"
           ],
           "locationmode": "USA-states",
           "locations": [
            "AZ",
            "CA",
            "IL",
            "WA"
           ],
           "name": "",
           "type": "choropleth",
           "z": [
            1,
            2,
            1,
            1
           ]
          }
         ],
         "name": "2020-01-27"
        },
        {
         "data": [
          {
           "coloraxis": "coloraxis",
           "geo": "geo",
           "hovertemplate": "<b>%{hovertext}</b><br><br>date=2020-01-28<br>state_code=%{location}<br>cases=%{z}<extra></extra>",
           "hovertext": [
            "AZ",
            "CA",
            "IL",
            "WA"
           ],
           "locationmode": "USA-states",
           "locations": [
            "AZ",
            "CA",
            "IL",
            "WA"
           ],
           "name": "",
           "type": "choropleth",
           "z": [
            1,
            2,
            1,
            1
           ]
          }
         ],
         "name": "2020-01-28"
        },
        {
         "data": [
          {
           "coloraxis": "coloraxis",
           "geo": "geo",
           "hovertemplate": "<b>%{hovertext}</b><br><br>date=2020-01-29<br>state_code=%{location}<br>cases=%{z}<extra></extra>",
           "hovertext": [
            "AZ",
            "CA",
            "IL",
            "WA"
           ],
           "locationmode": "USA-states",
           "locations": [
            "AZ",
            "CA",
            "IL",
            "WA"
           ],
           "name": "",
           "type": "choropleth",
           "z": [
            1,
            2,
            1,
            1
           ]
          }
         ],
         "name": "2020-01-29"
        },
        {
         "data": [
          {
           "coloraxis": "coloraxis",
           "geo": "geo",
           "hovertemplate": "<b>%{hovertext}</b><br><br>date=2020-01-30<br>state_code=%{location}<br>cases=%{z}<extra></extra>",
           "hovertext": [
            "AZ",
            "CA",
            "IL",
            "WA"
           ],
           "locationmode": "USA-states",
           "locations": [
            "AZ",
            "CA",
            "IL",
            "WA"
           ],
           "name": "",
           "type": "choropleth",
           "z": [
            1,
            2,
            2,
            1
           ]
          }
         ],
         "name": "2020-01-30"
        },
        {
         "data": [
          {
           "coloraxis": "coloraxis",
           "geo": "geo",
           "hovertemplate": "<b>%{hovertext}</b><br><br>date=2020-01-31<br>state_code=%{location}<br>cases=%{z}<extra></extra>",
           "hovertext": [
            "AZ",
            "CA",
            "IL",
            "WA"
           ],
           "locationmode": "USA-states",
           "locations": [
            "AZ",
            "CA",
            "IL",
            "WA"
           ],
           "name": "",
           "type": "choropleth",
           "z": [
            1,
            3,
            2,
            1
           ]
          }
         ],
         "name": "2020-01-31"
        },
        {
         "data": [
          {
           "coloraxis": "coloraxis",
           "geo": "geo",
           "hovertemplate": "<b>%{hovertext}</b><br><br>date=2020-02-01<br>state_code=%{location}<br>cases=%{z}<extra></extra>",
           "hovertext": [
            "AZ",
            "CA",
            "IL",
            "MA",
            "WA"
           ],
           "locationmode": "USA-states",
           "locations": [
            "AZ",
            "CA",
            "IL",
            "MA",
            "WA"
           ],
           "name": "",
           "type": "choropleth",
           "z": [
            1,
            3,
            2,
            1,
            1
           ]
          }
         ],
         "name": "2020-02-01"
        },
        {
         "data": [
          {
           "coloraxis": "coloraxis",
           "geo": "geo",
           "hovertemplate": "<b>%{hovertext}</b><br><br>date=2020-02-02<br>state_code=%{location}<br>cases=%{z}<extra></extra>",
           "hovertext": [
            "AZ",
            "CA",
            "IL",
            "MA",
            "WA"
           ],
           "locationmode": "USA-states",
           "locations": [
            "AZ",
            "CA",
            "IL",
            "MA",
            "WA"
           ],
           "name": "",
           "type": "choropleth",
           "z": [
            1,
            6,
            2,
            1,
            1
           ]
          }
         ],
         "name": "2020-02-02"
        },
        {
         "data": [
          {
           "coloraxis": "coloraxis",
           "geo": "geo",
           "hovertemplate": "<b>%{hovertext}</b><br><br>date=2020-02-03<br>state_code=%{location}<br>cases=%{z}<extra></extra>",
           "hovertext": [
            "AZ",
            "CA",
            "IL",
            "MA",
            "WA"
           ],
           "locationmode": "USA-states",
           "locations": [
            "AZ",
            "CA",
            "IL",
            "MA",
            "WA"
           ],
           "name": "",
           "type": "choropleth",
           "z": [
            1,
            6,
            2,
            1,
            1
           ]
          }
         ],
         "name": "2020-02-03"
        },
        {
         "data": [
          {
           "coloraxis": "coloraxis",
           "geo": "geo",
           "hovertemplate": "<b>%{hovertext}</b><br><br>date=2020-02-04<br>state_code=%{location}<br>cases=%{z}<extra></extra>",
           "hovertext": [
            "AZ",
            "CA",
            "IL",
            "MA",
            "WA"
           ],
           "locationmode": "USA-states",
           "locations": [
            "AZ",
            "CA",
            "IL",
            "MA",
            "WA"
           ],
           "name": "",
           "type": "choropleth",
           "z": [
            1,
            6,
            2,
            1,
            1
           ]
          }
         ],
         "name": "2020-02-04"
        },
        {
         "data": [
          {
           "coloraxis": "coloraxis",
           "geo": "geo",
           "hovertemplate": "<b>%{hovertext}</b><br><br>date=2020-02-05<br>state_code=%{location}<br>cases=%{z}<extra></extra>",
           "hovertext": [
            "AZ",
            "CA",
            "IL",
            "MA",
            "WA",
            "WI"
           ],
           "locationmode": "USA-states",
           "locations": [
            "AZ",
            "CA",
            "IL",
            "MA",
            "WA",
            "WI"
           ],
           "name": "",
           "type": "choropleth",
           "z": [
            1,
            6,
            2,
            1,
            1,
            1
           ]
          }
         ],
         "name": "2020-02-05"
        },
        {
         "data": [
          {
           "coloraxis": "coloraxis",
           "geo": "geo",
           "hovertemplate": "<b>%{hovertext}</b><br><br>date=2020-02-06<br>state_code=%{location}<br>cases=%{z}<extra></extra>",
           "hovertext": [
            "AZ",
            "CA",
            "IL",
            "MA",
            "WA",
            "WI"
           ],
           "locationmode": "USA-states",
           "locations": [
            "AZ",
            "CA",
            "IL",
            "MA",
            "WA",
            "WI"
           ],
           "name": "",
           "type": "choropleth",
           "z": [
            1,
            6,
            2,
            1,
            1,
            1
           ]
          }
         ],
         "name": "2020-02-06"
        },
        {
         "data": [
          {
           "coloraxis": "coloraxis",
           "geo": "geo",
           "hovertemplate": "<b>%{hovertext}</b><br><br>date=2020-02-07<br>state_code=%{location}<br>cases=%{z}<extra></extra>",
           "hovertext": [
            "AZ",
            "CA",
            "IL",
            "MA",
            "WA",
            "WI"
           ],
           "locationmode": "USA-states",
           "locations": [
            "AZ",
            "CA",
            "IL",
            "MA",
            "WA",
            "WI"
           ],
           "name": "",
           "type": "choropleth",
           "z": [
            1,
            6,
            2,
            1,
            1,
            1
           ]
          }
         ],
         "name": "2020-02-07"
        },
        {
         "data": [
          {
           "coloraxis": "coloraxis",
           "geo": "geo",
           "hovertemplate": "<b>%{hovertext}</b><br><br>date=2020-02-08<br>state_code=%{location}<br>cases=%{z}<extra></extra>",
           "hovertext": [
            "AZ",
            "CA",
            "IL",
            "MA",
            "WA",
            "WI"
           ],
           "locationmode": "USA-states",
           "locations": [
            "AZ",
            "CA",
            "IL",
            "MA",
            "WA",
            "WI"
           ],
           "name": "",
           "type": "choropleth",
           "z": [
            1,
            6,
            2,
            1,
            1,
            1
           ]
          }
         ],
         "name": "2020-02-08"
        },
        {
         "data": [
          {
           "coloraxis": "coloraxis",
           "geo": "geo",
           "hovertemplate": "<b>%{hovertext}</b><br><br>date=2020-02-09<br>state_code=%{location}<br>cases=%{z}<extra></extra>",
           "hovertext": [
            "AZ",
            "CA",
            "IL",
            "MA",
            "WA",
            "WI"
           ],
           "locationmode": "USA-states",
           "locations": [
            "AZ",
            "CA",
            "IL",
            "MA",
            "WA",
            "WI"
           ],
           "name": "",
           "type": "choropleth",
           "z": [
            1,
            6,
            2,
            1,
            1,
            1
           ]
          }
         ],
         "name": "2020-02-09"
        },
        {
         "data": [
          {
           "coloraxis": "coloraxis",
           "geo": "geo",
           "hovertemplate": "<b>%{hovertext}</b><br><br>date=2020-02-10<br>state_code=%{location}<br>cases=%{z}<extra></extra>",
           "hovertext": [
            "AZ",
            "CA",
            "IL",
            "MA",
            "WA",
            "WI"
           ],
           "locationmode": "USA-states",
           "locations": [
            "AZ",
            "CA",
            "IL",
            "MA",
            "WA",
            "WI"
           ],
           "name": "",
           "type": "choropleth",
           "z": [
            1,
            7,
            2,
            1,
            1,
            1
           ]
          }
         ],
         "name": "2020-02-10"
        },
        {
         "data": [
          {
           "coloraxis": "coloraxis",
           "geo": "geo",
           "hovertemplate": "<b>%{hovertext}</b><br><br>date=2020-02-11<br>state_code=%{location}<br>cases=%{z}<extra></extra>",
           "hovertext": [
            "AZ",
            "CA",
            "IL",
            "MA",
            "WA",
            "WI"
           ],
           "locationmode": "USA-states",
           "locations": [
            "AZ",
            "CA",
            "IL",
            "MA",
            "WA",
            "WI"
           ],
           "name": "",
           "type": "choropleth",
           "z": [
            1,
            7,
            2,
            1,
            1,
            1
           ]
          }
         ],
         "name": "2020-02-11"
        },
        {
         "data": [
          {
           "coloraxis": "coloraxis",
           "geo": "geo",
           "hovertemplate": "<b>%{hovertext}</b><br><br>date=2020-02-12<br>state_code=%{location}<br>cases=%{z}<extra></extra>",
           "hovertext": [
            "AZ",
            "CA",
            "IL",
            "MA",
            "TX",
            "WA",
            "WI"
           ],
           "locationmode": "USA-states",
           "locations": [
            "AZ",
            "CA",
            "IL",
            "MA",
            "TX",
            "WA",
            "WI"
           ],
           "name": "",
           "type": "choropleth",
           "z": [
            1,
            7,
            2,
            1,
            1,
            1,
            1
           ]
          }
         ],
         "name": "2020-02-12"
        },
        {
         "data": [
          {
           "coloraxis": "coloraxis",
           "geo": "geo",
           "hovertemplate": "<b>%{hovertext}</b><br><br>date=2020-02-13<br>state_code=%{location}<br>cases=%{z}<extra></extra>",
           "hovertext": [
            "AZ",
            "CA",
            "IL",
            "MA",
            "TX",
            "WA",
            "WI"
           ],
           "locationmode": "USA-states",
           "locations": [
            "AZ",
            "CA",
            "IL",
            "MA",
            "TX",
            "WA",
            "WI"
           ],
           "name": "",
           "type": "choropleth",
           "z": [
            1,
            7,
            2,
            1,
            2,
            1,
            1
           ]
          }
         ],
         "name": "2020-02-13"
        },
        {
         "data": [
          {
           "coloraxis": "coloraxis",
           "geo": "geo",
           "hovertemplate": "<b>%{hovertext}</b><br><br>date=2020-02-14<br>state_code=%{location}<br>cases=%{z}<extra></extra>",
           "hovertext": [
            "AZ",
            "CA",
            "IL",
            "MA",
            "TX",
            "WA",
            "WI"
           ],
           "locationmode": "USA-states",
           "locations": [
            "AZ",
            "CA",
            "IL",
            "MA",
            "TX",
            "WA",
            "WI"
           ],
           "name": "",
           "type": "choropleth",
           "z": [
            1,
            7,
            2,
            1,
            2,
            1,
            1
           ]
          }
         ],
         "name": "2020-02-14"
        },
        {
         "data": [
          {
           "coloraxis": "coloraxis",
           "geo": "geo",
           "hovertemplate": "<b>%{hovertext}</b><br><br>date=2020-02-15<br>state_code=%{location}<br>cases=%{z}<extra></extra>",
           "hovertext": [
            "AZ",
            "CA",
            "IL",
            "MA",
            "TX",
            "WA",
            "WI"
           ],
           "locationmode": "USA-states",
           "locations": [
            "AZ",
            "CA",
            "IL",
            "MA",
            "TX",
            "WA",
            "WI"
           ],
           "name": "",
           "type": "choropleth",
           "z": [
            1,
            7,
            2,
            1,
            2,
            1,
            1
           ]
          }
         ],
         "name": "2020-02-15"
        },
        {
         "data": [
          {
           "coloraxis": "coloraxis",
           "geo": "geo",
           "hovertemplate": "<b>%{hovertext}</b><br><br>date=2020-02-16<br>state_code=%{location}<br>cases=%{z}<extra></extra>",
           "hovertext": [
            "AZ",
            "CA",
            "IL",
            "MA",
            "TX",
            "WA",
            "WI"
           ],
           "locationmode": "USA-states",
           "locations": [
            "AZ",
            "CA",
            "IL",
            "MA",
            "TX",
            "WA",
            "WI"
           ],
           "name": "",
           "type": "choropleth",
           "z": [
            1,
            7,
            2,
            1,
            2,
            1,
            1
           ]
          }
         ],
         "name": "2020-02-16"
        },
        {
         "data": [
          {
           "coloraxis": "coloraxis",
           "geo": "geo",
           "hovertemplate": "<b>%{hovertext}</b><br><br>date=2020-02-17<br>state_code=%{location}<br>cases=%{z}<extra></extra>",
           "hovertext": [
            "AZ",
            "CA",
            "IL",
            "MA",
            "NE",
            "TX",
            "WA",
            "WI"
           ],
           "locationmode": "USA-states",
           "locations": [
            "AZ",
            "CA",
            "IL",
            "MA",
            "NE",
            "TX",
            "WA",
            "WI"
           ],
           "name": "",
           "type": "choropleth",
           "z": [
            1,
            7,
            2,
            1,
            10,
            2,
            1,
            1
           ]
          }
         ],
         "name": "2020-02-17"
        },
        {
         "data": [
          {
           "coloraxis": "coloraxis",
           "geo": "geo",
           "hovertemplate": "<b>%{hovertext}</b><br><br>date=2020-02-18<br>state_code=%{location}<br>cases=%{z}<extra></extra>",
           "hovertext": [
            "AZ",
            "CA",
            "IL",
            "MA",
            "NE",
            "TX",
            "WA",
            "WI"
           ],
           "locationmode": "USA-states",
           "locations": [
            "AZ",
            "CA",
            "IL",
            "MA",
            "NE",
            "TX",
            "WA",
            "WI"
           ],
           "name": "",
           "type": "choropleth",
           "z": [
            1,
            7,
            2,
            1,
            10,
            2,
            1,
            1
           ]
          }
         ],
         "name": "2020-02-18"
        },
        {
         "data": [
          {
           "coloraxis": "coloraxis",
           "geo": "geo",
           "hovertemplate": "<b>%{hovertext}</b><br><br>date=2020-02-19<br>state_code=%{location}<br>cases=%{z}<extra></extra>",
           "hovertext": [
            "AZ",
            "CA",
            "IL",
            "MA",
            "NE",
            "TX",
            "WA",
            "WI"
           ],
           "locationmode": "USA-states",
           "locations": [
            "AZ",
            "CA",
            "IL",
            "MA",
            "NE",
            "TX",
            "WA",
            "WI"
           ],
           "name": "",
           "type": "choropleth",
           "z": [
            1,
            7,
            2,
            1,
            10,
            2,
            1,
            1
           ]
          }
         ],
         "name": "2020-02-19"
        },
        {
         "data": [
          {
           "coloraxis": "coloraxis",
           "geo": "geo",
           "hovertemplate": "<b>%{hovertext}</b><br><br>date=2020-02-20<br>state_code=%{location}<br>cases=%{z}<extra></extra>",
           "hovertext": [
            "AZ",
            "CA",
            "IL",
            "MA",
            "NE",
            "TX",
            "WA",
            "WI"
           ],
           "locationmode": "USA-states",
           "locations": [
            "AZ",
            "CA",
            "IL",
            "MA",
            "NE",
            "TX",
            "WA",
            "WI"
           ],
           "name": "",
           "type": "choropleth",
           "z": [
            1,
            8,
            2,
            1,
            11,
            2,
            1,
            1
           ]
          }
         ],
         "name": "2020-02-20"
        },
        {
         "data": [
          {
           "coloraxis": "coloraxis",
           "geo": "geo",
           "hovertemplate": "<b>%{hovertext}</b><br><br>date=2020-02-21<br>state_code=%{location}<br>cases=%{z}<extra></extra>",
           "hovertext": [
            "AZ",
            "CA",
            "IL",
            "MA",
            "NE",
            "TX",
            "WA",
            "WI"
           ],
           "locationmode": "USA-states",
           "locations": [
            "AZ",
            "CA",
            "IL",
            "MA",
            "NE",
            "TX",
            "WA",
            "WI"
           ],
           "name": "",
           "type": "choropleth",
           "z": [
            1,
            9,
            2,
            1,
            11,
            4,
            1,
            1
           ]
          }
         ],
         "name": "2020-02-21"
        },
        {
         "data": [
          {
           "coloraxis": "coloraxis",
           "geo": "geo",
           "hovertemplate": "<b>%{hovertext}</b><br><br>date=2020-02-22<br>state_code=%{location}<br>cases=%{z}<extra></extra>",
           "hovertext": [
            "AZ",
            "CA",
            "IL",
            "MA",
            "NE",
            "TX",
            "WA",
            "WI"
           ],
           "locationmode": "USA-states",
           "locations": [
            "AZ",
            "CA",
            "IL",
            "MA",
            "NE",
            "TX",
            "WA",
            "WI"
           ],
           "name": "",
           "type": "choropleth",
           "z": [
            1,
            9,
            2,
            1,
            11,
            4,
            1,
            1
           ]
          }
         ],
         "name": "2020-02-22"
        },
        {
         "data": [
          {
           "coloraxis": "coloraxis",
           "geo": "geo",
           "hovertemplate": "<b>%{hovertext}</b><br><br>date=2020-02-23<br>state_code=%{location}<br>cases=%{z}<extra></extra>",
           "hovertext": [
            "AZ",
            "CA",
            "IL",
            "MA",
            "NE",
            "TX",
            "WA",
            "WI"
           ],
           "locationmode": "USA-states",
           "locations": [
            "AZ",
            "CA",
            "IL",
            "MA",
            "NE",
            "TX",
            "WA",
            "WI"
           ],
           "name": "",
           "type": "choropleth",
           "z": [
            1,
            9,
            2,
            1,
            11,
            4,
            1,
            1
           ]
          }
         ],
         "name": "2020-02-23"
        },
        {
         "data": [
          {
           "coloraxis": "coloraxis",
           "geo": "geo",
           "hovertemplate": "<b>%{hovertext}</b><br><br>date=2020-02-24<br>state_code=%{location}<br>cases=%{z}<extra></extra>",
           "hovertext": [
            "AZ",
            "CA",
            "IL",
            "MA",
            "NE",
            "TX",
            "WA",
            "WI"
           ],
           "locationmode": "USA-states",
           "locations": [
            "AZ",
            "CA",
            "IL",
            "MA",
            "NE",
            "TX",
            "WA",
            "WI"
           ],
           "name": "",
           "type": "choropleth",
           "z": [
            1,
            11,
            2,
            1,
            12,
            10,
            5,
            1
           ]
          }
         ],
         "name": "2020-02-24"
        },
        {
         "data": [
          {
           "coloraxis": "coloraxis",
           "geo": "geo",
           "hovertemplate": "<b>%{hovertext}</b><br><br>date=2020-02-25<br>state_code=%{location}<br>cases=%{z}<extra></extra>",
           "hovertext": [
            "AZ",
            "CA",
            "IL",
            "MA",
            "NE",
            "TX",
            "UT",
            "WA",
            "WI"
           ],
           "locationmode": "USA-states",
           "locations": [
            "AZ",
            "CA",
            "IL",
            "MA",
            "NE",
            "TX",
            "UT",
            "WA",
            "WI"
           ],
           "name": "",
           "type": "choropleth",
           "z": [
            1,
            11,
            2,
            1,
            13,
            10,
            1,
            5,
            1
           ]
          }
         ],
         "name": "2020-02-25"
        },
        {
         "data": [
          {
           "coloraxis": "coloraxis",
           "geo": "geo",
           "hovertemplate": "<b>%{hovertext}</b><br><br>date=2020-02-26<br>state_code=%{location}<br>cases=%{z}<extra></extra>",
           "hovertext": [
            "AZ",
            "CA",
            "IL",
            "MA",
            "NE",
            "TX",
            "UT",
            "WA",
            "WI"
           ],
           "locationmode": "USA-states",
           "locations": [
            "AZ",
            "CA",
            "IL",
            "MA",
            "NE",
            "TX",
            "UT",
            "WA",
            "WI"
           ],
           "name": "",
           "type": "choropleth",
           "z": [
            1,
            26,
            2,
            1,
            13,
            10,
            1,
            5,
            1
           ]
          }
         ],
         "name": "2020-02-26"
        },
        {
         "data": [
          {
           "coloraxis": "coloraxis",
           "geo": "geo",
           "hovertemplate": "<b>%{hovertext}</b><br><br>date=2020-02-27<br>state_code=%{location}<br>cases=%{z}<extra></extra>",
           "hovertext": [
            "AZ",
            "CA",
            "IL",
            "MA",
            "NE",
            "TX",
            "UT",
            "WA",
            "WI"
           ],
           "locationmode": "USA-states",
           "locations": [
            "AZ",
            "CA",
            "IL",
            "MA",
            "NE",
            "TX",
            "UT",
            "WA",
            "WI"
           ],
           "name": "",
           "type": "choropleth",
           "z": [
            1,
            26,
            2,
            1,
            13,
            10,
            1,
            5,
            1
           ]
          }
         ],
         "name": "2020-02-27"
        },
        {
         "data": [
          {
           "coloraxis": "coloraxis",
           "geo": "geo",
           "hovertemplate": "<b>%{hovertext}</b><br><br>date=2020-02-28<br>state_code=%{location}<br>cases=%{z}<extra></extra>",
           "hovertext": [
            "AZ",
            "CA",
            "IL",
            "MA",
            "NE",
            "OR",
            "TX",
            "UT",
            "WA",
            "WI"
           ],
           "locationmode": "USA-states",
           "locations": [
            "AZ",
            "CA",
            "IL",
            "MA",
            "NE",
            "OR",
            "TX",
            "UT",
            "WA",
            "WI"
           ],
           "name": "",
           "type": "choropleth",
           "z": [
            1,
            27,
            2,
            1,
            13,
            1,
            11,
            1,
            7,
            1
           ]
          }
         ],
         "name": "2020-02-28"
        },
        {
         "data": [
          {
           "coloraxis": "coloraxis",
           "geo": "geo",
           "hovertemplate": "<b>%{hovertext}</b><br><br>date=2020-02-29<br>state_code=%{location}<br>cases=%{z}<extra></extra>",
           "hovertext": [
            "AZ",
            "CA",
            "IL",
            "MA",
            "NE",
            "OR",
            "TX",
            "UT",
            "WA",
            "WI"
           ],
           "locationmode": "USA-states",
           "locations": [
            "AZ",
            "CA",
            "IL",
            "MA",
            "NE",
            "OR",
            "TX",
            "UT",
            "WA",
            "WI"
           ],
           "name": "",
           "type": "choropleth",
           "z": [
            1,
            28,
            3,
            1,
            13,
            1,
            11,
            1,
            10,
            1
           ]
          }
         ],
         "name": "2020-02-29"
        },
        {
         "data": [
          {
           "coloraxis": "coloraxis",
           "geo": "geo",
           "hovertemplate": "<b>%{hovertext}</b><br><br>date=2020-03-01<br>state_code=%{location}<br>cases=%{z}<extra></extra>",
           "hovertext": [
            "AZ",
            "CA",
            "FL",
            "IL",
            "MA",
            "NE",
            "NY",
            "OR",
            "RI",
            "TX",
            "UT",
            "WA",
            "WI"
           ],
           "locationmode": "USA-states",
           "locations": [
            "AZ",
            "CA",
            "FL",
            "IL",
            "MA",
            "NE",
            "NY",
            "OR",
            "RI",
            "TX",
            "UT",
            "WA",
            "WI"
           ],
           "name": "",
           "type": "choropleth",
           "z": [
            1,
            33,
            2,
            3,
            1,
            13,
            1,
            2,
            2,
            11,
            1,
            17,
            1
           ]
          }
         ],
         "name": "2020-03-01"
        },
        {
         "data": [
          {
           "coloraxis": "coloraxis",
           "geo": "geo",
           "hovertemplate": "<b>%{hovertext}</b><br><br>date=2020-03-02<br>state_code=%{location}<br>cases=%{z}<extra></extra>",
           "hovertext": [
            "AZ",
            "CA",
            "FL",
            "GA",
            "IL",
            "MA",
            "NE",
            "NH",
            "NY",
            "OR",
            "RI",
            "TX",
            "UT",
            "WA",
            "WI"
           ],
           "locationmode": "USA-states",
           "locations": [
            "AZ",
            "CA",
            "FL",
            "GA",
            "IL",
            "MA",
            "NE",
            "NH",
            "NY",
            "OR",
            "RI",
            "TX",
            "UT",
            "WA",
            "WI"
           ],
           "name": "",
           "type": "choropleth",
           "z": [
            1,
            38,
            2,
            2,
            4,
            2,
            13,
            1,
            1,
            2,
            2,
            11,
            1,
            23,
            1
           ]
          }
         ],
         "name": "2020-03-02"
        },
        {
         "data": [
          {
           "coloraxis": "coloraxis",
           "geo": "geo",
           "hovertemplate": "<b>%{hovertext}</b><br><br>date=2020-03-03<br>state_code=%{location}<br>cases=%{z}<extra></extra>",
           "hovertext": [
            "AZ",
            "CA",
            "FL",
            "GA",
            "IL",
            "MA",
            "NE",
            "NH",
            "NY",
            "NC",
            "OR",
            "RI",
            "TX",
            "UT",
            "WA",
            "WI"
           ],
           "locationmode": "USA-states",
           "locations": [
            "AZ",
            "CA",
            "FL",
            "GA",
            "IL",
            "MA",
            "NE",
            "NH",
            "NY",
            "NC",
            "OR",
            "RI",
            "TX",
            "UT",
            "WA",
            "WI"
           ],
           "name": "",
           "type": "choropleth",
           "z": [
            2,
            45,
            3,
            2,
            4,
            2,
            13,
            2,
            2,
            1,
            2,
            2,
            11,
            1,
            32,
            1
           ]
          }
         ],
         "name": "2020-03-03"
        },
        {
         "data": [
          {
           "coloraxis": "coloraxis",
           "geo": "geo",
           "hovertemplate": "<b>%{hovertext}</b><br><br>date=2020-03-04<br>state_code=%{location}<br>cases=%{z}<extra></extra>",
           "hovertext": [
            "AZ",
            "CA",
            "FL",
            "GA",
            "IL",
            "MA",
            "NE",
            "NH",
            "NJ",
            "NY",
            "NC",
            "OR",
            "RI",
            "TX",
            "UT",
            "WA",
            "WI"
           ],
           "locationmode": "USA-states",
           "locations": [
            "AZ",
            "CA",
            "FL",
            "GA",
            "IL",
            "MA",
            "NE",
            "NH",
            "NJ",
            "NY",
            "NC",
            "OR",
            "RI",
            "TX",
            "UT",
            "WA",
            "WI"
           ],
           "name": "",
           "type": "choropleth",
           "z": [
            2,
            55,
            3,
            2,
            4,
            2,
            13,
            2,
            1,
            11,
            1,
            2,
            2,
            12,
            1,
            47,
            1
           ]
          }
         ],
         "name": "2020-03-04"
        },
        {
         "data": [
          {
           "coloraxis": "coloraxis",
           "geo": "geo",
           "hovertemplate": "<b>%{hovertext}</b><br><br>date=2020-03-05<br>state_code=%{location}<br>cases=%{z}<extra></extra>",
           "hovertext": [
            "AZ",
            "CA",
            "CO",
            "FL",
            "GA",
            "IL",
            "MD",
            "MA",
            "NE",
            "NV",
            "NH",
            "NJ",
            "NY",
            "NC",
            "OR",
            "RI",
            "TN",
            "TX",
            "UT",
            "WA",
            "WI"
           ],
           "locationmode": "USA-states",
           "locations": [
            "AZ",
            "CA",
            "CO",
            "FL",
            "GA",
            "IL",
            "MD",
            "MA",
            "NE",
            "NV",
            "NH",
            "NJ",
            "NY",
            "NC",
            "OR",
            "RI",
            "TN",
            "TX",
            "UT",
            "WA",
            "WI"
           ],
           "name": "",
           "type": "choropleth",
           "z": [
            2,
            67,
            2,
            4,
            2,
            5,
            3,
            3,
            13,
            2,
            2,
            2,
            22,
            1,
            2,
            2,
            1,
            16,
            1,
            75,
            1
           ]
          }
         ],
         "name": "2020-03-05"
        },
        {
         "data": [
          {
           "coloraxis": "coloraxis",
           "geo": "geo",
           "hovertemplate": "<b>%{hovertext}</b><br><br>date=2020-03-06<br>state_code=%{location}<br>cases=%{z}<extra></extra>",
           "hovertext": [
            "AZ",
            "CA",
            "CO",
            "FL",
            "GA",
            "HI",
            "IL",
            "IN",
            "KY",
            "MD",
            "MA",
            "MN",
            "NE",
            "NV",
            "NH",
            "NJ",
            "NY",
            "NC",
            "OK",
            "OR",
            "PA",
            "RI",
            "SC",
            "TN",
            "TX",
            "UT",
            "WA",
            "WI"
           ],
           "locationmode": "USA-states",
           "locations": [
            "AZ",
            "CA",
            "CO",
            "FL",
            "GA",
            "HI",
            "IL",
            "IN",
            "KY",
            "MD",
            "MA",
            "MN",
            "NE",
            "NV",
            "NH",
            "NJ",
            "NY",
            "NC",
            "OK",
            "OR",
            "PA",
            "RI",
            "SC",
            "TN",
            "TX",
            "UT",
            "WA",
            "WI"
           ],
           "name": "",
           "type": "choropleth",
           "z": [
            3,
            81,
            8,
            7,
            3,
            1,
            6,
            1,
            1,
            3,
            8,
            1,
            14,
            2,
            2,
            4,
            44,
            2,
            1,
            2,
            2,
            3,
            2,
            1,
            19,
            3,
            86,
            1
           ]
          }
         ],
         "name": "2020-03-06"
        },
        {
         "data": [
          {
           "coloraxis": "coloraxis",
           "geo": "geo",
           "hovertemplate": "<b>%{hovertext}</b><br><br>date=2020-03-07<br>state_code=%{location}<br>cases=%{z}<extra></extra>",
           "hovertext": [
            "AZ",
            "CA",
            "CO",
            "dc",
            "FL",
            "GA",
            "HI",
            "IL",
            "IN",
            "KS",
            "KY",
            "MD",
            "MA",
            "MN",
            "MO",
            "NE",
            "NV",
            "NH",
            "NJ",
            "NY",
            "NC",
            "OK",
            "OR",
            "PA",
            "RI",
            "SC",
            "TN",
            "TX",
            "UT",
            "VT",
            "VA",
            "WA",
            "WI"
           ],
           "locationmode": "USA-states",
           "locations": [
            "AZ",
            "CA",
            "CO",
            "dc",
            "FL",
            "GA",
            "HI",
            "IL",
            "IN",
            "KS",
            "KY",
            "MD",
            "MA",
            "MN",
            "MO",
            "NE",
            "NV",
            "NH",
            "NJ",
            "NY",
            "NC",
            "OK",
            "OR",
            "PA",
            "RI",
            "SC",
            "TN",
            "TX",
            "UT",
            "VT",
            "VA",
            "WA",
            "WI"
           ],
           "name": "",
           "type": "choropleth",
           "z": [
            5,
            100,
            8,
            1,
            12,
            7,
            1,
            6,
            1,
            1,
            1,
            3,
            13,
            1,
            1,
            14,
            2,
            4,
            4,
            89,
            2,
            1,
            6,
            4,
            3,
            2,
            1,
            19,
            3,
            1,
            1,
            110,
            1
           ]
          }
         ],
         "name": "2020-03-07"
        },
        {
         "data": [
          {
           "coloraxis": "coloraxis",
           "geo": "geo",
           "hovertemplate": "<b>%{hovertext}</b><br><br>date=2020-03-08<br>state_code=%{location}<br>cases=%{z}<extra></extra>",
           "hovertext": [
            "AZ",
            "CA",
            "CO",
            "CT",
            "dc",
            "FL",
            "GA",
            "HI",
            "IL",
            "IN",
            "IA",
            "KS",
            "KY",
            "MD",
            "MA",
            "MN",
            "MO",
            "NE",
            "NV",
            "NH",
            "NJ",
            "NY",
            "NC",
            "OK",
            "OR",
            "PA",
            "RI",
            "SC",
            "TN",
            "TX",
            "UT",
            "VT",
            "VA",
            "WA",
            "WI"
           ],
           "locationmode": "USA-states",
           "locations": [
            "AZ",
            "CA",
            "CO",
            "CT",
            "dc",
            "FL",
            "GA",
            "HI",
            "IL",
            "IN",
            "IA",
            "KS",
            "KY",
            "MD",
            "MA",
            "MN",
            "MO",
            "NE",
            "NV",
            "NH",
            "NJ",
            "NY",
            "NC",
            "OK",
            "OR",
            "PA",
            "RI",
            "SC",
            "TN",
            "TX",
            "UT",
            "VT",
            "VA",
            "WA",
            "WI"
           ],
           "name": "",
           "type": "choropleth",
           "z": [
            5,
            112,
            8,
            1,
            1,
            13,
            11,
            2,
            7,
            2,
            3,
            1,
            4,
            5,
            28,
            2,
            1,
            16,
            4,
            4,
            6,
            106,
            2,
            1,
            13,
            6,
            3,
            6,
            3,
            23,
            3,
            1,
            2,
            141,
            1
           ]
          }
         ],
         "name": "2020-03-08"
        },
        {
         "data": [
          {
           "coloraxis": "coloraxis",
           "geo": "geo",
           "hovertemplate": "<b>%{hovertext}</b><br><br>date=2020-03-09<br>state_code=%{location}<br>cases=%{z}<extra></extra>",
           "hovertext": [
            "AZ",
            "CA",
            "CO",
            "CT",
            "dc",
            "FL",
            "GA",
            "HI",
            "IL",
            "IN",
            "IA",
            "KS",
            "KY",
            "LA",
            "MD",
            "MA",
            "MN",
            "MO",
            "NE",
            "NV",
            "NH",
            "NJ",
            "NY",
            "NC",
            "OH",
            "OK",
            "OR",
            "PA",
            "RI",
            "SC",
            "TN",
            "TX",
            "UT",
            "VT",
            "VA",
            "WA",
            "WI"
           ],
           "locationmode": "USA-states",
           "locations": [
            "AZ",
            "CA",
            "CO",
            "CT",
            "dc",
            "FL",
            "GA",
            "HI",
            "IL",
            "IN",
            "IA",
            "KS",
            "KY",
            "LA",
            "MD",
            "MA",
            "MN",
            "MO",
            "NE",
            "NV",
            "NH",
            "NJ",
            "NY",
            "NC",
            "OH",
            "OK",
            "OR",
            "PA",
            "RI",
            "SC",
            "TN",
            "TX",
            "UT",
            "VT",
            "VA",
            "WA",
            "WI"
           ],
           "name": "",
           "type": "choropleth",
           "z": [
            6,
            172,
            12,
            2,
            4,
            14,
            17,
            2,
            11,
            4,
            8,
            1,
            5,
            1,
            6,
            41,
            2,
            1,
            16,
            4,
            4,
            11,
            142,
            7,
            3,
            1,
            13,
            10,
            3,
            7,
            4,
            24,
            3,
            1,
            5,
            179,
            2
           ]
          }
         ],
         "name": "2020-03-09"
        },
        {
         "data": [
          {
           "coloraxis": "coloraxis",
           "geo": "geo",
           "hovertemplate": "<b>%{hovertext}</b><br><br>date=2020-03-10<br>state_code=%{location}<br>cases=%{z}<extra></extra>",
           "hovertext": [
            "AZ",
            "CA",
            "CO",
            "CT",
            "dc",
            "FL",
            "GA",
            "HI",
            "IL",
            "IN",
            "IA",
            "KS",
            "KY",
            "LA",
            "MD",
            "MA",
            "MI",
            "MN",
            "MO",
            "NE",
            "NV",
            "NH",
            "NJ",
            "NY",
            "NC",
            "OH",
            "OK",
            "OR",
            "PA",
            "RI",
            "SC",
            "SD",
            "TN",
            "TX",
            "UT",
            "VT",
            "VA",
            "WA",
            "WI"
           ],
           "locationmode": "USA-states",
           "locations": [
            "AZ",
            "CA",
            "CO",
            "CT",
            "dc",
            "FL",
            "GA",
            "HI",
            "IL",
            "IN",
            "IA",
            "KS",
            "KY",
            "LA",
            "MD",
            "MA",
            "MI",
            "MN",
            "MO",
            "NE",
            "NV",
            "NH",
            "NJ",
            "NY",
            "NC",
            "OH",
            "OK",
            "OR",
            "PA",
            "RI",
            "SC",
            "SD",
            "TN",
            "TX",
            "UT",
            "VT",
            "VA",
            "WA",
            "WI"
           ],
           "name": "",
           "type": "choropleth",
           "z": [
            6,
            179,
            17,
            2,
            4,
            23,
            22,
            2,
            19,
            6,
            13,
            1,
            7,
            6,
            9,
            92,
            2,
            3,
            1,
            17,
            4,
            5,
            15,
            173,
            7,
            3,
            2,
            14,
            12,
            5,
            9,
            5,
            7,
            31,
            4,
            1,
            8,
            279,
            3
           ]
          }
         ],
         "name": "2020-03-10"
        },
        {
         "data": [
          {
           "coloraxis": "coloraxis",
           "geo": "geo",
           "hovertemplate": "<b>%{hovertext}</b><br><br>date=2020-03-11<br>state_code=%{location}<br>cases=%{z}<extra></extra>",
           "hovertext": [
            "AZ",
            "AR",
            "CA",
            "CO",
            "CT",
            "DE",
            "dc",
            "FL",
            "GA",
            "HI",
            "IL",
            "IN",
            "IA",
            "KS",
            "KY",
            "LA",
            "MD",
            "MA",
            "MI",
            "MN",
            "MS",
            "MO",
            "NE",
            "NV",
            "NH",
            "NJ",
            "NM",
            "NY",
            "NC",
            "ND",
            "OH",
            "OK",
            "OR",
            "PA",
            "RI",
            "SC",
            "SD",
            "TN",
            "TX",
            "UT",
            "VT",
            "VA",
            "WA",
            "WI",
            "WY"
           ],
           "locationmode": "USA-states",
           "locations": [
            "AZ",
            "AR",
            "CA",
            "CO",
            "CT",
            "DE",
            "dc",
            "FL",
            "GA",
            "HI",
            "IL",
            "IN",
            "IA",
            "KS",
            "KY",
            "LA",
            "MD",
            "MA",
            "MI",
            "MN",
            "MS",
            "MO",
            "NE",
            "NV",
            "NH",
            "NJ",
            "NM",
            "NY",
            "NC",
            "ND",
            "OH",
            "OK",
            "OR",
            "PA",
            "RI",
            "SC",
            "SD",
            "TN",
            "TX",
            "UT",
            "VT",
            "VA",
            "WA",
            "WI",
            "WY"
           ],
           "name": "",
           "type": "choropleth",
           "z": [
            9,
            1,
            202,
            34,
            3,
            1,
            10,
            26,
            31,
            2,
            25,
            11,
            14,
            1,
            7,
            13,
            13,
            95,
            2,
            5,
            1,
            1,
            23,
            7,
            5,
            23,
            4,
            217,
            8,
            1,
            4,
            2,
            20,
            16,
            5,
            10,
            8,
            8,
            33,
            5,
            2,
            10,
            338,
            6,
            1
           ]
          }
         ],
         "name": "2020-03-11"
        },
        {
         "data": [
          {
           "coloraxis": "coloraxis",
           "geo": "geo",
           "hovertemplate": "<b>%{hovertext}</b><br><br>date=2020-03-12<br>state_code=%{location}<br>cases=%{z}<extra></extra>",
           "hovertext": [
            "AK",
            "AZ",
            "AR",
            "CA",
            "CO",
            "CT",
            "DE",
            "dc",
            "FL",
            "GA",
            "HI",
            "IL",
            "IN",
            "IA",
            "KS",
            "KY",
            "LA",
            "ME",
            "MD",
            "MA",
            "MI",
            "MN",
            "MS",
            "MO",
            "NE",
            "NV",
            "NH",
            "NJ",
            "NM",
            "NY",
            "NC",
            "ND",
            "OH",
            "OK",
            "OR",
            "PA",
            "RI",
            "SC",
            "SD",
            "TN",
            "TX",
            "UT",
            "VT",
            "VA",
            "WA",
            "WI",
            "WY"
           ],
           "locationmode": "USA-states",
           "locations": [
            "AK",
            "AZ",
            "AR",
            "CA",
            "CO",
            "CT",
            "DE",
            "dc",
            "FL",
            "GA",
            "HI",
            "IL",
            "IN",
            "IA",
            "KS",
            "KY",
            "LA",
            "ME",
            "MD",
            "MA",
            "MI",
            "MN",
            "MS",
            "MO",
            "NE",
            "NV",
            "NH",
            "NJ",
            "NM",
            "NY",
            "NC",
            "ND",
            "OH",
            "OK",
            "OR",
            "PA",
            "RI",
            "SC",
            "SD",
            "TN",
            "TX",
            "UT",
            "VT",
            "VA",
            "WA",
            "WI",
            "WY"
           ],
           "name": "",
           "type": "choropleth",
           "z": [
            1,
            9,
            6,
            252,
            49,
            6,
            4,
            10,
            46,
            31,
            2,
            32,
            12,
            16,
            5,
            11,
            14,
            1,
            13,
            108,
            12,
            9,
            1,
            2,
            24,
            11,
            6,
            29,
            6,
            326,
            16,
            1,
            5,
            2,
            30,
            22,
            5,
            12,
            8,
            18,
            41,
            7,
            2,
            17,
            419,
            8,
            1
           ]
          }
         ],
         "name": "2020-03-12"
        },
        {
         "data": [
          {
           "coloraxis": "coloraxis",
           "geo": "geo",
           "hovertemplate": "<b>%{hovertext}</b><br><br>date=2020-03-13<br>state_code=%{location}<br>cases=%{z}<extra></extra>",
           "hovertext": [
            "AL",
            "AK",
            "AZ",
            "AR",
            "CA",
            "CO",
            "CT",
            "DE",
            "dc",
            "FL",
            "GA",
            "HI",
            "ID",
            "IL",
            "IN",
            "IA",
            "KS",
            "KY",
            "LA",
            "ME",
            "MD",
            "MA",
            "MI",
            "MN",
            "MS",
            "MO",
            "MT",
            "NE",
            "NV",
            "NH",
            "NJ",
            "NM",
            "NY",
            "NC",
            "ND",
            "OH",
            "OK",
            "OR",
            "PA",
            "RI",
            "SC",
            "SD",
            "TN",
            "TX",
            "UT",
            "VT",
            "VA",
            "WA",
            "WI",
            "WY"
           ],
           "locationmode": "USA-states",
           "locations": [
            "AL",
            "AK",
            "AZ",
            "AR",
            "CA",
            "CO",
            "CT",
            "DE",
            "dc",
            "FL",
            "GA",
            "HI",
            "ID",
            "IL",
            "IN",
            "IA",
            "KS",
            "KY",
            "LA",
            "ME",
            "MD",
            "MA",
            "MI",
            "MN",
            "MS",
            "MO",
            "MT",
            "NE",
            "NV",
            "NH",
            "NJ",
            "NM",
            "NY",
            "NC",
            "ND",
            "OH",
            "OK",
            "OR",
            "PA",
            "RI",
            "SC",
            "SD",
            "TN",
            "TX",
            "UT",
            "VT",
            "VA",
            "WA",
            "WI",
            "WY"
           ],
           "name": "",
           "type": "choropleth",
           "z": [
            6,
            1,
            9,
            7,
            320,
            78,
            11,
            4,
            10,
            70,
            41,
            2,
            1,
            46,
            12,
            17,
            6,
            11,
            36,
            2,
            18,
            123,
            25,
            14,
            6,
            4,
            4,
            27,
            19,
            7,
            50,
            10,
            421,
            18,
            1,
            13,
            3,
            30,
            41,
            20,
            13,
            9,
            26,
            58,
            7,
            2,
            30,
            511,
            19,
            2
           ]
          }
         ],
         "name": "2020-03-13"
        },
        {
         "data": [
          {
           "coloraxis": "coloraxis",
           "geo": "geo",
           "hovertemplate": "<b>%{hovertext}</b><br><br>date=2020-03-14<br>state_code=%{location}<br>cases=%{z}<extra></extra>",
           "hovertext": [
            "AL",
            "AK",
            "AZ",
            "AR",
            "CA",
            "CO",
            "CT",
            "DE",
            "dc",
            "FL",
            "GA",
            "HI",
            "ID",
            "IL",
            "IN",
            "IA",
            "KS",
            "KY",
            "LA",
            "ME",
            "MD",
            "MA",
            "MI",
            "MN",
            "MS",
            "MO",
            "MT",
            "NE",
            "NV",
            "NH",
            "NJ",
            "NM",
            "NY",
            "NC",
            "ND",
            "OH",
            "OK",
            "OR",
            "PA",
            "RI",
            "SC",
            "SD",
            "TN",
            "TX",
            "UT",
            "VT",
            "VA",
            "WA",
            "WI",
            "WY"
           ],
           "locationmode": "USA-states",
           "locations": [
            "AL",
            "AK",
            "AZ",
            "AR",
            "CA",
            "CO",
            "CT",
            "DE",
            "dc",
            "FL",
            "GA",
            "HI",
            "ID",
            "IL",
            "IN",
            "IA",
            "KS",
            "KY",
            "LA",
            "ME",
            "MD",
            "MA",
            "MI",
            "MN",
            "MS",
            "MO",
            "MT",
            "NE",
            "NV",
            "NH",
            "NJ",
            "NM",
            "NY",
            "NC",
            "ND",
            "OH",
            "OK",
            "OR",
            "PA",
            "RI",
            "SC",
            "SD",
            "TN",
            "TX",
            "UT",
            "VT",
            "VA",
            "WA",
            "WI",
            "WY"
           ],
           "name": "",
           "type": "choropleth",
           "z": [
            12,
            1,
            12,
            9,
            381,
            103,
            20,
            4,
            16,
            70,
            65,
            4,
            5,
            66,
            15,
            18,
            8,
            18,
            77,
            3,
            27,
            138,
            33,
            21,
            6,
            5,
            6,
            29,
            21,
            7,
            75,
            13,
            610,
            25,
            1,
            26,
            4,
            36,
            47,
            20,
            19,
            9,
            32,
            69,
            21,
            5,
            42,
            609,
            27,
            3
           ]
          }
         ],
         "name": "2020-03-14"
        },
        {
         "data": [
          {
           "coloraxis": "coloraxis",
           "geo": "geo",
           "hovertemplate": "<b>%{hovertext}</b><br><br>date=2020-03-15<br>state_code=%{location}<br>cases=%{z}<extra></extra>",
           "hovertext": [
            "AL",
            "AK",
            "AZ",
            "AR",
            "CA",
            "CO",
            "CT",
            "DE",
            "dc",
            "FL",
            "GA",
            "HI",
            "ID",
            "IL",
            "IN",
            "IA",
            "KS",
            "KY",
            "LA",
            "ME",
            "MD",
            "MA",
            "MI",
            "MN",
            "MS",
            "MO",
            "MT",
            "NE",
            "NV",
            "NH",
            "NJ",
            "NM",
            "NY",
            "NC",
            "ND",
            "OH",
            "OK",
            "OR",
            "PA",
            "RI",
            "SC",
            "SD",
            "TN",
            "TX",
            "UT",
            "VT",
            "VA",
            "WA",
            "WI",
            "WY"
           ],
           "locationmode": "USA-states",
           "locations": [
            "AL",
            "AK",
            "AZ",
            "AR",
            "CA",
            "CO",
            "CT",
            "DE",
            "dc",
            "FL",
            "GA",
            "HI",
            "ID",
            "IL",
            "IN",
            "IA",
            "KS",
            "KY",
            "LA",
            "ME",
            "MD",
            "MA",
            "MI",
            "MN",
            "MS",
            "MO",
            "MT",
            "NE",
            "NV",
            "NH",
            "NJ",
            "NM",
            "NY",
            "NC",
            "ND",
            "OH",
            "OK",
            "OR",
            "PA",
            "RI",
            "SC",
            "SD",
            "TN",
            "TX",
            "UT",
            "VT",
            "VA",
            "WA",
            "WI",
            "WY"
           ],
           "name": "",
           "type": "choropleth",
           "z": [
            23,
            1,
            13,
            16,
            478,
            136,
            26,
            7,
            17,
            109,
            97,
            7,
            5,
            94,
            19,
            22,
            9,
            21,
            103,
            12,
            32,
            164,
            53,
            35,
            10,
            5,
            6,
            31,
            26,
            13,
            98,
            17,
            732,
            32,
            1,
            37,
            8,
            39,
            68,
            20,
            28,
            9,
            39,
            80,
            29,
            8,
            45,
            675,
            33,
            3
           ]
          }
         ],
         "name": "2020-03-15"
        },
        {
         "data": [
          {
           "coloraxis": "coloraxis",
           "geo": "geo",
           "hovertemplate": "<b>%{hovertext}</b><br><br>date=2020-03-16<br>state_code=%{location}<br>cases=%{z}<extra></extra>",
           "hovertext": [
            "AL",
            "AK",
            "AZ",
            "AR",
            "CA",
            "CO",
            "CT",
            "DE",
            "dc",
            "FL",
            "GA",
            "HI",
            "ID",
            "IL",
            "IN",
            "IA",
            "KS",
            "KY",
            "LA",
            "ME",
            "MD",
            "MA",
            "MI",
            "MN",
            "MS",
            "MO",
            "MT",
            "NE",
            "NV",
            "NH",
            "NJ",
            "NM",
            "NY",
            "NC",
            "ND",
            "OH",
            "OK",
            "OR",
            "PA",
            "RI",
            "SC",
            "SD",
            "TN",
            "TX",
            "UT",
            "VT",
            "VA",
            "WA",
            "WI",
            "WY"
           ],
           "locationmode": "USA-states",
           "locations": [
            "AL",
            "AK",
            "AZ",
            "AR",
            "CA",
            "CO",
            "CT",
            "DE",
            "dc",
            "FL",
            "GA",
            "HI",
            "ID",
            "IL",
            "IN",
            "IA",
            "KS",
            "KY",
            "LA",
            "ME",
            "MD",
            "MA",
            "MI",
            "MN",
            "MS",
            "MO",
            "MT",
            "NE",
            "NV",
            "NH",
            "NJ",
            "NM",
            "NY",
            "NC",
            "ND",
            "OH",
            "OK",
            "OR",
            "PA",
            "RI",
            "SC",
            "SD",
            "TN",
            "TX",
            "UT",
            "VT",
            "VA",
            "WA",
            "WI",
            "WY"
           ],
           "name": "",
           "type": "choropleth",
           "z": [
            29,
            3,
            18,
            22,
            588,
            161,
            41,
            8,
            22,
            141,
            118,
            10,
            5,
            104,
            24,
            22,
            11,
            22,
            137,
            17,
            39,
            197,
            54,
            54,
            12,
            9,
            8,
            33,
            45,
            17,
            176,
            21,
            950,
            34,
            1,
            50,
            10,
            46,
            81,
            21,
            33,
            10,
            52,
            87,
            40,
            12,
            51,
            794,
            47,
            10
           ]
          }
         ],
         "name": "2020-03-16"
        },
        {
         "data": [
          {
           "coloraxis": "coloraxis",
           "geo": "geo",
           "hovertemplate": "<b>%{hovertext}</b><br><br>date=2020-03-17<br>state_code=%{location}<br>cases=%{z}<extra></extra>",
           "hovertext": [
            "AL",
            "AK",
            "AZ",
            "AR",
            "CA",
            "CO",
            "CT",
            "DE",
            "dc",
            "FL",
            "GA",
            "HI",
            "ID",
            "IL",
            "IN",
            "IA",
            "KS",
            "KY",
            "LA",
            "ME",
            "MD",
            "MA",
            "MI",
            "MN",
            "MS",
            "MO",
            "MT",
            "NE",
            "NV",
            "NH",
            "NJ",
            "NM",
            "NY",
            "NC",
            "ND",
            "OH",
            "OK",
            "OR",
            "PA",
            "RI",
            "SC",
            "SD",
            "TN",
            "TX",
            "UT",
            "VT",
            "VA",
            "WA",
            "WV",
            "WI",
            "WY"
           ],
           "locationmode": "USA-states",
           "locations": [
            "AL",
            "AK",
            "AZ",
            "AR",
            "CA",
            "CO",
            "CT",
            "DE",
            "dc",
            "FL",
            "GA",
            "HI",
            "ID",
            "IL",
            "IN",
            "IA",
            "KS",
            "KY",
            "LA",
            "ME",
            "MD",
            "MA",
            "MI",
            "MN",
            "MS",
            "MO",
            "MT",
            "NE",
            "NV",
            "NH",
            "NJ",
            "NM",
            "NY",
            "NC",
            "ND",
            "OH",
            "OK",
            "OR",
            "PA",
            "RI",
            "SC",
            "SD",
            "TN",
            "TX",
            "UT",
            "VT",
            "VA",
            "WA",
            "WV",
            "WI",
            "WY"
           ],
           "name": "",
           "type": "choropleth",
           "z": [
            39,
            6,
            20,
            22,
            732,
            183,
            68,
            16,
            31,
            210,
            142,
            14,
            9,
            159,
            30,
            29,
            17,
            26,
            196,
            32,
            57,
            218,
            65,
            60,
            21,
            16,
            8,
            36,
            55,
            26,
            268,
            23,
            1374,
            42,
            5,
            67,
            18,
            66,
            101,
            23,
            47,
            11,
            73,
            106,
            51,
            14,
            67,
            908,
            1,
            72,
            15
           ]
          }
         ],
         "name": "2020-03-17"
        },
        {
         "data": [
          {
           "coloraxis": "coloraxis",
           "geo": "geo",
           "hovertemplate": "<b>%{hovertext}</b><br><br>date=2020-03-18<br>state_code=%{location}<br>cases=%{z}<extra></extra>",
           "hovertext": [
            "AL",
            "AK",
            "AZ",
            "AR",
            "CA",
            "CO",
            "CT",
            "DE",
            "dc",
            "FL",
            "GA",
            "HI",
            "ID",
            "IL",
            "IN",
            "IA",
            "KS",
            "KY",
            "LA",
            "ME",
            "MD",
            "MA",
            "MI",
            "MN",
            "MS",
            "MO",
            "MT",
            "NE",
            "NV",
            "NH",
            "NJ",
            "NM",
            "NY",
            "NC",
            "ND",
            "OH",
            "OK",
            "OR",
            "PA",
            "RI",
            "SC",
            "SD",
            "TN",
            "TX",
            "UT",
            "VT",
            "VA",
            "WA",
            "WV",
            "WI",
            "WY"
           ],
           "locationmode": "USA-states",
           "locations": [
            "AL",
            "AK",
            "AZ",
            "AR",
            "CA",
            "CO",
            "CT",
            "DE",
            "dc",
            "FL",
            "GA",
            "HI",
            "ID",
            "IL",
            "IN",
            "IA",
            "KS",
            "KY",
            "LA",
            "ME",
            "MD",
            "MA",
            "MI",
            "MN",
            "MS",
            "MO",
            "MT",
            "NE",
            "NV",
            "NH",
            "NJ",
            "NM",
            "NY",
            "NC",
            "ND",
            "OH",
            "OK",
            "OR",
            "PA",
            "RI",
            "SC",
            "SD",
            "TN",
            "TX",
            "UT",
            "VT",
            "VA",
            "WA",
            "WV",
            "WI",
            "WY"
           ],
           "name": "",
           "type": "choropleth",
           "z": [
            51,
            9,
            28,
            33,
            893,
            216,
            96,
            26,
            36,
            326,
            193,
            16,
            11,
            286,
            39,
            38,
            22,
            35,
            280,
            43,
            85,
            256,
            80,
            77,
            34,
            21,
            12,
            43,
            82,
            39,
            427,
            28,
            2382,
            66,
            7,
            90,
            29,
            74,
            139,
            33,
            60,
            11,
            98,
            166,
            65,
            19,
            78,
            1026,
            2,
            106,
            17
           ]
          }
         ],
         "name": "2020-03-18"
        },
        {
         "data": [
          {
           "coloraxis": "coloraxis",
           "geo": "geo",
           "hovertemplate": "<b>%{hovertext}</b><br><br>date=2020-03-19<br>state_code=%{location}<br>cases=%{z}<extra></extra>",
           "hovertext": [
            "AL",
            "AK",
            "AZ",
            "AR",
            "CA",
            "CO",
            "CT",
            "DE",
            "dc",
            "FL",
            "GA",
            "HI",
            "ID",
            "IL",
            "IN",
            "IA",
            "KS",
            "KY",
            "LA",
            "ME",
            "MD",
            "MA",
            "MI",
            "MN",
            "MS",
            "MO",
            "MT",
            "NE",
            "NV",
            "NH",
            "NJ",
            "NM",
            "NY",
            "NC",
            "ND",
            "OH",
            "OK",
            "OR",
            "PA",
            "RI",
            "SC",
            "SD",
            "TN",
            "TX",
            "UT",
            "VT",
            "VA",
            "WA",
            "WV",
            "WI",
            "WY"
           ],
           "locationmode": "USA-states",
           "locations": [
            "AL",
            "AK",
            "AZ",
            "AR",
            "CA",
            "CO",
            "CT",
            "DE",
            "dc",
            "FL",
            "GA",
            "HI",
            "ID",
            "IL",
            "IN",
            "IA",
            "KS",
            "KY",
            "LA",
            "ME",
            "MD",
            "MA",
            "MI",
            "MN",
            "MS",
            "MO",
            "MT",
            "NE",
            "NV",
            "NH",
            "NJ",
            "NM",
            "NY",
            "NC",
            "ND",
            "OH",
            "OK",
            "OR",
            "PA",
            "RI",
            "SC",
            "SD",
            "TN",
            "TX",
            "UT",
            "VT",
            "VA",
            "WA",
            "WV",
            "WI",
            "WY"
           ],
           "name": "",
           "type": "choropleth",
           "z": [
            78,
            12,
            47,
            62,
            1067,
            278,
            159,
            30,
            68,
            434,
            282,
            26,
            23,
            420,
            56,
            44,
            35,
            47,
            392,
            52,
            108,
            328,
            334,
            89,
            50,
            35,
            19,
            47,
            99,
            44,
            735,
            35,
            4152,
            104,
            19,
            120,
            44,
            87,
            187,
            44,
            81,
            14,
            155,
            248,
            80,
            22,
            94,
            1228,
            5,
            155,
            18
           ]
          }
         ],
         "name": "2020-03-19"
        },
        {
         "data": [
          {
           "coloraxis": "coloraxis",
           "geo": "geo",
           "hovertemplate": "<b>%{hovertext}</b><br><br>date=2020-03-20<br>state_code=%{location}<br>cases=%{z}<extra></extra>",
           "hovertext": [
            "AL",
            "AK",
            "AZ",
            "AR",
            "CA",
            "CO",
            "CT",
            "DE",
            "dc",
            "FL",
            "GA",
            "HI",
            "ID",
            "IL",
            "IN",
            "IA",
            "KS",
            "KY",
            "LA",
            "ME",
            "MD",
            "MA",
            "MI",
            "MN",
            "MS",
            "MO",
            "MT",
            "NE",
            "NV",
            "NH",
            "NJ",
            "NM",
            "NY",
            "NC",
            "ND",
            "OH",
            "OK",
            "OR",
            "PA",
            "RI",
            "SC",
            "SD",
            "TN",
            "TX",
            "UT",
            "VT",
            "VA",
            "WA",
            "WV",
            "WI",
            "WY"
           ],
           "locationmode": "USA-states",
           "locations": [
            "AL",
            "AK",
            "AZ",
            "AR",
            "CA",
            "CO",
            "CT",
            "DE",
            "dc",
            "FL",
            "GA",
            "HI",
            "ID",
            "IL",
            "IN",
            "IA",
            "KS",
            "KY",
            "LA",
            "ME",
            "MD",
            "MA",
            "MI",
            "MN",
            "MS",
            "MO",
            "MT",
            "NE",
            "NV",
            "NH",
            "NJ",
            "NM",
            "NY",
            "NC",
            "ND",
            "OH",
            "OK",
            "OR",
            "PA",
            "RI",
            "SC",
            "SD",
            "TN",
            "TX",
            "UT",
            "VT",
            "VA",
            "WA",
            "WV",
            "WI",
            "WY"
           ],
           "name": "",
           "type": "choropleth",
           "z": [
            106,
            14,
            70,
            100,
            1283,
            364,
            194,
            39,
            77,
            564,
            482,
            37,
            31,
            583,
            79,
            45,
            49,
            63,
            537,
            57,
            150,
            413,
            548,
            115,
            80,
            73,
            19,
            53,
            165,
            55,
            896,
            43,
            7102,
            144,
            27,
            169,
            49,
            114,
            269,
            44,
            126,
            14,
            237,
            377,
            112,
            29,
            115,
            1404,
            8,
            216,
            22
           ]
          }
         ],
         "name": "2020-03-20"
        },
        {
         "data": [
          {
           "coloraxis": "coloraxis",
           "geo": "geo",
           "hovertemplate": "<b>%{hovertext}</b><br><br>date=2020-03-21<br>state_code=%{location}<br>cases=%{z}<extra></extra>",
           "hovertext": [
            "AL",
            "AK",
            "AZ",
            "AR",
            "CA",
            "CO",
            "CT",
            "DE",
            "dc",
            "FL",
            "GA",
            "HI",
            "ID",
            "IL",
            "IN",
            "IA",
            "KS",
            "KY",
            "LA",
            "ME",
            "MD",
            "MA",
            "MI",
            "MN",
            "MS",
            "MO",
            "MT",
            "NE",
            "NV",
            "NH",
            "NJ",
            "NM",
            "NY",
            "NC",
            "ND",
            "OH",
            "OK",
            "OR",
            "PA",
            "RI",
            "SC",
            "SD",
            "TN",
            "TX",
            "UT",
            "VT",
            "VA",
            "WA",
            "WV",
            "WI",
            "WY"
           ],
           "locationmode": "USA-states",
           "locations": [
            "AL",
            "AK",
            "AZ",
            "AR",
            "CA",
            "CO",
            "CT",
            "DE",
            "dc",
            "FL",
            "GA",
            "HI",
            "ID",
            "IL",
            "IN",
            "IA",
            "KS",
            "KY",
            "LA",
            "ME",
            "MD",
            "MA",
            "MI",
            "MN",
            "MS",
            "MO",
            "MT",
            "NE",
            "NV",
            "NH",
            "NJ",
            "NM",
            "NY",
            "NC",
            "ND",
            "OH",
            "OK",
            "OR",
            "PA",
            "RI",
            "SC",
            "SD",
            "TN",
            "TX",
            "UT",
            "VT",
            "VA",
            "WA",
            "WV",
            "WI",
            "WY"
           ],
           "name": "",
           "type": "choropleth",
           "z": [
            131,
            21,
            104,
            118,
            1544,
            475,
            223,
            45,
            98,
            764,
            552,
            48,
            42,
            751,
            126,
            68,
            57,
            84,
            763,
            70,
            195,
            525,
            787,
            138,
            140,
            93,
            29,
            61,
            165,
            65,
            1336,
            57,
            10356,
            184,
            28,
            247,
            53,
            137,
            388,
            66,
            172,
            14,
            312,
            547,
            138,
            49,
            152,
            1655,
            12,
            281,
            24
           ]
          }
         ],
         "name": "2020-03-21"
        },
        {
         "data": [
          {
           "coloraxis": "coloraxis",
           "geo": "geo",
           "hovertemplate": "<b>%{hovertext}</b><br><br>date=2020-03-22<br>state_code=%{location}<br>cases=%{z}<extra></extra>",
           "hovertext": [
            "AL",
            "AK",
            "AZ",
            "AR",
            "CA",
            "CO",
            "CT",
            "DE",
            "dc",
            "FL",
            "GA",
            "HI",
            "ID",
            "IL",
            "IN",
            "IA",
            "KS",
            "KY",
            "LA",
            "ME",
            "MD",
            "MA",
            "MI",
            "MN",
            "MS",
            "MO",
            "MT",
            "NE",
            "NV",
            "NH",
            "NJ",
            "NM",
            "NY",
            "NC",
            "ND",
            "OH",
            "OK",
            "OR",
            "PA",
            "RI",
            "SC",
            "SD",
            "TN",
            "TX",
            "UT",
            "VT",
            "VA",
            "WA",
            "WV",
            "WI",
            "WY"
           ],
           "locationmode": "USA-states",
           "locations": [
            "AL",
            "AK",
            "AZ",
            "AR",
            "CA",
            "CO",
            "CT",
            "DE",
            "dc",
            "FL",
            "GA",
            "HI",
            "ID",
            "IL",
            "IN",
            "IA",
            "KS",
            "KY",
            "LA",
            "ME",
            "MD",
            "MA",
            "MI",
            "MN",
            "MS",
            "MO",
            "MT",
            "NE",
            "NV",
            "NH",
            "NJ",
            "NM",
            "NY",
            "NC",
            "ND",
            "OH",
            "OK",
            "OR",
            "PA",
            "RI",
            "SC",
            "SD",
            "TN",
            "TX",
            "UT",
            "VT",
            "VA",
            "WA",
            "WV",
            "WI",
            "WY"
           ],
           "name": "",
           "type": "choropleth",
           "z": [
            157,
            22,
            153,
            165,
            1851,
            591,
            327,
            56,
            116,
            1000,
            620,
            56,
            47,
            1047,
            201,
            90,
            66,
            103,
            837,
            89,
            245,
            646,
            1033,
            171,
            207,
            130,
            34,
            62,
            190,
            78,
            1914,
            65,
            15168,
            269,
            30,
            351,
            67,
            161,
            504,
            83,
            194,
            21,
            424,
            632,
            182,
            52,
            219,
            1844,
            16,
            382,
            26
           ]
          }
         ],
         "name": "2020-03-22"
        },
        {
         "data": [
          {
           "coloraxis": "coloraxis",
           "geo": "geo",
           "hovertemplate": "<b>%{hovertext}</b><br><br>date=2020-03-23<br>state_code=%{location}<br>cases=%{z}<extra></extra>",
           "hovertext": [
            "AL",
            "AK",
            "AZ",
            "AR",
            "CA",
            "CO",
            "CT",
            "DE",
            "dc",
            "FL",
            "GA",
            "HI",
            "ID",
            "IL",
            "IN",
            "IA",
            "KS",
            "KY",
            "LA",
            "ME",
            "MD",
            "MA",
            "MI",
            "MN",
            "MS",
            "MO",
            "MT",
            "NE",
            "NV",
            "NH",
            "NJ",
            "NM",
            "NY",
            "NC",
            "ND",
            "OH",
            "OK",
            "OR",
            "PA",
            "RI",
            "SC",
            "SD",
            "TN",
            "TX",
            "UT",
            "VT",
            "VA",
            "WA",
            "WV",
            "WI",
            "WY"
           ],
           "locationmode": "USA-states",
           "locations": [
            "AL",
            "AK",
            "AZ",
            "AR",
            "CA",
            "CO",
            "CT",
            "DE",
            "dc",
            "FL",
            "GA",
            "HI",
            "ID",
            "IL",
            "IN",
            "IA",
            "KS",
            "KY",
            "LA",
            "ME",
            "MD",
            "MA",
            "MI",
            "MN",
            "MS",
            "MO",
            "MT",
            "NE",
            "NV",
            "NH",
            "NJ",
            "NM",
            "NY",
            "NC",
            "ND",
            "OH",
            "OK",
            "OR",
            "PA",
            "RI",
            "SC",
            "SD",
            "TN",
            "TX",
            "UT",
            "VT",
            "VA",
            "WA",
            "WV",
            "WI",
            "WY"
           ],
           "name": "",
           "type": "choropleth",
           "z": [
            196,
            36,
            234,
            201,
            2240,
            721,
            415,
            87,
            138,
            1222,
            800,
            77,
            50,
            1285,
            259,
            105,
            82,
            124,
            1172,
            107,
            290,
            777,
            1324,
            235,
            249,
            183,
            45,
            73,
            265,
            101,
            2844,
            83,
            20875,
            303,
            32,
            444,
            81,
            191,
            644,
            106,
            299,
            28,
            522,
            728,
            257,
            75,
            254,
            2101,
            16,
            418,
            28
           ]
          }
         ],
         "name": "2020-03-23"
        },
        {
         "data": [
          {
           "coloraxis": "coloraxis",
           "geo": "geo",
           "hovertemplate": "<b>%{hovertext}</b><br><br>date=2020-03-24<br>state_code=%{location}<br>cases=%{z}<extra></extra>",
           "hovertext": [
            "AL",
            "AK",
            "AZ",
            "AR",
            "CA",
            "CO",
            "CT",
            "DE",
            "dc",
            "FL",
            "GA",
            "HI",
            "ID",
            "IL",
            "IN",
            "IA",
            "KS",
            "KY",
            "LA",
            "ME",
            "MD",
            "MA",
            "MI",
            "MN",
            "MS",
            "MO",
            "MT",
            "NE",
            "NV",
            "NH",
            "NJ",
            "NM",
            "NY",
            "NC",
            "ND",
            "OH",
            "OK",
            "OR",
            "PA",
            "RI",
            "SC",
            "SD",
            "TN",
            "TX",
            "UT",
            "VT",
            "VA",
            "WA",
            "WV",
            "WI",
            "WY"
           ],
           "locationmode": "USA-states",
           "locations": [
            "AL",
            "AK",
            "AZ",
            "AR",
            "CA",
            "CO",
            "CT",
            "DE",
            "dc",
            "FL",
            "GA",
            "HI",
            "ID",
            "IL",
            "IN",
            "IA",
            "KS",
            "KY",
            "LA",
            "ME",
            "MD",
            "MA",
            "MI",
            "MN",
            "MS",
            "MO",
            "MT",
            "NE",
            "NV",
            "NH",
            "NJ",
            "NM",
            "NY",
            "NC",
            "ND",
            "OH",
            "OK",
            "OR",
            "PA",
            "RI",
            "SC",
            "SD",
            "TN",
            "TX",
            "UT",
            "VT",
            "VA",
            "WA",
            "WV",
            "WI",
            "WY"
           ],
           "name": "",
           "type": "choropleth",
           "z": [
            242,
            42,
            326,
            232,
            2644,
            912,
            618,
            104,
            183,
            1467,
            1097,
            90,
            73,
            1535,
            366,
            124,
            99,
            157,
            1388,
            118,
            349,
            1159,
            1791,
            262,
            320,
            255,
            51,
            77,
            315,
            108,
            3675,
            100,
            25665,
            399,
            36,
            564,
            106,
            209,
            851,
            124,
            342,
            30,
            679,
            857,
            298,
            95,
            290,
            2469,
            39,
            481,
            37
           ]
          }
         ],
         "name": "2020-03-24"
        },
        {
         "data": [
          {
           "coloraxis": "coloraxis",
           "geo": "geo",
           "hovertemplate": "<b>%{hovertext}</b><br><br>date=2020-03-25<br>state_code=%{location}<br>cases=%{z}<extra></extra>",
           "hovertext": [
            "AL",
            "AK",
            "AZ",
            "AR",
            "CA",
            "CO",
            "CT",
            "DE",
            "dc",
            "FL",
            "GA",
            "HI",
            "ID",
            "IL",
            "IN",
            "IA",
            "KS",
            "KY",
            "LA",
            "ME",
            "MD",
            "MA",
            "MI",
            "MN",
            "MS",
            "MO",
            "MT",
            "NE",
            "NV",
            "NH",
            "NJ",
            "NM",
            "NY",
            "NC",
            "ND",
            "OH",
            "OK",
            "OR",
            "PA",
            "RI",
            "SC",
            "SD",
            "TN",
            "TX",
            "UT",
            "VT",
            "VA",
            "WA",
            "WV",
            "WI",
            "WY"
           ],
           "locationmode": "USA-states",
           "locations": [
            "AL",
            "AK",
            "AZ",
            "AR",
            "CA",
            "CO",
            "CT",
            "DE",
            "dc",
            "FL",
            "GA",
            "HI",
            "ID",
            "IL",
            "IN",
            "IA",
            "KS",
            "KY",
            "LA",
            "ME",
            "MD",
            "MA",
            "MI",
            "MN",
            "MS",
            "MO",
            "MT",
            "NE",
            "NV",
            "NH",
            "NJ",
            "NM",
            "NY",
            "NC",
            "ND",
            "OH",
            "OK",
            "OR",
            "PA",
            "RI",
            "SC",
            "SD",
            "TN",
            "TX",
            "UT",
            "VT",
            "VA",
            "WA",
            "WV",
            "WI",
            "WY"
           ],
           "name": "",
           "type": "choropleth",
           "z": [
            386,
            59,
            402,
            308,
            3183,
            1086,
            875,
            119,
            231,
            1965,
            1387,
            95,
            123,
            1875,
            479,
            145,
            132,
            198,
            1795,
            142,
            423,
            1838,
            2294,
            287,
            377,
            377,
            65,
            84,
            405,
            137,
            4402,
            112,
            33066,
            563,
            45,
            706,
            164,
            266,
            1151,
            132,
            424,
            41,
            806,
            1119,
            346,
            123,
            391,
            2585,
            51,
            623,
            49
           ]
          }
         ],
         "name": "2020-03-25"
        },
        {
         "data": [
          {
           "coloraxis": "coloraxis",
           "geo": "geo",
           "hovertemplate": "<b>%{hovertext}</b><br><br>date=2020-03-26<br>state_code=%{location}<br>cases=%{z}<extra></extra>",
           "hovertext": [
            "AL",
            "AK",
            "AZ",
            "AR",
            "CA",
            "CO",
            "CT",
            "DE",
            "dc",
            "FL",
            "GA",
            "HI",
            "ID",
            "IL",
            "IN",
            "IA",
            "KS",
            "KY",
            "LA",
            "ME",
            "MD",
            "MA",
            "MI",
            "MN",
            "MS",
            "MO",
            "MT",
            "NE",
            "NV",
            "NH",
            "NJ",
            "NM",
            "NY",
            "NC",
            "ND",
            "OH",
            "OK",
            "OR",
            "PA",
            "RI",
            "SC",
            "SD",
            "TN",
            "TX",
            "UT",
            "VT",
            "VA",
            "WA",
            "WV",
            "WI",
            "WY"
           ],
           "locationmode": "USA-states",
           "locations": [
            "AL",
            "AK",
            "AZ",
            "AR",
            "CA",
            "CO",
            "CT",
            "DE",
            "dc",
            "FL",
            "GA",
            "HI",
            "ID",
            "IL",
            "IN",
            "IA",
            "KS",
            "KY",
            "LA",
            "ME",
            "MD",
            "MA",
            "MI",
            "MN",
            "MS",
            "MO",
            "MT",
            "NE",
            "NV",
            "NH",
            "NJ",
            "NM",
            "NY",
            "NC",
            "ND",
            "OH",
            "OK",
            "OR",
            "PA",
            "RI",
            "SC",
            "SD",
            "TN",
            "TX",
            "UT",
            "VT",
            "VA",
            "WA",
            "WV",
            "WI",
            "WY"
           ],
           "name": "",
           "type": "choropleth",
           "z": [
            538,
            69,
            508,
            351,
            4060,
            1432,
            1012,
            143,
            267,
            2477,
            1643,
            106,
            189,
            2538,
            656,
            179,
            171,
            248,
            2305,
            155,
            581,
            2417,
            2878,
            346,
            487,
            507,
            90,
            92,
            535,
            158,
            6876,
            136,
            38987,
            638,
            58,
            867,
            248,
            316,
            1690,
            165,
            456,
            46,
            981,
            1543,
            402,
            158,
            604,
            3208,
            76,
            754,
            56
           ]
          }
         ],
         "name": "2020-03-26"
        },
        {
         "data": [
          {
           "coloraxis": "coloraxis",
           "geo": "geo",
           "hovertemplate": "<b>%{hovertext}</b><br><br>date=2020-03-27<br>state_code=%{location}<br>cases=%{z}<extra></extra>",
           "hovertext": [
            "AL",
            "AK",
            "AZ",
            "AR",
            "CA",
            "CO",
            "CT",
            "DE",
            "dc",
            "FL",
            "GA",
            "HI",
            "ID",
            "IL",
            "IN",
            "IA",
            "KS",
            "KY",
            "LA",
            "ME",
            "MD",
            "MA",
            "MI",
            "MN",
            "MS",
            "MO",
            "MT",
            "NE",
            "NV",
            "NH",
            "NJ",
            "NM",
            "NY",
            "NC",
            "ND",
            "OH",
            "OK",
            "OR",
            "PA",
            "RI",
            "SC",
            "SD",
            "TN",
            "TX",
            "UT",
            "VT",
            "VA",
            "WA",
            "WV",
            "WI",
            "WY"
           ],
           "locationmode": "USA-states",
           "locations": [
            "AL",
            "AK",
            "AZ",
            "AR",
            "CA",
            "CO",
            "CT",
            "DE",
            "dc",
            "FL",
            "GA",
            "HI",
            "ID",
            "IL",
            "IN",
            "IA",
            "KS",
            "KY",
            "LA",
            "ME",
            "MD",
            "MA",
            "MI",
            "MN",
            "MS",
            "MO",
            "MT",
            "NE",
            "NV",
            "NH",
            "NJ",
            "NM",
            "NY",
            "NC",
            "ND",
            "OH",
            "OK",
            "OR",
            "PA",
            "RI",
            "SC",
            "SD",
            "TN",
            "TX",
            "UT",
            "VT",
            "VA",
            "WA",
            "WV",
            "WI",
            "WY"
           ],
           "name": "",
           "type": "choropleth",
           "z": [
            639,
            85,
            665,
            386,
            4914,
            1735,
            1291,
            165,
            304,
            3198,
            2198,
            120,
            231,
            3029,
            982,
            235,
            212,
            302,
            2746,
            168,
            775,
            3240,
            3657,
            398,
            579,
            671,
            121,
            100,
            621,
            187,
            8825,
            191,
            44635,
            783,
            68,
            1144,
            322,
            414,
            2218,
            203,
            539,
            58,
            1180,
            1942,
            480,
            184,
            606,
            3770,
            96,
            930,
            73
           ]
          }
         ],
         "name": "2020-03-27"
        },
        {
         "data": [
          {
           "coloraxis": "coloraxis",
           "geo": "geo",
           "hovertemplate": "<b>%{hovertext}</b><br><br>date=2020-03-28<br>state_code=%{location}<br>cases=%{z}<extra></extra>",
           "hovertext": [
            "AL",
            "AK",
            "AZ",
            "AR",
            "CA",
            "CO",
            "CT",
            "DE",
            "dc",
            "FL",
            "GA",
            "HI",
            "ID",
            "IL",
            "IN",
            "IA",
            "KS",
            "KY",
            "LA",
            "ME",
            "MD",
            "MA",
            "MI",
            "MN",
            "MS",
            "MO",
            "MT",
            "NE",
            "NV",
            "NH",
            "NJ",
            "NM",
            "NY",
            "NC",
            "ND",
            "OH",
            "OK",
            "OR",
            "PA",
            "RI",
            "SC",
            "SD",
            "TN",
            "TX",
            "UT",
            "VT",
            "VA",
            "WA",
            "WV",
            "WI",
            "WY"
           ],
           "locationmode": "USA-states",
           "locations": [
            "AL",
            "AK",
            "AZ",
            "AR",
            "CA",
            "CO",
            "CT",
            "DE",
            "dc",
            "FL",
            "GA",
            "HI",
            "ID",
            "IL",
            "IN",
            "IA",
            "KS",
            "KY",
            "LA",
            "ME",
            "MD",
            "MA",
            "MI",
            "MN",
            "MS",
            "MO",
            "MT",
            "NE",
            "NV",
            "NH",
            "NJ",
            "NM",
            "NY",
            "NC",
            "ND",
            "OH",
            "OK",
            "OR",
            "PA",
            "RI",
            "SC",
            "SD",
            "TN",
            "TX",
            "UT",
            "VT",
            "VA",
            "WA",
            "WV",
            "WI",
            "WY"
           ],
           "name": "",
           "type": "choropleth",
           "z": [
            720,
            102,
            773,
            409,
            5565,
            2061,
            1524,
            214,
            342,
            4038,
            2447,
            151,
            261,
            3547,
            1232,
            298,
            271,
            394,
            3315,
            211,
            1066,
            4257,
            4635,
            441,
            669,
            838,
            147,
            122,
            738,
            214,
            11124,
            208,
            53363,
            972,
            94,
            1406,
            377,
            479,
            2815,
            239,
            660,
            68,
            1364,
            2161,
            608,
            211,
            740,
            4311,
            113,
            1042,
            84
           ]
          }
         ],
         "name": "2020-03-28"
        },
        {
         "data": [
          {
           "coloraxis": "coloraxis",
           "geo": "geo",
           "hovertemplate": "<b>%{hovertext}</b><br><br>date=2020-03-29<br>state_code=%{location}<br>cases=%{z}<extra></extra>",
           "hovertext": [
            "AL",
            "AK",
            "AZ",
            "AR",
            "CA",
            "CO",
            "CT",
            "DE",
            "dc",
            "FL",
            "GA",
            "HI",
            "ID",
            "IL",
            "IN",
            "IA",
            "KS",
            "KY",
            "LA",
            "ME",
            "MD",
            "MA",
            "MI",
            "MN",
            "MS",
            "MO",
            "MT",
            "NE",
            "NV",
            "NH",
            "NJ",
            "NM",
            "NY",
            "NC",
            "ND",
            "OH",
            "OK",
            "OR",
            "PA",
            "RI",
            "SC",
            "SD",
            "TN",
            "TX",
            "UT",
            "VT",
            "VA",
            "WA",
            "WV",
            "WI",
            "WY"
           ],
           "locationmode": "USA-states",
           "locations": [
            "AL",
            "AK",
            "AZ",
            "AR",
            "CA",
            "CO",
            "CT",
            "DE",
            "dc",
            "FL",
            "GA",
            "HI",
            "ID",
            "IL",
            "IN",
            "IA",
            "KS",
            "KY",
            "LA",
            "ME",
            "MD",
            "MA",
            "MI",
            "MN",
            "MS",
            "MO",
            "MT",
            "NE",
            "NV",
            "NH",
            "NJ",
            "NM",
            "NY",
            "NC",
            "ND",
            "OH",
            "OK",
            "OR",
            "PA",
            "RI",
            "SC",
            "SD",
            "TN",
            "TX",
            "UT",
            "VT",
            "VA",
            "WA",
            "WV",
            "WI",
            "WY"
           ],
           "name": "",
           "type": "choropleth",
           "z": [
            830,
            114,
            929,
            449,
            6266,
            2315,
            1993,
            232,
            342,
            4942,
            2683,
            175,
            310,
            4613,
            1514,
            336,
            332,
            439,
            3540,
            253,
            1244,
            4955,
            5486,
            504,
            759,
            903,
            161,
            137,
            920,
            258,
            13386,
            237,
            59568,
            1167,
            98,
            1665,
            429,
            548,
            3441,
            294,
            774,
            90,
            1570,
            2712,
            719,
            235,
            890,
            4896,
            124,
            1120,
            87
           ]
          }
         ],
         "name": "2020-03-29"
        },
        {
         "data": [
          {
           "coloraxis": "coloraxis",
           "geo": "geo",
           "hovertemplate": "<b>%{hovertext}</b><br><br>date=2020-03-30<br>state_code=%{location}<br>cases=%{z}<extra></extra>",
           "hovertext": [
            "AL",
            "AK",
            "AZ",
            "AR",
            "CA",
            "CO",
            "CT",
            "DE",
            "dc",
            "FL",
            "GA",
            "HI",
            "ID",
            "IL",
            "IN",
            "IA",
            "KS",
            "KY",
            "LA",
            "ME",
            "MD",
            "MA",
            "MI",
            "MN",
            "MS",
            "MO",
            "MT",
            "NE",
            "NV",
            "NH",
            "NJ",
            "NM",
            "NY",
            "NC",
            "ND",
            "OH",
            "OK",
            "OR",
            "PA",
            "RI",
            "SC",
            "SD",
            "TN",
            "TX",
            "UT",
            "VT",
            "VA",
            "WA",
            "WV",
            "WI",
            "WY"
           ],
           "locationmode": "USA-states",
           "locations": [
            "AL",
            "AK",
            "AZ",
            "AR",
            "CA",
            "CO",
            "CT",
            "DE",
            "dc",
            "FL",
            "GA",
            "HI",
            "ID",
            "IL",
            "IN",
            "IA",
            "KS",
            "KY",
            "LA",
            "ME",
            "MD",
            "MA",
            "MI",
            "MN",
            "MS",
            "MO",
            "MT",
            "NE",
            "NV",
            "NH",
            "NJ",
            "NM",
            "NY",
            "NC",
            "ND",
            "OH",
            "OK",
            "OR",
            "PA",
            "RI",
            "SC",
            "SD",
            "TN",
            "TX",
            "UT",
            "VT",
            "VA",
            "WA",
            "WV",
            "WI",
            "WY"
           ],
           "name": "",
           "type": "choropleth",
           "z": [
            947,
            119,
            1169,
            508,
            7421,
            2628,
            2571,
            264,
            495,
            5694,
            3032,
            204,
            415,
            5070,
            1788,
            424,
            373,
            480,
            4025,
            275,
            1414,
            5752,
            6508,
            576,
            848,
            1050,
            177,
            185,
            1044,
            314,
            16636,
            281,
            67174,
            1304,
            109,
            1933,
            481,
            606,
            4156,
            408,
            925,
            101,
            1721,
            3043,
            806,
            256,
            1021,
            5179,
            145,
            1267,
            95
           ]
          }
         ],
         "name": "2020-03-30"
        },
        {
         "data": [
          {
           "coloraxis": "coloraxis",
           "geo": "geo",
           "hovertemplate": "<b>%{hovertext}</b><br><br>date=2020-03-31<br>state_code=%{location}<br>cases=%{z}<extra></extra>",
           "hovertext": [
            "AL",
            "AK",
            "AZ",
            "AR",
            "CA",
            "CO",
            "CT",
            "DE",
            "dc",
            "FL",
            "GA",
            "HI",
            "ID",
            "IL",
            "IN",
            "IA",
            "KS",
            "KY",
            "LA",
            "ME",
            "MD",
            "MA",
            "MI",
            "MN",
            "MS",
            "MO",
            "MT",
            "NE",
            "NV",
            "NH",
            "NJ",
            "NM",
            "NY",
            "NC",
            "ND",
            "OH",
            "OK",
            "OR",
            "PA",
            "RI",
            "SC",
            "SD",
            "TN",
            "TX",
            "UT",
            "VT",
            "VA",
            "WA",
            "WV",
            "WI",
            "WY"
           ],
           "locationmode": "USA-states",
           "locations": [
            "AL",
            "AK",
            "AZ",
            "AR",
            "CA",
            "CO",
            "CT",
            "DE",
            "dc",
            "FL",
            "GA",
            "HI",
            "ID",
            "IL",
            "IN",
            "IA",
            "KS",
            "KY",
            "LA",
            "ME",
            "MD",
            "MA",
            "MI",
            "MN",
            "MS",
            "MO",
            "MT",
            "NE",
            "NV",
            "NH",
            "NJ",
            "NM",
            "NY",
            "NC",
            "ND",
            "OH",
            "OK",
            "OR",
            "PA",
            "RI",
            "SC",
            "SD",
            "TN",
            "TX",
            "UT",
            "VT",
            "VA",
            "WA",
            "WV",
            "WI",
            "WY"
           ],
           "name": "",
           "type": "choropleth",
           "z": [
            999,
            133,
            1298,
            564,
            8582,
            2990,
            3128,
            319,
            495,
            6741,
            4117,
            224,
            526,
            5994,
            2159,
            498,
            434,
            590,
            5237,
            303,
            1662,
            6620,
            7630,
            629,
            937,
            1351,
            198,
            193,
            1113,
            367,
            18696,
            315,
            75832,
            1528,
            126,
            2199,
            566,
            690,
            4997,
            488,
            1083,
            108,
            2049,
            3576,
            887,
            293,
            1250,
            5292,
            162,
            1351,
            120
           ]
          }
         ],
         "name": "2020-03-31"
        },
        {
         "data": [
          {
           "coloraxis": "coloraxis",
           "geo": "geo",
           "hovertemplate": "<b>%{hovertext}</b><br><br>date=2020-04-01<br>state_code=%{location}<br>cases=%{z}<extra></extra>",
           "hovertext": [
            "AL",
            "AK",
            "AZ",
            "AR",
            "CA",
            "CO",
            "CT",
            "DE",
            "dc",
            "FL",
            "GA",
            "HI",
            "ID",
            "IL",
            "IN",
            "IA",
            "KS",
            "KY",
            "LA",
            "ME",
            "MD",
            "MA",
            "MI",
            "MN",
            "MS",
            "MO",
            "MT",
            "NE",
            "NV",
            "NH",
            "NJ",
            "NM",
            "NY",
            "NC",
            "ND",
            "OH",
            "OK",
            "OR",
            "PA",
            "RI",
            "SC",
            "SD",
            "TN",
            "TX",
            "UT",
            "VT",
            "VA",
            "WA",
            "WV",
            "WI",
            "WY"
           ],
           "locationmode": "USA-states",
           "locations": [
            "AL",
            "AK",
            "AZ",
            "AR",
            "CA",
            "CO",
            "CT",
            "DE",
            "dc",
            "FL",
            "GA",
            "HI",
            "ID",
            "IL",
            "IN",
            "IA",
            "KS",
            "KY",
            "LA",
            "ME",
            "MD",
            "MA",
            "MI",
            "MN",
            "MS",
            "MO",
            "MT",
            "NE",
            "NV",
            "NH",
            "NJ",
            "NM",
            "NY",
            "NC",
            "ND",
            "OH",
            "OK",
            "OR",
            "PA",
            "RI",
            "SC",
            "SD",
            "TN",
            "TX",
            "UT",
            "VT",
            "VA",
            "WA",
            "WV",
            "WI",
            "WY"
           ],
           "name": "",
           "type": "choropleth",
           "z": [
            1106,
            143,
            1413,
            624,
            9816,
            3346,
            3557,
            368,
            586,
            7765,
            4748,
            258,
            669,
            6980,
            2565,
            549,
            488,
            682,
            6424,
            344,
            1985,
            7738,
            9293,
            689,
            1073,
            1581,
            217,
            249,
            1279,
            415,
            22255,
            363,
            83889,
            1582,
            147,
            2547,
            719,
            736,
            5805,
            566,
            1293,
            129,
            2690,
            4261,
            1012,
            321,
            1511,
            5588,
            191,
            1550,
            137
           ]
          }
         ],
         "name": "2020-04-01"
        },
        {
         "data": [
          {
           "coloraxis": "coloraxis",
           "geo": "geo",
           "hovertemplate": "<b>%{hovertext}</b><br><br>date=2020-04-02<br>state_code=%{location}<br>cases=%{z}<extra></extra>",
           "hovertext": [
            "AL",
            "AK",
            "AZ",
            "AR",
            "CA",
            "CO",
            "CT",
            "DE",
            "dc",
            "FL",
            "GA",
            "HI",
            "ID",
            "IL",
            "IN",
            "IA",
            "KS",
            "KY",
            "LA",
            "ME",
            "MD",
            "MA",
            "MI",
            "MN",
            "MS",
            "MO",
            "MT",
            "NE",
            "NV",
            "NH",
            "NJ",
            "NM",
            "NY",
            "NC",
            "ND",
            "OH",
            "OK",
            "OR",
            "PA",
            "RI",
            "SC",
            "SD",
            "TN",
            "TX",
            "UT",
            "VT",
            "VA",
            "WA",
            "WV",
            "WI",
            "WY"
           ],
           "locationmode": "USA-states",
           "locations": [
            "AL",
            "AK",
            "AZ",
            "AR",
            "CA",
            "CO",
            "CT",
            "DE",
            "dc",
            "FL",
            "GA",
            "HI",
            "ID",
            "IL",
            "IN",
            "IA",
            "KS",
            "KY",
            "LA",
            "ME",
            "MD",
            "MA",
            "MI",
            "MN",
            "MS",
            "MO",
            "MT",
            "NE",
            "NV",
            "NH",
            "NJ",
            "NM",
            "NY",
            "NC",
            "ND",
            "OH",
            "OK",
            "OR",
            "PA",
            "RI",
            "SC",
            "SD",
            "TN",
            "TX",
            "UT",
            "VT",
            "VA",
            "WA",
            "WV",
            "WI",
            "WY"
           ],
           "name": "",
           "type": "choropleth",
           "z": [
            1270,
            146,
            1600,
            683,
            11190,
            3728,
            3824,
            393,
            653,
            9000,
            5444,
            283,
            891,
            7695,
            3039,
            614,
            554,
            755,
            9150,
            376,
            2331,
            8966,
            10791,
            742,
            1177,
            1834,
            241,
            273,
            1458,
            479,
            25590,
            403,
            92770,
            1857,
            159,
            2902,
            879,
            826,
            7016,
            657,
            1554,
            165,
            2869,
            4880,
            1074,
            338,
            1706,
            6585,
            217,
            1730,
            153
           ]
          }
         ],
         "name": "2020-04-02"
        },
        {
         "data": [
          {
           "coloraxis": "coloraxis",
           "geo": "geo",
           "hovertemplate": "<b>%{hovertext}</b><br><br>date=2020-04-03<br>state_code=%{location}<br>cases=%{z}<extra></extra>",
           "hovertext": [
            "AL",
            "AK",
            "AZ",
            "AR",
            "CA",
            "CO",
            "CT",
            "DE",
            "dc",
            "FL",
            "GA",
            "HI",
            "ID",
            "IL",
            "IN",
            "IA",
            "KS",
            "KY",
            "LA",
            "ME",
            "MD",
            "MA",
            "MI",
            "MN",
            "MS",
            "MO",
            "MT",
            "NE",
            "NV",
            "NH",
            "NJ",
            "NM",
            "NY",
            "NC",
            "ND",
            "OH",
            "OK",
            "OR",
            "PA",
            "RI",
            "SC",
            "SD",
            "TN",
            "TX",
            "UT",
            "VT",
            "VA",
            "WA",
            "WV",
            "WI",
            "WY"
           ],
           "locationmode": "USA-states",
           "locations": [
            "AL",
            "AK",
            "AZ",
            "AR",
            "CA",
            "CO",
            "CT",
            "DE",
            "dc",
            "FL",
            "GA",
            "HI",
            "ID",
            "IL",
            "IN",
            "IA",
            "KS",
            "KY",
            "LA",
            "ME",
            "MD",
            "MA",
            "MI",
            "MN",
            "MS",
            "MO",
            "MT",
            "NE",
            "NV",
            "NH",
            "NJ",
            "NM",
            "NY",
            "NC",
            "ND",
            "OH",
            "OK",
            "OR",
            "PA",
            "RI",
            "SC",
            "SD",
            "TN",
            "TX",
            "UT",
            "VT",
            "VA",
            "WA",
            "WV",
            "WI",
            "WY"
           ],
           "name": "",
           "type": "choropleth",
           "z": [
            1535,
            156,
            1769,
            738,
            12569,
            4182,
            4915,
            450,
            757,
            10260,
            5967,
            317,
            1013,
            8904,
            3437,
            699,
            624,
            770,
            10297,
            432,
            2758,
            10402,
            12670,
            789,
            1358,
            2113,
            262,
            296,
            1549,
            540,
            29895,
            495,
            102870,
            2093,
            173,
            3312,
            988,
            899,
            8420,
            711,
            1700,
            187,
            3032,
            5669,
            1260,
            389,
            2012,
            6966,
            242,
            1916,
            166
           ]
          }
         ],
         "name": "2020-04-03"
        },
        {
         "data": [
          {
           "coloraxis": "coloraxis",
           "geo": "geo",
           "hovertemplate": "<b>%{hovertext}</b><br><br>date=2020-04-04<br>state_code=%{location}<br>cases=%{z}<extra></extra>",
           "hovertext": [
            "AL",
            "AK",
            "AZ",
            "AR",
            "CA",
            "CO",
            "CT",
            "DE",
            "dc",
            "FL",
            "GA",
            "HI",
            "ID",
            "IL",
            "IN",
            "IA",
            "KS",
            "KY",
            "LA",
            "ME",
            "MD",
            "MA",
            "MI",
            "MN",
            "MS",
            "MO",
            "MT",
            "NE",
            "NV",
            "NH",
            "NJ",
            "NM",
            "NY",
            "NC",
            "ND",
            "OH",
            "OK",
            "OR",
            "PA",
            "RI",
            "SC",
            "SD",
            "TN",
            "TX",
            "UT",
            "VT",
            "VA",
            "WA",
            "WV",
            "WI",
            "WY"
           ],
           "locationmode": "USA-states",
           "locations": [
            "AL",
            "AK",
            "AZ",
            "AR",
            "CA",
            "CO",
            "CT",
            "DE",
            "dc",
            "FL",
            "GA",
            "HI",
            "ID",
            "IL",
            "IN",
            "IA",
            "KS",
            "KY",
            "LA",
            "ME",
            "MD",
            "MA",
            "MI",
            "MN",
            "MS",
            "MO",
            "MT",
            "NE",
            "NV",
            "NH",
            "NJ",
            "NM",
            "NY",
            "NC",
            "ND",
            "OH",
            "OK",
            "OR",
            "PA",
            "RI",
            "SC",
            "SD",
            "TN",
            "TX",
            "UT",
            "VT",
            "VA",
            "WA",
            "WV",
            "WI",
            "WY"
           ],
           "name": "",
           "type": "choropleth",
           "z": [
            1633,
            169,
            2019,
            743,
            13796,
            4574,
            5276,
            593,
            902,
            11537,
            6383,
            349,
            1077,
            10357,
            3953,
            786,
            701,
            917,
            12496,
            456,
            3125,
            11736,
            14225,
            865,
            1455,
            2291,
            281,
            339,
            1758,
            621,
            34124,
            543,
            114996,
            2402,
            186,
            3739,
            1159,
            999,
            10109,
            806,
            1917,
            212,
            3265,
            6566,
            1428,
            461,
            2407,
            7498,
            282,
            2112,
            187
           ]
          }
         ],
         "name": "2020-04-04"
        },
        {
         "data": [
          {
           "coloraxis": "coloraxis",
           "geo": "geo",
           "hovertemplate": "<b>%{hovertext}</b><br><br>date=2020-04-05<br>state_code=%{location}<br>cases=%{z}<extra></extra>",
           "hovertext": [
            "AL",
            "AK",
            "AZ",
            "AR",
            "CA",
            "CO",
            "CT",
            "DE",
            "dc",
            "FL",
            "GA",
            "HI",
            "ID",
            "IL",
            "IN",
            "IA",
            "KS",
            "KY",
            "LA",
            "ME",
            "MD",
            "MA",
            "MI",
            "MN",
            "MS",
            "MO",
            "MT",
            "NE",
            "NV",
            "NH",
            "NJ",
            "NM",
            "NY",
            "NC",
            "ND",
            "OH",
            "OK",
            "OR",
            "PA",
            "RI",
            "SC",
            "SD",
            "TN",
            "TX",
            "UT",
            "VT",
            "VA",
            "WA",
            "WV",
            "WI",
            "WY"
           ],
           "locationmode": "USA-states",
           "locations": [
            "AL",
            "AK",
            "AZ",
            "AR",
            "CA",
            "CO",
            "CT",
            "DE",
            "dc",
            "FL",
            "GA",
            "HI",
            "ID",
            "IL",
            "IN",
            "IA",
            "KS",
            "KY",
            "LA",
            "ME",
            "MD",
            "MA",
            "MI",
            "MN",
            "MS",
            "MO",
            "MT",
            "NE",
            "NV",
            "NH",
            "NJ",
            "NM",
            "NY",
            "NC",
            "ND",
            "OH",
            "OK",
            "OR",
            "PA",
            "RI",
            "SC",
            "SD",
            "TN",
            "TX",
            "UT",
            "VT",
            "VA",
            "WA",
            "WV",
            "WI",
            "WY"
           ],
           "name": "",
           "type": "choropleth",
           "z": [
            1841,
            185,
            2269,
            853,
            15076,
            4950,
            5675,
            673,
            998,
            12342,
            6742,
            369,
            1101,
            11276,
            4411,
            868,
            763,
            1048,
            13010,
            470,
            3609,
            12500,
            15635,
            935,
            1638,
            2367,
            298,
            377,
            1880,
            669,
            37505,
            624,
            122911,
            2585,
            207,
            4043,
            1252,
            1068,
            11589,
            922,
            2049,
            240,
            3538,
            7094,
            1605,
            512,
            2637,
            7984,
            324,
            2267,
            200
           ]
          }
         ],
         "name": "2020-04-05"
        },
        {
         "data": [
          {
           "coloraxis": "coloraxis",
           "geo": "geo",
           "hovertemplate": "<b>%{hovertext}</b><br><br>date=2020-04-06<br>state_code=%{location}<br>cases=%{z}<extra></extra>",
           "hovertext": [
            "AL",
            "AK",
            "AZ",
            "AR",
            "CA",
            "CO",
            "CT",
            "DE",
            "dc",
            "FL",
            "GA",
            "HI",
            "ID",
            "IL",
            "IN",
            "IA",
            "KS",
            "KY",
            "LA",
            "ME",
            "MD",
            "MA",
            "MI",
            "MN",
            "MS",
            "MO",
            "MT",
            "NE",
            "NV",
            "NH",
            "NJ",
            "NM",
            "NY",
            "NC",
            "ND",
            "OH",
            "OK",
            "OR",
            "PA",
            "RI",
            "SC",
            "SD",
            "TN",
            "TX",
            "UT",
            "VT",
            "VA",
            "WA",
            "WV",
            "WI",
            "WY"
           ],
           "locationmode": "USA-states",
           "locations": [
            "AL",
            "AK",
            "AZ",
            "AR",
            "CA",
            "CO",
            "CT",
            "DE",
            "dc",
            "FL",
            "GA",
            "HI",
            "ID",
            "IL",
            "IN",
            "IA",
            "KS",
            "KY",
            "LA",
            "ME",
            "MD",
            "MA",
            "MI",
            "MN",
            "MS",
            "MO",
            "MT",
            "NE",
            "NV",
            "NH",
            "NJ",
            "NM",
            "NY",
            "NC",
            "ND",
            "OH",
            "OK",
            "OR",
            "PA",
            "RI",
            "SC",
            "SD",
            "TN",
            "TX",
            "UT",
            "VT",
            "VA",
            "WA",
            "WV",
            "WI",
            "WY"
           ],
           "name": "",
           "type": "choropleth",
           "z": [
            2006,
            189,
            2465,
            927,
            16284,
            5172,
            6906,
            783,
            1097,
            13621,
            7558,
            385,
            1170,
            12262,
            4956,
            946,
            853,
            1057,
            14867,
            499,
            4045,
            13837,
            17130,
            986,
            1738,
            2722,
            319,
            438,
            1971,
            715,
            41090,
            686,
            130703,
            2870,
            225,
            4450,
            1327,
            1132,
            13074,
            1082,
            2232,
            288,
            3753,
            8115,
            1675,
            543,
            2878,
            8384,
            345,
            2440,
            212
           ]
          }
         ],
         "name": "2020-04-06"
        },
        {
         "data": [
          {
           "coloraxis": "coloraxis",
           "geo": "geo",
           "hovertemplate": "<b>%{hovertext}</b><br><br>date=2020-04-07<br>state_code=%{location}<br>cases=%{z}<extra></extra>",
           "hovertext": [
            "AL",
            "AK",
            "AZ",
            "AR",
            "CA",
            "CO",
            "CT",
            "DE",
            "dc",
            "FL",
            "GA",
            "HI",
            "ID",
            "IL",
            "IN",
            "IA",
            "KS",
            "KY",
            "LA",
            "ME",
            "MD",
            "MA",
            "MI",
            "MN",
            "MS",
            "MO",
            "MT",
            "NE",
            "NV",
            "NH",
            "NJ",
            "NM",
            "NY",
            "NC",
            "ND",
            "OH",
            "OK",
            "OR",
            "PA",
            "RI",
            "SC",
            "SD",
            "TN",
            "TX",
            "UT",
            "VT",
            "VA",
            "WA",
            "WV",
            "WI",
            "WY"
           ],
           "locationmode": "USA-states",
           "locations": [
            "AL",
            "AK",
            "AZ",
            "AR",
            "CA",
            "CO",
            "CT",
            "DE",
            "dc",
            "FL",
            "GA",
            "HI",
            "ID",
            "IL",
            "IN",
            "IA",
            "KS",
            "KY",
            "LA",
            "ME",
            "MD",
            "MA",
            "MI",
            "MN",
            "MS",
            "MO",
            "MT",
            "NE",
            "NV",
            "NH",
            "NJ",
            "NM",
            "NY",
            "NC",
            "ND",
            "OH",
            "OK",
            "OR",
            "PA",
            "RI",
            "SC",
            "SD",
            "TN",
            "TX",
            "UT",
            "VT",
            "VA",
            "WA",
            "WV",
            "WI",
            "WY"
           ],
           "name": "",
           "type": "choropleth",
           "z": [
            2197,
            211,
            2575,
            997,
            17540,
            5429,
            7781,
            928,
            1211,
            14739,
            9156,
            408,
            1210,
            13549,
            5507,
            1048,
            905,
            1289,
            16284,
            519,
            4371,
            15202,
            18852,
            1069,
            1915,
            3037,
            319,
            490,
            2101,
            747,
            44416,
            794,
            140081,
            3220,
            237,
            4782,
            1472,
            1181,
            14582,
            1229,
            2417,
            320,
            4010,
            8974,
            1752,
            575,
            3333,
            8682,
            412,
            2578,
            221
           ]
          }
         ],
         "name": "2020-04-07"
        }
       ],
       "layout": {
        "coloraxis": {
         "colorbar": {
          "title": {
           "text": "cases"
          }
         },
         "colorscale": [
          [
           0,
           "rgb(255,245,240)"
          ],
          [
           0.125,
           "rgb(254,224,210)"
          ],
          [
           0.25,
           "rgb(252,187,161)"
          ],
          [
           0.375,
           "rgb(252,146,114)"
          ],
          [
           0.5,
           "rgb(251,106,74)"
          ],
          [
           0.625,
           "rgb(239,59,44)"
          ],
          [
           0.75,
           "rgb(203,24,29)"
          ],
          [
           0.875,
           "rgb(165,15,21)"
          ],
          [
           1,
           "rgb(103,0,13)"
          ]
         ]
        },
        "geo": {
         "center": {},
         "domain": {
          "x": [
           0,
           1
          ],
          "y": [
           0,
           1
          ]
         },
         "projection": {
          "type": "albers usa"
         },
         "scope": "usa",
         "showlakes": false
        },
        "legend": {
         "tracegroupgap": 0
        },
        "margin": {
         "t": 60
        },
        "sliders": [
         {
          "active": 0,
          "currentvalue": {
           "prefix": "date="
          },
          "len": 0.9,
          "pad": {
           "b": 10,
           "t": 60
          },
          "steps": [
           {
            "args": [
             [
              "2020-01-21"
             ],
             {
              "frame": {
               "duration": 0,
               "redraw": true
              },
              "fromcurrent": true,
              "mode": "immediate",
              "transition": {
               "duration": 0,
               "easing": "linear"
              }
             }
            ],
            "label": "2020-01-21",
            "method": "animate"
           },
           {
            "args": [
             [
              "2020-01-22"
             ],
             {
              "frame": {
               "duration": 0,
               "redraw": true
              },
              "fromcurrent": true,
              "mode": "immediate",
              "transition": {
               "duration": 0,
               "easing": "linear"
              }
             }
            ],
            "label": "2020-01-22",
            "method": "animate"
           },
           {
            "args": [
             [
              "2020-01-23"
             ],
             {
              "frame": {
               "duration": 0,
               "redraw": true
              },
              "fromcurrent": true,
              "mode": "immediate",
              "transition": {
               "duration": 0,
               "easing": "linear"
              }
             }
            ],
            "label": "2020-01-23",
            "method": "animate"
           },
           {
            "args": [
             [
              "2020-01-24"
             ],
             {
              "frame": {
               "duration": 0,
               "redraw": true
              },
              "fromcurrent": true,
              "mode": "immediate",
              "transition": {
               "duration": 0,
               "easing": "linear"
              }
             }
            ],
            "label": "2020-01-24",
            "method": "animate"
           },
           {
            "args": [
             [
              "2020-01-25"
             ],
             {
              "frame": {
               "duration": 0,
               "redraw": true
              },
              "fromcurrent": true,
              "mode": "immediate",
              "transition": {
               "duration": 0,
               "easing": "linear"
              }
             }
            ],
            "label": "2020-01-25",
            "method": "animate"
           },
           {
            "args": [
             [
              "2020-01-26"
             ],
             {
              "frame": {
               "duration": 0,
               "redraw": true
              },
              "fromcurrent": true,
              "mode": "immediate",
              "transition": {
               "duration": 0,
               "easing": "linear"
              }
             }
            ],
            "label": "2020-01-26",
            "method": "animate"
           },
           {
            "args": [
             [
              "2020-01-27"
             ],
             {
              "frame": {
               "duration": 0,
               "redraw": true
              },
              "fromcurrent": true,
              "mode": "immediate",
              "transition": {
               "duration": 0,
               "easing": "linear"
              }
             }
            ],
            "label": "2020-01-27",
            "method": "animate"
           },
           {
            "args": [
             [
              "2020-01-28"
             ],
             {
              "frame": {
               "duration": 0,
               "redraw": true
              },
              "fromcurrent": true,
              "mode": "immediate",
              "transition": {
               "duration": 0,
               "easing": "linear"
              }
             }
            ],
            "label": "2020-01-28",
            "method": "animate"
           },
           {
            "args": [
             [
              "2020-01-29"
             ],
             {
              "frame": {
               "duration": 0,
               "redraw": true
              },
              "fromcurrent": true,
              "mode": "immediate",
              "transition": {
               "duration": 0,
               "easing": "linear"
              }
             }
            ],
            "label": "2020-01-29",
            "method": "animate"
           },
           {
            "args": [
             [
              "2020-01-30"
             ],
             {
              "frame": {
               "duration": 0,
               "redraw": true
              },
              "fromcurrent": true,
              "mode": "immediate",
              "transition": {
               "duration": 0,
               "easing": "linear"
              }
             }
            ],
            "label": "2020-01-30",
            "method": "animate"
           },
           {
            "args": [
             [
              "2020-01-31"
             ],
             {
              "frame": {
               "duration": 0,
               "redraw": true
              },
              "fromcurrent": true,
              "mode": "immediate",
              "transition": {
               "duration": 0,
               "easing": "linear"
              }
             }
            ],
            "label": "2020-01-31",
            "method": "animate"
           },
           {
            "args": [
             [
              "2020-02-01"
             ],
             {
              "frame": {
               "duration": 0,
               "redraw": true
              },
              "fromcurrent": true,
              "mode": "immediate",
              "transition": {
               "duration": 0,
               "easing": "linear"
              }
             }
            ],
            "label": "2020-02-01",
            "method": "animate"
           },
           {
            "args": [
             [
              "2020-02-02"
             ],
             {
              "frame": {
               "duration": 0,
               "redraw": true
              },
              "fromcurrent": true,
              "mode": "immediate",
              "transition": {
               "duration": 0,
               "easing": "linear"
              }
             }
            ],
            "label": "2020-02-02",
            "method": "animate"
           },
           {
            "args": [
             [
              "2020-02-03"
             ],
             {
              "frame": {
               "duration": 0,
               "redraw": true
              },
              "fromcurrent": true,
              "mode": "immediate",
              "transition": {
               "duration": 0,
               "easing": "linear"
              }
             }
            ],
            "label": "2020-02-03",
            "method": "animate"
           },
           {
            "args": [
             [
              "2020-02-04"
             ],
             {
              "frame": {
               "duration": 0,
               "redraw": true
              },
              "fromcurrent": true,
              "mode": "immediate",
              "transition": {
               "duration": 0,
               "easing": "linear"
              }
             }
            ],
            "label": "2020-02-04",
            "method": "animate"
           },
           {
            "args": [
             [
              "2020-02-05"
             ],
             {
              "frame": {
               "duration": 0,
               "redraw": true
              },
              "fromcurrent": true,
              "mode": "immediate",
              "transition": {
               "duration": 0,
               "easing": "linear"
              }
             }
            ],
            "label": "2020-02-05",
            "method": "animate"
           },
           {
            "args": [
             [
              "2020-02-06"
             ],
             {
              "frame": {
               "duration": 0,
               "redraw": true
              },
              "fromcurrent": true,
              "mode": "immediate",
              "transition": {
               "duration": 0,
               "easing": "linear"
              }
             }
            ],
            "label": "2020-02-06",
            "method": "animate"
           },
           {
            "args": [
             [
              "2020-02-07"
             ],
             {
              "frame": {
               "duration": 0,
               "redraw": true
              },
              "fromcurrent": true,
              "mode": "immediate",
              "transition": {
               "duration": 0,
               "easing": "linear"
              }
             }
            ],
            "label": "2020-02-07",
            "method": "animate"
           },
           {
            "args": [
             [
              "2020-02-08"
             ],
             {
              "frame": {
               "duration": 0,
               "redraw": true
              },
              "fromcurrent": true,
              "mode": "immediate",
              "transition": {
               "duration": 0,
               "easing": "linear"
              }
             }
            ],
            "label": "2020-02-08",
            "method": "animate"
           },
           {
            "args": [
             [
              "2020-02-09"
             ],
             {
              "frame": {
               "duration": 0,
               "redraw": true
              },
              "fromcurrent": true,
              "mode": "immediate",
              "transition": {
               "duration": 0,
               "easing": "linear"
              }
             }
            ],
            "label": "2020-02-09",
            "method": "animate"
           },
           {
            "args": [
             [
              "2020-02-10"
             ],
             {
              "frame": {
               "duration": 0,
               "redraw": true
              },
              "fromcurrent": true,
              "mode": "immediate",
              "transition": {
               "duration": 0,
               "easing": "linear"
              }
             }
            ],
            "label": "2020-02-10",
            "method": "animate"
           },
           {
            "args": [
             [
              "2020-02-11"
             ],
             {
              "frame": {
               "duration": 0,
               "redraw": true
              },
              "fromcurrent": true,
              "mode": "immediate",
              "transition": {
               "duration": 0,
               "easing": "linear"
              }
             }
            ],
            "label": "2020-02-11",
            "method": "animate"
           },
           {
            "args": [
             [
              "2020-02-12"
             ],
             {
              "frame": {
               "duration": 0,
               "redraw": true
              },
              "fromcurrent": true,
              "mode": "immediate",
              "transition": {
               "duration": 0,
               "easing": "linear"
              }
             }
            ],
            "label": "2020-02-12",
            "method": "animate"
           },
           {
            "args": [
             [
              "2020-02-13"
             ],
             {
              "frame": {
               "duration": 0,
               "redraw": true
              },
              "fromcurrent": true,
              "mode": "immediate",
              "transition": {
               "duration": 0,
               "easing": "linear"
              }
             }
            ],
            "label": "2020-02-13",
            "method": "animate"
           },
           {
            "args": [
             [
              "2020-02-14"
             ],
             {
              "frame": {
               "duration": 0,
               "redraw": true
              },
              "fromcurrent": true,
              "mode": "immediate",
              "transition": {
               "duration": 0,
               "easing": "linear"
              }
             }
            ],
            "label": "2020-02-14",
            "method": "animate"
           },
           {
            "args": [
             [
              "2020-02-15"
             ],
             {
              "frame": {
               "duration": 0,
               "redraw": true
              },
              "fromcurrent": true,
              "mode": "immediate",
              "transition": {
               "duration": 0,
               "easing": "linear"
              }
             }
            ],
            "label": "2020-02-15",
            "method": "animate"
           },
           {
            "args": [
             [
              "2020-02-16"
             ],
             {
              "frame": {
               "duration": 0,
               "redraw": true
              },
              "fromcurrent": true,
              "mode": "immediate",
              "transition": {
               "duration": 0,
               "easing": "linear"
              }
             }
            ],
            "label": "2020-02-16",
            "method": "animate"
           },
           {
            "args": [
             [
              "2020-02-17"
             ],
             {
              "frame": {
               "duration": 0,
               "redraw": true
              },
              "fromcurrent": true,
              "mode": "immediate",
              "transition": {
               "duration": 0,
               "easing": "linear"
              }
             }
            ],
            "label": "2020-02-17",
            "method": "animate"
           },
           {
            "args": [
             [
              "2020-02-18"
             ],
             {
              "frame": {
               "duration": 0,
               "redraw": true
              },
              "fromcurrent": true,
              "mode": "immediate",
              "transition": {
               "duration": 0,
               "easing": "linear"
              }
             }
            ],
            "label": "2020-02-18",
            "method": "animate"
           },
           {
            "args": [
             [
              "2020-02-19"
             ],
             {
              "frame": {
               "duration": 0,
               "redraw": true
              },
              "fromcurrent": true,
              "mode": "immediate",
              "transition": {
               "duration": 0,
               "easing": "linear"
              }
             }
            ],
            "label": "2020-02-19",
            "method": "animate"
           },
           {
            "args": [
             [
              "2020-02-20"
             ],
             {
              "frame": {
               "duration": 0,
               "redraw": true
              },
              "fromcurrent": true,
              "mode": "immediate",
              "transition": {
               "duration": 0,
               "easing": "linear"
              }
             }
            ],
            "label": "2020-02-20",
            "method": "animate"
           },
           {
            "args": [
             [
              "2020-02-21"
             ],
             {
              "frame": {
               "duration": 0,
               "redraw": true
              },
              "fromcurrent": true,
              "mode": "immediate",
              "transition": {
               "duration": 0,
               "easing": "linear"
              }
             }
            ],
            "label": "2020-02-21",
            "method": "animate"
           },
           {
            "args": [
             [
              "2020-02-22"
             ],
             {
              "frame": {
               "duration": 0,
               "redraw": true
              },
              "fromcurrent": true,
              "mode": "immediate",
              "transition": {
               "duration": 0,
               "easing": "linear"
              }
             }
            ],
            "label": "2020-02-22",
            "method": "animate"
           },
           {
            "args": [
             [
              "2020-02-23"
             ],
             {
              "frame": {
               "duration": 0,
               "redraw": true
              },
              "fromcurrent": true,
              "mode": "immediate",
              "transition": {
               "duration": 0,
               "easing": "linear"
              }
             }
            ],
            "label": "2020-02-23",
            "method": "animate"
           },
           {
            "args": [
             [
              "2020-02-24"
             ],
             {
              "frame": {
               "duration": 0,
               "redraw": true
              },
              "fromcurrent": true,
              "mode": "immediate",
              "transition": {
               "duration": 0,
               "easing": "linear"
              }
             }
            ],
            "label": "2020-02-24",
            "method": "animate"
           },
           {
            "args": [
             [
              "2020-02-25"
             ],
             {
              "frame": {
               "duration": 0,
               "redraw": true
              },
              "fromcurrent": true,
              "mode": "immediate",
              "transition": {
               "duration": 0,
               "easing": "linear"
              }
             }
            ],
            "label": "2020-02-25",
            "method": "animate"
           },
           {
            "args": [
             [
              "2020-02-26"
             ],
             {
              "frame": {
               "duration": 0,
               "redraw": true
              },
              "fromcurrent": true,
              "mode": "immediate",
              "transition": {
               "duration": 0,
               "easing": "linear"
              }
             }
            ],
            "label": "2020-02-26",
            "method": "animate"
           },
           {
            "args": [
             [
              "2020-02-27"
             ],
             {
              "frame": {
               "duration": 0,
               "redraw": true
              },
              "fromcurrent": true,
              "mode": "immediate",
              "transition": {
               "duration": 0,
               "easing": "linear"
              }
             }
            ],
            "label": "2020-02-27",
            "method": "animate"
           },
           {
            "args": [
             [
              "2020-02-28"
             ],
             {
              "frame": {
               "duration": 0,
               "redraw": true
              },
              "fromcurrent": true,
              "mode": "immediate",
              "transition": {
               "duration": 0,
               "easing": "linear"
              }
             }
            ],
            "label": "2020-02-28",
            "method": "animate"
           },
           {
            "args": [
             [
              "2020-02-29"
             ],
             {
              "frame": {
               "duration": 0,
               "redraw": true
              },
              "fromcurrent": true,
              "mode": "immediate",
              "transition": {
               "duration": 0,
               "easing": "linear"
              }
             }
            ],
            "label": "2020-02-29",
            "method": "animate"
           },
           {
            "args": [
             [
              "2020-03-01"
             ],
             {
              "frame": {
               "duration": 0,
               "redraw": true
              },
              "fromcurrent": true,
              "mode": "immediate",
              "transition": {
               "duration": 0,
               "easing": "linear"
              }
             }
            ],
            "label": "2020-03-01",
            "method": "animate"
           },
           {
            "args": [
             [
              "2020-03-02"
             ],
             {
              "frame": {
               "duration": 0,
               "redraw": true
              },
              "fromcurrent": true,
              "mode": "immediate",
              "transition": {
               "duration": 0,
               "easing": "linear"
              }
             }
            ],
            "label": "2020-03-02",
            "method": "animate"
           },
           {
            "args": [
             [
              "2020-03-03"
             ],
             {
              "frame": {
               "duration": 0,
               "redraw": true
              },
              "fromcurrent": true,
              "mode": "immediate",
              "transition": {
               "duration": 0,
               "easing": "linear"
              }
             }
            ],
            "label": "2020-03-03",
            "method": "animate"
           },
           {
            "args": [
             [
              "2020-03-04"
             ],
             {
              "frame": {
               "duration": 0,
               "redraw": true
              },
              "fromcurrent": true,
              "mode": "immediate",
              "transition": {
               "duration": 0,
               "easing": "linear"
              }
             }
            ],
            "label": "2020-03-04",
            "method": "animate"
           },
           {
            "args": [
             [
              "2020-03-05"
             ],
             {
              "frame": {
               "duration": 0,
               "redraw": true
              },
              "fromcurrent": true,
              "mode": "immediate",
              "transition": {
               "duration": 0,
               "easing": "linear"
              }
             }
            ],
            "label": "2020-03-05",
            "method": "animate"
           },
           {
            "args": [
             [
              "2020-03-06"
             ],
             {
              "frame": {
               "duration": 0,
               "redraw": true
              },
              "fromcurrent": true,
              "mode": "immediate",
              "transition": {
               "duration": 0,
               "easing": "linear"
              }
             }
            ],
            "label": "2020-03-06",
            "method": "animate"
           },
           {
            "args": [
             [
              "2020-03-07"
             ],
             {
              "frame": {
               "duration": 0,
               "redraw": true
              },
              "fromcurrent": true,
              "mode": "immediate",
              "transition": {
               "duration": 0,
               "easing": "linear"
              }
             }
            ],
            "label": "2020-03-07",
            "method": "animate"
           },
           {
            "args": [
             [
              "2020-03-08"
             ],
             {
              "frame": {
               "duration": 0,
               "redraw": true
              },
              "fromcurrent": true,
              "mode": "immediate",
              "transition": {
               "duration": 0,
               "easing": "linear"
              }
             }
            ],
            "label": "2020-03-08",
            "method": "animate"
           },
           {
            "args": [
             [
              "2020-03-09"
             ],
             {
              "frame": {
               "duration": 0,
               "redraw": true
              },
              "fromcurrent": true,
              "mode": "immediate",
              "transition": {
               "duration": 0,
               "easing": "linear"
              }
             }
            ],
            "label": "2020-03-09",
            "method": "animate"
           },
           {
            "args": [
             [
              "2020-03-10"
             ],
             {
              "frame": {
               "duration": 0,
               "redraw": true
              },
              "fromcurrent": true,
              "mode": "immediate",
              "transition": {
               "duration": 0,
               "easing": "linear"
              }
             }
            ],
            "label": "2020-03-10",
            "method": "animate"
           },
           {
            "args": [
             [
              "2020-03-11"
             ],
             {
              "frame": {
               "duration": 0,
               "redraw": true
              },
              "fromcurrent": true,
              "mode": "immediate",
              "transition": {
               "duration": 0,
               "easing": "linear"
              }
             }
            ],
            "label": "2020-03-11",
            "method": "animate"
           },
           {
            "args": [
             [
              "2020-03-12"
             ],
             {
              "frame": {
               "duration": 0,
               "redraw": true
              },
              "fromcurrent": true,
              "mode": "immediate",
              "transition": {
               "duration": 0,
               "easing": "linear"
              }
             }
            ],
            "label": "2020-03-12",
            "method": "animate"
           },
           {
            "args": [
             [
              "2020-03-13"
             ],
             {
              "frame": {
               "duration": 0,
               "redraw": true
              },
              "fromcurrent": true,
              "mode": "immediate",
              "transition": {
               "duration": 0,
               "easing": "linear"
              }
             }
            ],
            "label": "2020-03-13",
            "method": "animate"
           },
           {
            "args": [
             [
              "2020-03-14"
             ],
             {
              "frame": {
               "duration": 0,
               "redraw": true
              },
              "fromcurrent": true,
              "mode": "immediate",
              "transition": {
               "duration": 0,
               "easing": "linear"
              }
             }
            ],
            "label": "2020-03-14",
            "method": "animate"
           },
           {
            "args": [
             [
              "2020-03-15"
             ],
             {
              "frame": {
               "duration": 0,
               "redraw": true
              },
              "fromcurrent": true,
              "mode": "immediate",
              "transition": {
               "duration": 0,
               "easing": "linear"
              }
             }
            ],
            "label": "2020-03-15",
            "method": "animate"
           },
           {
            "args": [
             [
              "2020-03-16"
             ],
             {
              "frame": {
               "duration": 0,
               "redraw": true
              },
              "fromcurrent": true,
              "mode": "immediate",
              "transition": {
               "duration": 0,
               "easing": "linear"
              }
             }
            ],
            "label": "2020-03-16",
            "method": "animate"
           },
           {
            "args": [
             [
              "2020-03-17"
             ],
             {
              "frame": {
               "duration": 0,
               "redraw": true
              },
              "fromcurrent": true,
              "mode": "immediate",
              "transition": {
               "duration": 0,
               "easing": "linear"
              }
             }
            ],
            "label": "2020-03-17",
            "method": "animate"
           },
           {
            "args": [
             [
              "2020-03-18"
             ],
             {
              "frame": {
               "duration": 0,
               "redraw": true
              },
              "fromcurrent": true,
              "mode": "immediate",
              "transition": {
               "duration": 0,
               "easing": "linear"
              }
             }
            ],
            "label": "2020-03-18",
            "method": "animate"
           },
           {
            "args": [
             [
              "2020-03-19"
             ],
             {
              "frame": {
               "duration": 0,
               "redraw": true
              },
              "fromcurrent": true,
              "mode": "immediate",
              "transition": {
               "duration": 0,
               "easing": "linear"
              }
             }
            ],
            "label": "2020-03-19",
            "method": "animate"
           },
           {
            "args": [
             [
              "2020-03-20"
             ],
             {
              "frame": {
               "duration": 0,
               "redraw": true
              },
              "fromcurrent": true,
              "mode": "immediate",
              "transition": {
               "duration": 0,
               "easing": "linear"
              }
             }
            ],
            "label": "2020-03-20",
            "method": "animate"
           },
           {
            "args": [
             [
              "2020-03-21"
             ],
             {
              "frame": {
               "duration": 0,
               "redraw": true
              },
              "fromcurrent": true,
              "mode": "immediate",
              "transition": {
               "duration": 0,
               "easing": "linear"
              }
             }
            ],
            "label": "2020-03-21",
            "method": "animate"
           },
           {
            "args": [
             [
              "2020-03-22"
             ],
             {
              "frame": {
               "duration": 0,
               "redraw": true
              },
              "fromcurrent": true,
              "mode": "immediate",
              "transition": {
               "duration": 0,
               "easing": "linear"
              }
             }
            ],
            "label": "2020-03-22",
            "method": "animate"
           },
           {
            "args": [
             [
              "2020-03-23"
             ],
             {
              "frame": {
               "duration": 0,
               "redraw": true
              },
              "fromcurrent": true,
              "mode": "immediate",
              "transition": {
               "duration": 0,
               "easing": "linear"
              }
             }
            ],
            "label": "2020-03-23",
            "method": "animate"
           },
           {
            "args": [
             [
              "2020-03-24"
             ],
             {
              "frame": {
               "duration": 0,
               "redraw": true
              },
              "fromcurrent": true,
              "mode": "immediate",
              "transition": {
               "duration": 0,
               "easing": "linear"
              }
             }
            ],
            "label": "2020-03-24",
            "method": "animate"
           },
           {
            "args": [
             [
              "2020-03-25"
             ],
             {
              "frame": {
               "duration": 0,
               "redraw": true
              },
              "fromcurrent": true,
              "mode": "immediate",
              "transition": {
               "duration": 0,
               "easing": "linear"
              }
             }
            ],
            "label": "2020-03-25",
            "method": "animate"
           },
           {
            "args": [
             [
              "2020-03-26"
             ],
             {
              "frame": {
               "duration": 0,
               "redraw": true
              },
              "fromcurrent": true,
              "mode": "immediate",
              "transition": {
               "duration": 0,
               "easing": "linear"
              }
             }
            ],
            "label": "2020-03-26",
            "method": "animate"
           },
           {
            "args": [
             [
              "2020-03-27"
             ],
             {
              "frame": {
               "duration": 0,
               "redraw": true
              },
              "fromcurrent": true,
              "mode": "immediate",
              "transition": {
               "duration": 0,
               "easing": "linear"
              }
             }
            ],
            "label": "2020-03-27",
            "method": "animate"
           },
           {
            "args": [
             [
              "2020-03-28"
             ],
             {
              "frame": {
               "duration": 0,
               "redraw": true
              },
              "fromcurrent": true,
              "mode": "immediate",
              "transition": {
               "duration": 0,
               "easing": "linear"
              }
             }
            ],
            "label": "2020-03-28",
            "method": "animate"
           },
           {
            "args": [
             [
              "2020-03-29"
             ],
             {
              "frame": {
               "duration": 0,
               "redraw": true
              },
              "fromcurrent": true,
              "mode": "immediate",
              "transition": {
               "duration": 0,
               "easing": "linear"
              }
             }
            ],
            "label": "2020-03-29",
            "method": "animate"
           },
           {
            "args": [
             [
              "2020-03-30"
             ],
             {
              "frame": {
               "duration": 0,
               "redraw": true
              },
              "fromcurrent": true,
              "mode": "immediate",
              "transition": {
               "duration": 0,
               "easing": "linear"
              }
             }
            ],
            "label": "2020-03-30",
            "method": "animate"
           },
           {
            "args": [
             [
              "2020-03-31"
             ],
             {
              "frame": {
               "duration": 0,
               "redraw": true
              },
              "fromcurrent": true,
              "mode": "immediate",
              "transition": {
               "duration": 0,
               "easing": "linear"
              }
             }
            ],
            "label": "2020-03-31",
            "method": "animate"
           },
           {
            "args": [
             [
              "2020-04-01"
             ],
             {
              "frame": {
               "duration": 0,
               "redraw": true
              },
              "fromcurrent": true,
              "mode": "immediate",
              "transition": {
               "duration": 0,
               "easing": "linear"
              }
             }
            ],
            "label": "2020-04-01",
            "method": "animate"
           },
           {
            "args": [
             [
              "2020-04-02"
             ],
             {
              "frame": {
               "duration": 0,
               "redraw": true
              },
              "fromcurrent": true,
              "mode": "immediate",
              "transition": {
               "duration": 0,
               "easing": "linear"
              }
             }
            ],
            "label": "2020-04-02",
            "method": "animate"
           },
           {
            "args": [
             [
              "2020-04-03"
             ],
             {
              "frame": {
               "duration": 0,
               "redraw": true
              },
              "fromcurrent": true,
              "mode": "immediate",
              "transition": {
               "duration": 0,
               "easing": "linear"
              }
             }
            ],
            "label": "2020-04-03",
            "method": "animate"
           },
           {
            "args": [
             [
              "2020-04-04"
             ],
             {
              "frame": {
               "duration": 0,
               "redraw": true
              },
              "fromcurrent": true,
              "mode": "immediate",
              "transition": {
               "duration": 0,
               "easing": "linear"
              }
             }
            ],
            "label": "2020-04-04",
            "method": "animate"
           },
           {
            "args": [
             [
              "2020-04-05"
             ],
             {
              "frame": {
               "duration": 0,
               "redraw": true
              },
              "fromcurrent": true,
              "mode": "immediate",
              "transition": {
               "duration": 0,
               "easing": "linear"
              }
             }
            ],
            "label": "2020-04-05",
            "method": "animate"
           },
           {
            "args": [
             [
              "2020-04-06"
             ],
             {
              "frame": {
               "duration": 0,
               "redraw": true
              },
              "fromcurrent": true,
              "mode": "immediate",
              "transition": {
               "duration": 0,
               "easing": "linear"
              }
             }
            ],
            "label": "2020-04-06",
            "method": "animate"
           },
           {
            "args": [
             [
              "2020-04-07"
             ],
             {
              "frame": {
               "duration": 0,
               "redraw": true
              },
              "fromcurrent": true,
              "mode": "immediate",
              "transition": {
               "duration": 0,
               "easing": "linear"
              }
             }
            ],
            "label": "2020-04-07",
            "method": "animate"
           }
          ],
          "x": 0.1,
          "xanchor": "left",
          "y": 0,
          "yanchor": "top"
         }
        ],
        "template": {
         "data": {
          "bar": [
           {
            "error_x": {
             "color": "#2a3f5f"
            },
            "error_y": {
             "color": "#2a3f5f"
            },
            "marker": {
             "line": {
              "color": "#E5ECF6",
              "width": 0.5
             }
            },
            "type": "bar"
           }
          ],
          "barpolar": [
           {
            "marker": {
             "line": {
              "color": "#E5ECF6",
              "width": 0.5
             }
            },
            "type": "barpolar"
           }
          ],
          "carpet": [
           {
            "aaxis": {
             "endlinecolor": "#2a3f5f",
             "gridcolor": "white",
             "linecolor": "white",
             "minorgridcolor": "white",
             "startlinecolor": "#2a3f5f"
            },
            "baxis": {
             "endlinecolor": "#2a3f5f",
             "gridcolor": "white",
             "linecolor": "white",
             "minorgridcolor": "white",
             "startlinecolor": "#2a3f5f"
            },
            "type": "carpet"
           }
          ],
          "choropleth": [
           {
            "colorbar": {
             "outlinewidth": 0,
             "ticks": ""
            },
            "type": "choropleth"
           }
          ],
          "contour": [
           {
            "colorbar": {
             "outlinewidth": 0,
             "ticks": ""
            },
            "colorscale": [
             [
              0,
              "#0d0887"
             ],
             [
              0.1111111111111111,
              "#46039f"
             ],
             [
              0.2222222222222222,
              "#7201a8"
             ],
             [
              0.3333333333333333,
              "#9c179e"
             ],
             [
              0.4444444444444444,
              "#bd3786"
             ],
             [
              0.5555555555555556,
              "#d8576b"
             ],
             [
              0.6666666666666666,
              "#ed7953"
             ],
             [
              0.7777777777777778,
              "#fb9f3a"
             ],
             [
              0.8888888888888888,
              "#fdca26"
             ],
             [
              1,
              "#f0f921"
             ]
            ],
            "type": "contour"
           }
          ],
          "contourcarpet": [
           {
            "colorbar": {
             "outlinewidth": 0,
             "ticks": ""
            },
            "type": "contourcarpet"
           }
          ],
          "heatmap": [
           {
            "colorbar": {
             "outlinewidth": 0,
             "ticks": ""
            },
            "colorscale": [
             [
              0,
              "#0d0887"
             ],
             [
              0.1111111111111111,
              "#46039f"
             ],
             [
              0.2222222222222222,
              "#7201a8"
             ],
             [
              0.3333333333333333,
              "#9c179e"
             ],
             [
              0.4444444444444444,
              "#bd3786"
             ],
             [
              0.5555555555555556,
              "#d8576b"
             ],
             [
              0.6666666666666666,
              "#ed7953"
             ],
             [
              0.7777777777777778,
              "#fb9f3a"
             ],
             [
              0.8888888888888888,
              "#fdca26"
             ],
             [
              1,
              "#f0f921"
             ]
            ],
            "type": "heatmap"
           }
          ],
          "heatmapgl": [
           {
            "colorbar": {
             "outlinewidth": 0,
             "ticks": ""
            },
            "colorscale": [
             [
              0,
              "#0d0887"
             ],
             [
              0.1111111111111111,
              "#46039f"
             ],
             [
              0.2222222222222222,
              "#7201a8"
             ],
             [
              0.3333333333333333,
              "#9c179e"
             ],
             [
              0.4444444444444444,
              "#bd3786"
             ],
             [
              0.5555555555555556,
              "#d8576b"
             ],
             [
              0.6666666666666666,
              "#ed7953"
             ],
             [
              0.7777777777777778,
              "#fb9f3a"
             ],
             [
              0.8888888888888888,
              "#fdca26"
             ],
             [
              1,
              "#f0f921"
             ]
            ],
            "type": "heatmapgl"
           }
          ],
          "histogram": [
           {
            "marker": {
             "colorbar": {
              "outlinewidth": 0,
              "ticks": ""
             }
            },
            "type": "histogram"
           }
          ],
          "histogram2d": [
           {
            "colorbar": {
             "outlinewidth": 0,
             "ticks": ""
            },
            "colorscale": [
             [
              0,
              "#0d0887"
             ],
             [
              0.1111111111111111,
              "#46039f"
             ],
             [
              0.2222222222222222,
              "#7201a8"
             ],
             [
              0.3333333333333333,
              "#9c179e"
             ],
             [
              0.4444444444444444,
              "#bd3786"
             ],
             [
              0.5555555555555556,
              "#d8576b"
             ],
             [
              0.6666666666666666,
              "#ed7953"
             ],
             [
              0.7777777777777778,
              "#fb9f3a"
             ],
             [
              0.8888888888888888,
              "#fdca26"
             ],
             [
              1,
              "#f0f921"
             ]
            ],
            "type": "histogram2d"
           }
          ],
          "histogram2dcontour": [
           {
            "colorbar": {
             "outlinewidth": 0,
             "ticks": ""
            },
            "colorscale": [
             [
              0,
              "#0d0887"
             ],
             [
              0.1111111111111111,
              "#46039f"
             ],
             [
              0.2222222222222222,
              "#7201a8"
             ],
             [
              0.3333333333333333,
              "#9c179e"
             ],
             [
              0.4444444444444444,
              "#bd3786"
             ],
             [
              0.5555555555555556,
              "#d8576b"
             ],
             [
              0.6666666666666666,
              "#ed7953"
             ],
             [
              0.7777777777777778,
              "#fb9f3a"
             ],
             [
              0.8888888888888888,
              "#fdca26"
             ],
             [
              1,
              "#f0f921"
             ]
            ],
            "type": "histogram2dcontour"
           }
          ],
          "mesh3d": [
           {
            "colorbar": {
             "outlinewidth": 0,
             "ticks": ""
            },
            "type": "mesh3d"
           }
          ],
          "parcoords": [
           {
            "line": {
             "colorbar": {
              "outlinewidth": 0,
              "ticks": ""
             }
            },
            "type": "parcoords"
           }
          ],
          "pie": [
           {
            "automargin": true,
            "type": "pie"
           }
          ],
          "scatter": [
           {
            "marker": {
             "colorbar": {
              "outlinewidth": 0,
              "ticks": ""
             }
            },
            "type": "scatter"
           }
          ],
          "scatter3d": [
           {
            "line": {
             "colorbar": {
              "outlinewidth": 0,
              "ticks": ""
             }
            },
            "marker": {
             "colorbar": {
              "outlinewidth": 0,
              "ticks": ""
             }
            },
            "type": "scatter3d"
           }
          ],
          "scattercarpet": [
           {
            "marker": {
             "colorbar": {
              "outlinewidth": 0,
              "ticks": ""
             }
            },
            "type": "scattercarpet"
           }
          ],
          "scattergeo": [
           {
            "marker": {
             "colorbar": {
              "outlinewidth": 0,
              "ticks": ""
             }
            },
            "type": "scattergeo"
           }
          ],
          "scattergl": [
           {
            "marker": {
             "colorbar": {
              "outlinewidth": 0,
              "ticks": ""
             }
            },
            "type": "scattergl"
           }
          ],
          "scattermapbox": [
           {
            "marker": {
             "colorbar": {
              "outlinewidth": 0,
              "ticks": ""
             }
            },
            "type": "scattermapbox"
           }
          ],
          "scatterpolar": [
           {
            "marker": {
             "colorbar": {
              "outlinewidth": 0,
              "ticks": ""
             }
            },
            "type": "scatterpolar"
           }
          ],
          "scatterpolargl": [
           {
            "marker": {
             "colorbar": {
              "outlinewidth": 0,
              "ticks": ""
             }
            },
            "type": "scatterpolargl"
           }
          ],
          "scatterternary": [
           {
            "marker": {
             "colorbar": {
              "outlinewidth": 0,
              "ticks": ""
             }
            },
            "type": "scatterternary"
           }
          ],
          "surface": [
           {
            "colorbar": {
             "outlinewidth": 0,
             "ticks": ""
            },
            "colorscale": [
             [
              0,
              "#0d0887"
             ],
             [
              0.1111111111111111,
              "#46039f"
             ],
             [
              0.2222222222222222,
              "#7201a8"
             ],
             [
              0.3333333333333333,
              "#9c179e"
             ],
             [
              0.4444444444444444,
              "#bd3786"
             ],
             [
              0.5555555555555556,
              "#d8576b"
             ],
             [
              0.6666666666666666,
              "#ed7953"
             ],
             [
              0.7777777777777778,
              "#fb9f3a"
             ],
             [
              0.8888888888888888,
              "#fdca26"
             ],
             [
              1,
              "#f0f921"
             ]
            ],
            "type": "surface"
           }
          ],
          "table": [
           {
            "cells": {
             "fill": {
              "color": "#EBF0F8"
             },
             "line": {
              "color": "white"
             }
            },
            "header": {
             "fill": {
              "color": "#C8D4E3"
             },
             "line": {
              "color": "white"
             }
            },
            "type": "table"
           }
          ]
         },
         "layout": {
          "annotationdefaults": {
           "arrowcolor": "#2a3f5f",
           "arrowhead": 0,
           "arrowwidth": 1
          },
          "coloraxis": {
           "colorbar": {
            "outlinewidth": 0,
            "ticks": ""
           }
          },
          "colorscale": {
           "diverging": [
            [
             0,
             "#8e0152"
            ],
            [
             0.1,
             "#c51b7d"
            ],
            [
             0.2,
             "#de77ae"
            ],
            [
             0.3,
             "#f1b6da"
            ],
            [
             0.4,
             "#fde0ef"
            ],
            [
             0.5,
             "#f7f7f7"
            ],
            [
             0.6,
             "#e6f5d0"
            ],
            [
             0.7,
             "#b8e186"
            ],
            [
             0.8,
             "#7fbc41"
            ],
            [
             0.9,
             "#4d9221"
            ],
            [
             1,
             "#276419"
            ]
           ],
           "sequential": [
            [
             0,
             "#0d0887"
            ],
            [
             0.1111111111111111,
             "#46039f"
            ],
            [
             0.2222222222222222,
             "#7201a8"
            ],
            [
             0.3333333333333333,
             "#9c179e"
            ],
            [
             0.4444444444444444,
             "#bd3786"
            ],
            [
             0.5555555555555556,
             "#d8576b"
            ],
            [
             0.6666666666666666,
             "#ed7953"
            ],
            [
             0.7777777777777778,
             "#fb9f3a"
            ],
            [
             0.8888888888888888,
             "#fdca26"
            ],
            [
             1,
             "#f0f921"
            ]
           ],
           "sequentialminus": [
            [
             0,
             "#0d0887"
            ],
            [
             0.1111111111111111,
             "#46039f"
            ],
            [
             0.2222222222222222,
             "#7201a8"
            ],
            [
             0.3333333333333333,
             "#9c179e"
            ],
            [
             0.4444444444444444,
             "#bd3786"
            ],
            [
             0.5555555555555556,
             "#d8576b"
            ],
            [
             0.6666666666666666,
             "#ed7953"
            ],
            [
             0.7777777777777778,
             "#fb9f3a"
            ],
            [
             0.8888888888888888,
             "#fdca26"
            ],
            [
             1,
             "#f0f921"
            ]
           ]
          },
          "colorway": [
           "#636efa",
           "#EF553B",
           "#00cc96",
           "#ab63fa",
           "#FFA15A",
           "#19d3f3",
           "#FF6692",
           "#B6E880",
           "#FF97FF",
           "#FECB52"
          ],
          "font": {
           "color": "#2a3f5f"
          },
          "geo": {
           "bgcolor": "white",
           "lakecolor": "white",
           "landcolor": "#E5ECF6",
           "showlakes": true,
           "showland": true,
           "subunitcolor": "white"
          },
          "hoverlabel": {
           "align": "left"
          },
          "hovermode": "closest",
          "mapbox": {
           "style": "light"
          },
          "paper_bgcolor": "white",
          "plot_bgcolor": "#E5ECF6",
          "polar": {
           "angularaxis": {
            "gridcolor": "white",
            "linecolor": "white",
            "ticks": ""
           },
           "bgcolor": "#E5ECF6",
           "radialaxis": {
            "gridcolor": "white",
            "linecolor": "white",
            "ticks": ""
           }
          },
          "scene": {
           "xaxis": {
            "backgroundcolor": "#E5ECF6",
            "gridcolor": "white",
            "gridwidth": 2,
            "linecolor": "white",
            "showbackground": true,
            "ticks": "",
            "zerolinecolor": "white"
           },
           "yaxis": {
            "backgroundcolor": "#E5ECF6",
            "gridcolor": "white",
            "gridwidth": 2,
            "linecolor": "white",
            "showbackground": true,
            "ticks": "",
            "zerolinecolor": "white"
           },
           "zaxis": {
            "backgroundcolor": "#E5ECF6",
            "gridcolor": "white",
            "gridwidth": 2,
            "linecolor": "white",
            "showbackground": true,
            "ticks": "",
            "zerolinecolor": "white"
           }
          },
          "shapedefaults": {
           "line": {
            "color": "#2a3f5f"
           }
          },
          "ternary": {
           "aaxis": {
            "gridcolor": "white",
            "linecolor": "white",
            "ticks": ""
           },
           "baxis": {
            "gridcolor": "white",
            "linecolor": "white",
            "ticks": ""
           },
           "bgcolor": "#E5ECF6",
           "caxis": {
            "gridcolor": "white",
            "linecolor": "white",
            "ticks": ""
           }
          },
          "title": {
           "x": 0.05
          },
          "xaxis": {
           "automargin": true,
           "gridcolor": "white",
           "linecolor": "white",
           "ticks": "",
           "title": {
            "standoff": 15
           },
           "zerolinecolor": "white",
           "zerolinewidth": 2
          },
          "yaxis": {
           "automargin": true,
           "gridcolor": "white",
           "linecolor": "white",
           "ticks": "",
           "title": {
            "standoff": 15
           },
           "zerolinecolor": "white",
           "zerolinewidth": 2
          }
         }
        },
        "title": {
         "text": "Spread of Coronavirus in the US",
         "x": 0.5
        },
        "updatemenus": [
         {
          "buttons": [
           {
            "args": [
             null,
             {
              "frame": {
               "duration": 500,
               "redraw": true
              },
              "fromcurrent": true,
              "mode": "immediate",
              "transition": {
               "duration": 500,
               "easing": "linear"
              }
             }
            ],
            "label": "&#9654;",
            "method": "animate"
           },
           {
            "args": [
             [
              null
             ],
             {
              "frame": {
               "duration": 0,
               "redraw": true
              },
              "fromcurrent": true,
              "mode": "immediate",
              "transition": {
               "duration": 0,
               "easing": "linear"
              }
             }
            ],
            "label": "&#9724;",
            "method": "animate"
           }
          ],
          "direction": "left",
          "pad": {
           "r": 10,
           "t": 70
          },
          "showactive": false,
          "type": "buttons",
          "x": 0.1,
          "xanchor": "right",
          "y": 0,
          "yanchor": "top"
         }
        ]
       }
      },
      "text/html": [
       "<div>\n",
       "        \n",
       "        \n",
       "            <div id=\"11c454f8-003d-47ca-95a9-cbd4e452ec50\" class=\"plotly-graph-div\" style=\"height:525px; width:100%;\"></div>\n",
       "            <script type=\"text/javascript\">\n",
       "                require([\"plotly\"], function(Plotly) {\n",
       "                    window.PLOTLYENV=window.PLOTLYENV || {};\n",
       "                    \n",
       "                if (document.getElementById(\"11c454f8-003d-47ca-95a9-cbd4e452ec50\")) {\n",
       "                    Plotly.newPlot(\n",
       "                        '11c454f8-003d-47ca-95a9-cbd4e452ec50',\n",
       "                        [{\"coloraxis\": \"coloraxis\", \"geo\": \"geo\", \"hovertemplate\": \"<b>%{hovertext}</b><br><br>date=2020-01-21<br>state_code=%{location}<br>cases=%{z}<extra></extra>\", \"hovertext\": [\"WA\"], \"locationmode\": \"USA-states\", \"locations\": [\"WA\"], \"name\": \"\", \"type\": \"choropleth\", \"z\": [1]}],\n",
       "                        {\"coloraxis\": {\"colorbar\": {\"title\": {\"text\": \"cases\"}}, \"colorscale\": [[0.0, \"rgb(255,245,240)\"], [0.125, \"rgb(254,224,210)\"], [0.25, \"rgb(252,187,161)\"], [0.375, \"rgb(252,146,114)\"], [0.5, \"rgb(251,106,74)\"], [0.625, \"rgb(239,59,44)\"], [0.75, \"rgb(203,24,29)\"], [0.875, \"rgb(165,15,21)\"], [1.0, \"rgb(103,0,13)\"]]}, \"geo\": {\"center\": {}, \"domain\": {\"x\": [0.0, 1.0], \"y\": [0.0, 1.0]}, \"projection\": {\"type\": \"albers usa\"}, \"scope\": \"usa\", \"showlakes\": false}, \"legend\": {\"tracegroupgap\": 0}, \"margin\": {\"t\": 60}, \"sliders\": [{\"active\": 0, \"currentvalue\": {\"prefix\": \"date=\"}, \"len\": 0.9, \"pad\": {\"b\": 10, \"t\": 60}, \"steps\": [{\"args\": [[\"2020-01-21\"], {\"frame\": {\"duration\": 0, \"redraw\": true}, \"fromcurrent\": true, \"mode\": \"immediate\", \"transition\": {\"duration\": 0, \"easing\": \"linear\"}}], \"label\": \"2020-01-21\", \"method\": \"animate\"}, {\"args\": [[\"2020-01-22\"], {\"frame\": {\"duration\": 0, \"redraw\": true}, \"fromcurrent\": true, \"mode\": \"immediate\", \"transition\": {\"duration\": 0, \"easing\": \"linear\"}}], \"label\": \"2020-01-22\", \"method\": \"animate\"}, {\"args\": [[\"2020-01-23\"], {\"frame\": {\"duration\": 0, \"redraw\": true}, \"fromcurrent\": true, \"mode\": \"immediate\", \"transition\": {\"duration\": 0, \"easing\": \"linear\"}}], \"label\": \"2020-01-23\", \"method\": \"animate\"}, {\"args\": [[\"2020-01-24\"], {\"frame\": {\"duration\": 0, \"redraw\": true}, \"fromcurrent\": true, \"mode\": \"immediate\", \"transition\": {\"duration\": 0, \"easing\": \"linear\"}}], \"label\": \"2020-01-24\", \"method\": \"animate\"}, {\"args\": [[\"2020-01-25\"], {\"frame\": {\"duration\": 0, \"redraw\": true}, \"fromcurrent\": true, \"mode\": \"immediate\", \"transition\": {\"duration\": 0, \"easing\": \"linear\"}}], \"label\": \"2020-01-25\", \"method\": \"animate\"}, {\"args\": [[\"2020-01-26\"], {\"frame\": {\"duration\": 0, \"redraw\": true}, \"fromcurrent\": true, \"mode\": \"immediate\", \"transition\": {\"duration\": 0, \"easing\": \"linear\"}}], \"label\": \"2020-01-26\", \"method\": \"animate\"}, {\"args\": [[\"2020-01-27\"], {\"frame\": {\"duration\": 0, \"redraw\": true}, \"fromcurrent\": true, \"mode\": \"immediate\", \"transition\": {\"duration\": 0, \"easing\": \"linear\"}}], \"label\": \"2020-01-27\", \"method\": \"animate\"}, {\"args\": [[\"2020-01-28\"], {\"frame\": {\"duration\": 0, \"redraw\": true}, \"fromcurrent\": true, \"mode\": \"immediate\", \"transition\": {\"duration\": 0, \"easing\": \"linear\"}}], \"label\": \"2020-01-28\", \"method\": \"animate\"}, {\"args\": [[\"2020-01-29\"], {\"frame\": {\"duration\": 0, \"redraw\": true}, \"fromcurrent\": true, \"mode\": \"immediate\", \"transition\": {\"duration\": 0, \"easing\": \"linear\"}}], \"label\": \"2020-01-29\", \"method\": \"animate\"}, {\"args\": [[\"2020-01-30\"], {\"frame\": {\"duration\": 0, \"redraw\": true}, \"fromcurrent\": true, \"mode\": \"immediate\", \"transition\": {\"duration\": 0, \"easing\": \"linear\"}}], \"label\": \"2020-01-30\", \"method\": \"animate\"}, {\"args\": [[\"2020-01-31\"], {\"frame\": {\"duration\": 0, \"redraw\": true}, \"fromcurrent\": true, \"mode\": \"immediate\", \"transition\": {\"duration\": 0, \"easing\": \"linear\"}}], \"label\": \"2020-01-31\", \"method\": \"animate\"}, {\"args\": [[\"2020-02-01\"], {\"frame\": {\"duration\": 0, \"redraw\": true}, \"fromcurrent\": true, \"mode\": \"immediate\", \"transition\": {\"duration\": 0, \"easing\": \"linear\"}}], \"label\": \"2020-02-01\", \"method\": \"animate\"}, {\"args\": [[\"2020-02-02\"], {\"frame\": {\"duration\": 0, \"redraw\": true}, \"fromcurrent\": true, \"mode\": \"immediate\", \"transition\": {\"duration\": 0, \"easing\": \"linear\"}}], \"label\": \"2020-02-02\", \"method\": \"animate\"}, {\"args\": [[\"2020-02-03\"], {\"frame\": {\"duration\": 0, \"redraw\": true}, \"fromcurrent\": true, \"mode\": \"immediate\", \"transition\": {\"duration\": 0, \"easing\": \"linear\"}}], \"label\": \"2020-02-03\", \"method\": \"animate\"}, {\"args\": [[\"2020-02-04\"], {\"frame\": {\"duration\": 0, \"redraw\": true}, \"fromcurrent\": true, \"mode\": \"immediate\", \"transition\": {\"duration\": 0, \"easing\": \"linear\"}}], \"label\": \"2020-02-04\", \"method\": \"animate\"}, {\"args\": [[\"2020-02-05\"], {\"frame\": {\"duration\": 0, \"redraw\": true}, \"fromcurrent\": true, \"mode\": \"immediate\", \"transition\": {\"duration\": 0, \"easing\": \"linear\"}}], \"label\": \"2020-02-05\", \"method\": \"animate\"}, {\"args\": [[\"2020-02-06\"], {\"frame\": {\"duration\": 0, \"redraw\": true}, \"fromcurrent\": true, \"mode\": \"immediate\", \"transition\": {\"duration\": 0, \"easing\": \"linear\"}}], \"label\": \"2020-02-06\", \"method\": \"animate\"}, {\"args\": [[\"2020-02-07\"], {\"frame\": {\"duration\": 0, \"redraw\": true}, \"fromcurrent\": true, \"mode\": \"immediate\", \"transition\": {\"duration\": 0, \"easing\": \"linear\"}}], \"label\": \"2020-02-07\", \"method\": \"animate\"}, {\"args\": [[\"2020-02-08\"], {\"frame\": {\"duration\": 0, \"redraw\": true}, \"fromcurrent\": true, \"mode\": \"immediate\", \"transition\": {\"duration\": 0, \"easing\": \"linear\"}}], \"label\": \"2020-02-08\", \"method\": \"animate\"}, {\"args\": [[\"2020-02-09\"], {\"frame\": {\"duration\": 0, \"redraw\": true}, \"fromcurrent\": true, \"mode\": \"immediate\", \"transition\": {\"duration\": 0, \"easing\": \"linear\"}}], \"label\": \"2020-02-09\", \"method\": \"animate\"}, {\"args\": [[\"2020-02-10\"], {\"frame\": {\"duration\": 0, \"redraw\": true}, \"fromcurrent\": true, \"mode\": \"immediate\", \"transition\": {\"duration\": 0, \"easing\": \"linear\"}}], \"label\": \"2020-02-10\", \"method\": \"animate\"}, {\"args\": [[\"2020-02-11\"], {\"frame\": {\"duration\": 0, \"redraw\": true}, \"fromcurrent\": true, \"mode\": \"immediate\", \"transition\": {\"duration\": 0, \"easing\": \"linear\"}}], \"label\": \"2020-02-11\", \"method\": \"animate\"}, {\"args\": [[\"2020-02-12\"], {\"frame\": {\"duration\": 0, \"redraw\": true}, \"fromcurrent\": true, \"mode\": \"immediate\", \"transition\": {\"duration\": 0, \"easing\": \"linear\"}}], \"label\": \"2020-02-12\", \"method\": \"animate\"}, {\"args\": [[\"2020-02-13\"], {\"frame\": {\"duration\": 0, \"redraw\": true}, \"fromcurrent\": true, \"mode\": \"immediate\", \"transition\": {\"duration\": 0, \"easing\": \"linear\"}}], \"label\": \"2020-02-13\", \"method\": \"animate\"}, {\"args\": [[\"2020-02-14\"], {\"frame\": {\"duration\": 0, \"redraw\": true}, \"fromcurrent\": true, \"mode\": \"immediate\", \"transition\": {\"duration\": 0, \"easing\": \"linear\"}}], \"label\": \"2020-02-14\", \"method\": \"animate\"}, {\"args\": [[\"2020-02-15\"], {\"frame\": {\"duration\": 0, \"redraw\": true}, \"fromcurrent\": true, \"mode\": \"immediate\", \"transition\": {\"duration\": 0, \"easing\": \"linear\"}}], \"label\": \"2020-02-15\", \"method\": \"animate\"}, {\"args\": [[\"2020-02-16\"], {\"frame\": {\"duration\": 0, \"redraw\": true}, \"fromcurrent\": true, \"mode\": \"immediate\", \"transition\": {\"duration\": 0, \"easing\": \"linear\"}}], \"label\": \"2020-02-16\", \"method\": \"animate\"}, {\"args\": [[\"2020-02-17\"], {\"frame\": {\"duration\": 0, \"redraw\": true}, \"fromcurrent\": true, \"mode\": \"immediate\", \"transition\": {\"duration\": 0, \"easing\": \"linear\"}}], \"label\": \"2020-02-17\", \"method\": \"animate\"}, {\"args\": [[\"2020-02-18\"], {\"frame\": {\"duration\": 0, \"redraw\": true}, \"fromcurrent\": true, \"mode\": \"immediate\", \"transition\": {\"duration\": 0, \"easing\": \"linear\"}}], \"label\": \"2020-02-18\", \"method\": \"animate\"}, {\"args\": [[\"2020-02-19\"], {\"frame\": {\"duration\": 0, \"redraw\": true}, \"fromcurrent\": true, \"mode\": \"immediate\", \"transition\": {\"duration\": 0, \"easing\": \"linear\"}}], \"label\": \"2020-02-19\", \"method\": \"animate\"}, {\"args\": [[\"2020-02-20\"], {\"frame\": {\"duration\": 0, \"redraw\": true}, \"fromcurrent\": true, \"mode\": \"immediate\", \"transition\": {\"duration\": 0, \"easing\": \"linear\"}}], \"label\": \"2020-02-20\", \"method\": \"animate\"}, {\"args\": [[\"2020-02-21\"], {\"frame\": {\"duration\": 0, \"redraw\": true}, \"fromcurrent\": true, \"mode\": \"immediate\", \"transition\": {\"duration\": 0, \"easing\": \"linear\"}}], \"label\": \"2020-02-21\", \"method\": \"animate\"}, {\"args\": [[\"2020-02-22\"], {\"frame\": {\"duration\": 0, \"redraw\": true}, \"fromcurrent\": true, \"mode\": \"immediate\", \"transition\": {\"duration\": 0, \"easing\": \"linear\"}}], \"label\": \"2020-02-22\", \"method\": \"animate\"}, {\"args\": [[\"2020-02-23\"], {\"frame\": {\"duration\": 0, \"redraw\": true}, \"fromcurrent\": true, \"mode\": \"immediate\", \"transition\": {\"duration\": 0, \"easing\": \"linear\"}}], \"label\": \"2020-02-23\", \"method\": \"animate\"}, {\"args\": [[\"2020-02-24\"], {\"frame\": {\"duration\": 0, \"redraw\": true}, \"fromcurrent\": true, \"mode\": \"immediate\", \"transition\": {\"duration\": 0, \"easing\": \"linear\"}}], \"label\": \"2020-02-24\", \"method\": \"animate\"}, {\"args\": [[\"2020-02-25\"], {\"frame\": {\"duration\": 0, \"redraw\": true}, \"fromcurrent\": true, \"mode\": \"immediate\", \"transition\": {\"duration\": 0, \"easing\": \"linear\"}}], \"label\": \"2020-02-25\", \"method\": \"animate\"}, {\"args\": [[\"2020-02-26\"], {\"frame\": {\"duration\": 0, \"redraw\": true}, \"fromcurrent\": true, \"mode\": \"immediate\", \"transition\": {\"duration\": 0, \"easing\": \"linear\"}}], \"label\": \"2020-02-26\", \"method\": \"animate\"}, {\"args\": [[\"2020-02-27\"], {\"frame\": {\"duration\": 0, \"redraw\": true}, \"fromcurrent\": true, \"mode\": \"immediate\", \"transition\": {\"duration\": 0, \"easing\": \"linear\"}}], \"label\": \"2020-02-27\", \"method\": \"animate\"}, {\"args\": [[\"2020-02-28\"], {\"frame\": {\"duration\": 0, \"redraw\": true}, \"fromcurrent\": true, \"mode\": \"immediate\", \"transition\": {\"duration\": 0, \"easing\": \"linear\"}}], \"label\": \"2020-02-28\", \"method\": \"animate\"}, {\"args\": [[\"2020-02-29\"], {\"frame\": {\"duration\": 0, \"redraw\": true}, \"fromcurrent\": true, \"mode\": \"immediate\", \"transition\": {\"duration\": 0, \"easing\": \"linear\"}}], \"label\": \"2020-02-29\", \"method\": \"animate\"}, {\"args\": [[\"2020-03-01\"], {\"frame\": {\"duration\": 0, \"redraw\": true}, \"fromcurrent\": true, \"mode\": \"immediate\", \"transition\": {\"duration\": 0, \"easing\": \"linear\"}}], \"label\": \"2020-03-01\", \"method\": \"animate\"}, {\"args\": [[\"2020-03-02\"], {\"frame\": {\"duration\": 0, \"redraw\": true}, \"fromcurrent\": true, \"mode\": \"immediate\", \"transition\": {\"duration\": 0, \"easing\": \"linear\"}}], \"label\": \"2020-03-02\", \"method\": \"animate\"}, {\"args\": [[\"2020-03-03\"], {\"frame\": {\"duration\": 0, \"redraw\": true}, \"fromcurrent\": true, \"mode\": \"immediate\", \"transition\": {\"duration\": 0, \"easing\": \"linear\"}}], \"label\": \"2020-03-03\", \"method\": \"animate\"}, {\"args\": [[\"2020-03-04\"], {\"frame\": {\"duration\": 0, \"redraw\": true}, \"fromcurrent\": true, \"mode\": \"immediate\", \"transition\": {\"duration\": 0, \"easing\": \"linear\"}}], \"label\": \"2020-03-04\", \"method\": \"animate\"}, {\"args\": [[\"2020-03-05\"], {\"frame\": {\"duration\": 0, \"redraw\": true}, \"fromcurrent\": true, \"mode\": \"immediate\", \"transition\": {\"duration\": 0, \"easing\": \"linear\"}}], \"label\": \"2020-03-05\", \"method\": \"animate\"}, {\"args\": [[\"2020-03-06\"], {\"frame\": {\"duration\": 0, \"redraw\": true}, \"fromcurrent\": true, \"mode\": \"immediate\", \"transition\": {\"duration\": 0, \"easing\": \"linear\"}}], \"label\": \"2020-03-06\", \"method\": \"animate\"}, {\"args\": [[\"2020-03-07\"], {\"frame\": {\"duration\": 0, \"redraw\": true}, \"fromcurrent\": true, \"mode\": \"immediate\", \"transition\": {\"duration\": 0, \"easing\": \"linear\"}}], \"label\": \"2020-03-07\", \"method\": \"animate\"}, {\"args\": [[\"2020-03-08\"], {\"frame\": {\"duration\": 0, \"redraw\": true}, \"fromcurrent\": true, \"mode\": \"immediate\", \"transition\": {\"duration\": 0, \"easing\": \"linear\"}}], \"label\": \"2020-03-08\", \"method\": \"animate\"}, {\"args\": [[\"2020-03-09\"], {\"frame\": {\"duration\": 0, \"redraw\": true}, \"fromcurrent\": true, \"mode\": \"immediate\", \"transition\": {\"duration\": 0, \"easing\": \"linear\"}}], \"label\": \"2020-03-09\", \"method\": \"animate\"}, {\"args\": [[\"2020-03-10\"], {\"frame\": {\"duration\": 0, \"redraw\": true}, \"fromcurrent\": true, \"mode\": \"immediate\", \"transition\": {\"duration\": 0, \"easing\": \"linear\"}}], \"label\": \"2020-03-10\", \"method\": \"animate\"}, {\"args\": [[\"2020-03-11\"], {\"frame\": {\"duration\": 0, \"redraw\": true}, \"fromcurrent\": true, \"mode\": \"immediate\", \"transition\": {\"duration\": 0, \"easing\": \"linear\"}}], \"label\": \"2020-03-11\", \"method\": \"animate\"}, {\"args\": [[\"2020-03-12\"], {\"frame\": {\"duration\": 0, \"redraw\": true}, \"fromcurrent\": true, \"mode\": \"immediate\", \"transition\": {\"duration\": 0, \"easing\": \"linear\"}}], \"label\": \"2020-03-12\", \"method\": \"animate\"}, {\"args\": [[\"2020-03-13\"], {\"frame\": {\"duration\": 0, \"redraw\": true}, \"fromcurrent\": true, \"mode\": \"immediate\", \"transition\": {\"duration\": 0, \"easing\": \"linear\"}}], \"label\": \"2020-03-13\", \"method\": \"animate\"}, {\"args\": [[\"2020-03-14\"], {\"frame\": {\"duration\": 0, \"redraw\": true}, \"fromcurrent\": true, \"mode\": \"immediate\", \"transition\": {\"duration\": 0, \"easing\": \"linear\"}}], \"label\": \"2020-03-14\", \"method\": \"animate\"}, {\"args\": [[\"2020-03-15\"], {\"frame\": {\"duration\": 0, \"redraw\": true}, \"fromcurrent\": true, \"mode\": \"immediate\", \"transition\": {\"duration\": 0, \"easing\": \"linear\"}}], \"label\": \"2020-03-15\", \"method\": \"animate\"}, {\"args\": [[\"2020-03-16\"], {\"frame\": {\"duration\": 0, \"redraw\": true}, \"fromcurrent\": true, \"mode\": \"immediate\", \"transition\": {\"duration\": 0, \"easing\": \"linear\"}}], \"label\": \"2020-03-16\", \"method\": \"animate\"}, {\"args\": [[\"2020-03-17\"], {\"frame\": {\"duration\": 0, \"redraw\": true}, \"fromcurrent\": true, \"mode\": \"immediate\", \"transition\": {\"duration\": 0, \"easing\": \"linear\"}}], \"label\": \"2020-03-17\", \"method\": \"animate\"}, {\"args\": [[\"2020-03-18\"], {\"frame\": {\"duration\": 0, \"redraw\": true}, \"fromcurrent\": true, \"mode\": \"immediate\", \"transition\": {\"duration\": 0, \"easing\": \"linear\"}}], \"label\": \"2020-03-18\", \"method\": \"animate\"}, {\"args\": [[\"2020-03-19\"], {\"frame\": {\"duration\": 0, \"redraw\": true}, \"fromcurrent\": true, \"mode\": \"immediate\", \"transition\": {\"duration\": 0, \"easing\": \"linear\"}}], \"label\": \"2020-03-19\", \"method\": \"animate\"}, {\"args\": [[\"2020-03-20\"], {\"frame\": {\"duration\": 0, \"redraw\": true}, \"fromcurrent\": true, \"mode\": \"immediate\", \"transition\": {\"duration\": 0, \"easing\": \"linear\"}}], \"label\": \"2020-03-20\", \"method\": \"animate\"}, {\"args\": [[\"2020-03-21\"], {\"frame\": {\"duration\": 0, \"redraw\": true}, \"fromcurrent\": true, \"mode\": \"immediate\", \"transition\": {\"duration\": 0, \"easing\": \"linear\"}}], \"label\": \"2020-03-21\", \"method\": \"animate\"}, {\"args\": [[\"2020-03-22\"], {\"frame\": {\"duration\": 0, \"redraw\": true}, \"fromcurrent\": true, \"mode\": \"immediate\", \"transition\": {\"duration\": 0, \"easing\": \"linear\"}}], \"label\": \"2020-03-22\", \"method\": \"animate\"}, {\"args\": [[\"2020-03-23\"], {\"frame\": {\"duration\": 0, \"redraw\": true}, \"fromcurrent\": true, \"mode\": \"immediate\", \"transition\": {\"duration\": 0, \"easing\": \"linear\"}}], \"label\": \"2020-03-23\", \"method\": \"animate\"}, {\"args\": [[\"2020-03-24\"], {\"frame\": {\"duration\": 0, \"redraw\": true}, \"fromcurrent\": true, \"mode\": \"immediate\", \"transition\": {\"duration\": 0, \"easing\": \"linear\"}}], \"label\": \"2020-03-24\", \"method\": \"animate\"}, {\"args\": [[\"2020-03-25\"], {\"frame\": {\"duration\": 0, \"redraw\": true}, \"fromcurrent\": true, \"mode\": \"immediate\", \"transition\": {\"duration\": 0, \"easing\": \"linear\"}}], \"label\": \"2020-03-25\", \"method\": \"animate\"}, {\"args\": [[\"2020-03-26\"], {\"frame\": {\"duration\": 0, \"redraw\": true}, \"fromcurrent\": true, \"mode\": \"immediate\", \"transition\": {\"duration\": 0, \"easing\": \"linear\"}}], \"label\": \"2020-03-26\", \"method\": \"animate\"}, {\"args\": [[\"2020-03-27\"], {\"frame\": {\"duration\": 0, \"redraw\": true}, \"fromcurrent\": true, \"mode\": \"immediate\", \"transition\": {\"duration\": 0, \"easing\": \"linear\"}}], \"label\": \"2020-03-27\", \"method\": \"animate\"}, {\"args\": [[\"2020-03-28\"], {\"frame\": {\"duration\": 0, \"redraw\": true}, \"fromcurrent\": true, \"mode\": \"immediate\", \"transition\": {\"duration\": 0, \"easing\": \"linear\"}}], \"label\": \"2020-03-28\", \"method\": \"animate\"}, {\"args\": [[\"2020-03-29\"], {\"frame\": {\"duration\": 0, \"redraw\": true}, \"fromcurrent\": true, \"mode\": \"immediate\", \"transition\": {\"duration\": 0, \"easing\": \"linear\"}}], \"label\": \"2020-03-29\", \"method\": \"animate\"}, {\"args\": [[\"2020-03-30\"], {\"frame\": {\"duration\": 0, \"redraw\": true}, \"fromcurrent\": true, \"mode\": \"immediate\", \"transition\": {\"duration\": 0, \"easing\": \"linear\"}}], \"label\": \"2020-03-30\", \"method\": \"animate\"}, {\"args\": [[\"2020-03-31\"], {\"frame\": {\"duration\": 0, \"redraw\": true}, \"fromcurrent\": true, \"mode\": \"immediate\", \"transition\": {\"duration\": 0, \"easing\": \"linear\"}}], \"label\": \"2020-03-31\", \"method\": \"animate\"}, {\"args\": [[\"2020-04-01\"], {\"frame\": {\"duration\": 0, \"redraw\": true}, \"fromcurrent\": true, \"mode\": \"immediate\", \"transition\": {\"duration\": 0, \"easing\": \"linear\"}}], \"label\": \"2020-04-01\", \"method\": \"animate\"}, {\"args\": [[\"2020-04-02\"], {\"frame\": {\"duration\": 0, \"redraw\": true}, \"fromcurrent\": true, \"mode\": \"immediate\", \"transition\": {\"duration\": 0, \"easing\": \"linear\"}}], \"label\": \"2020-04-02\", \"method\": \"animate\"}, {\"args\": [[\"2020-04-03\"], {\"frame\": {\"duration\": 0, \"redraw\": true}, \"fromcurrent\": true, \"mode\": \"immediate\", \"transition\": {\"duration\": 0, \"easing\": \"linear\"}}], \"label\": \"2020-04-03\", \"method\": \"animate\"}, {\"args\": [[\"2020-04-04\"], {\"frame\": {\"duration\": 0, \"redraw\": true}, \"fromcurrent\": true, \"mode\": \"immediate\", \"transition\": {\"duration\": 0, \"easing\": \"linear\"}}], \"label\": \"2020-04-04\", \"method\": \"animate\"}, {\"args\": [[\"2020-04-05\"], {\"frame\": {\"duration\": 0, \"redraw\": true}, \"fromcurrent\": true, \"mode\": \"immediate\", \"transition\": {\"duration\": 0, \"easing\": \"linear\"}}], \"label\": \"2020-04-05\", \"method\": \"animate\"}, {\"args\": [[\"2020-04-06\"], {\"frame\": {\"duration\": 0, \"redraw\": true}, \"fromcurrent\": true, \"mode\": \"immediate\", \"transition\": {\"duration\": 0, \"easing\": \"linear\"}}], \"label\": \"2020-04-06\", \"method\": \"animate\"}, {\"args\": [[\"2020-04-07\"], {\"frame\": {\"duration\": 0, \"redraw\": true}, \"fromcurrent\": true, \"mode\": \"immediate\", \"transition\": {\"duration\": 0, \"easing\": \"linear\"}}], \"label\": \"2020-04-07\", \"method\": \"animate\"}], \"x\": 0.1, \"xanchor\": \"left\", \"y\": 0, \"yanchor\": \"top\"}], \"template\": {\"data\": {\"bar\": [{\"error_x\": {\"color\": \"#2a3f5f\"}, \"error_y\": {\"color\": \"#2a3f5f\"}, \"marker\": {\"line\": {\"color\": \"#E5ECF6\", \"width\": 0.5}}, \"type\": \"bar\"}], \"barpolar\": [{\"marker\": {\"line\": {\"color\": \"#E5ECF6\", \"width\": 0.5}}, \"type\": \"barpolar\"}], \"carpet\": [{\"aaxis\": {\"endlinecolor\": \"#2a3f5f\", \"gridcolor\": \"white\", \"linecolor\": \"white\", \"minorgridcolor\": \"white\", \"startlinecolor\": \"#2a3f5f\"}, \"baxis\": {\"endlinecolor\": \"#2a3f5f\", \"gridcolor\": \"white\", \"linecolor\": \"white\", \"minorgridcolor\": \"white\", \"startlinecolor\": \"#2a3f5f\"}, \"type\": \"carpet\"}], \"choropleth\": [{\"colorbar\": {\"outlinewidth\": 0, \"ticks\": \"\"}, \"type\": \"choropleth\"}], \"contour\": [{\"colorbar\": {\"outlinewidth\": 0, \"ticks\": \"\"}, \"colorscale\": [[0.0, \"#0d0887\"], [0.1111111111111111, \"#46039f\"], [0.2222222222222222, \"#7201a8\"], [0.3333333333333333, \"#9c179e\"], [0.4444444444444444, \"#bd3786\"], [0.5555555555555556, \"#d8576b\"], [0.6666666666666666, \"#ed7953\"], [0.7777777777777778, \"#fb9f3a\"], [0.8888888888888888, \"#fdca26\"], [1.0, \"#f0f921\"]], \"type\": \"contour\"}], \"contourcarpet\": [{\"colorbar\": {\"outlinewidth\": 0, \"ticks\": \"\"}, \"type\": \"contourcarpet\"}], \"heatmap\": [{\"colorbar\": {\"outlinewidth\": 0, \"ticks\": \"\"}, \"colorscale\": [[0.0, \"#0d0887\"], [0.1111111111111111, \"#46039f\"], [0.2222222222222222, \"#7201a8\"], [0.3333333333333333, \"#9c179e\"], [0.4444444444444444, \"#bd3786\"], [0.5555555555555556, \"#d8576b\"], [0.6666666666666666, \"#ed7953\"], [0.7777777777777778, \"#fb9f3a\"], [0.8888888888888888, \"#fdca26\"], [1.0, \"#f0f921\"]], \"type\": \"heatmap\"}], \"heatmapgl\": [{\"colorbar\": {\"outlinewidth\": 0, \"ticks\": \"\"}, \"colorscale\": [[0.0, \"#0d0887\"], [0.1111111111111111, \"#46039f\"], [0.2222222222222222, \"#7201a8\"], [0.3333333333333333, \"#9c179e\"], [0.4444444444444444, \"#bd3786\"], [0.5555555555555556, \"#d8576b\"], [0.6666666666666666, \"#ed7953\"], [0.7777777777777778, \"#fb9f3a\"], [0.8888888888888888, \"#fdca26\"], [1.0, \"#f0f921\"]], \"type\": \"heatmapgl\"}], \"histogram\": [{\"marker\": {\"colorbar\": {\"outlinewidth\": 0, \"ticks\": \"\"}}, \"type\": \"histogram\"}], \"histogram2d\": [{\"colorbar\": {\"outlinewidth\": 0, \"ticks\": \"\"}, \"colorscale\": [[0.0, \"#0d0887\"], [0.1111111111111111, \"#46039f\"], [0.2222222222222222, \"#7201a8\"], [0.3333333333333333, \"#9c179e\"], [0.4444444444444444, \"#bd3786\"], [0.5555555555555556, \"#d8576b\"], [0.6666666666666666, \"#ed7953\"], [0.7777777777777778, \"#fb9f3a\"], [0.8888888888888888, \"#fdca26\"], [1.0, \"#f0f921\"]], \"type\": \"histogram2d\"}], \"histogram2dcontour\": [{\"colorbar\": {\"outlinewidth\": 0, \"ticks\": \"\"}, \"colorscale\": [[0.0, \"#0d0887\"], [0.1111111111111111, \"#46039f\"], [0.2222222222222222, \"#7201a8\"], [0.3333333333333333, \"#9c179e\"], [0.4444444444444444, \"#bd3786\"], [0.5555555555555556, \"#d8576b\"], [0.6666666666666666, \"#ed7953\"], [0.7777777777777778, \"#fb9f3a\"], [0.8888888888888888, \"#fdca26\"], [1.0, \"#f0f921\"]], \"type\": \"histogram2dcontour\"}], \"mesh3d\": [{\"colorbar\": {\"outlinewidth\": 0, \"ticks\": \"\"}, \"type\": \"mesh3d\"}], \"parcoords\": [{\"line\": {\"colorbar\": {\"outlinewidth\": 0, \"ticks\": \"\"}}, \"type\": \"parcoords\"}], \"pie\": [{\"automargin\": true, \"type\": \"pie\"}], \"scatter\": [{\"marker\": {\"colorbar\": {\"outlinewidth\": 0, \"ticks\": \"\"}}, \"type\": \"scatter\"}], \"scatter3d\": [{\"line\": {\"colorbar\": {\"outlinewidth\": 0, \"ticks\": \"\"}}, \"marker\": {\"colorbar\": {\"outlinewidth\": 0, \"ticks\": \"\"}}, \"type\": \"scatter3d\"}], \"scattercarpet\": [{\"marker\": {\"colorbar\": {\"outlinewidth\": 0, \"ticks\": \"\"}}, \"type\": \"scattercarpet\"}], \"scattergeo\": [{\"marker\": {\"colorbar\": {\"outlinewidth\": 0, \"ticks\": \"\"}}, \"type\": \"scattergeo\"}], \"scattergl\": [{\"marker\": {\"colorbar\": {\"outlinewidth\": 0, \"ticks\": \"\"}}, \"type\": \"scattergl\"}], \"scattermapbox\": [{\"marker\": {\"colorbar\": {\"outlinewidth\": 0, \"ticks\": \"\"}}, \"type\": \"scattermapbox\"}], \"scatterpolar\": [{\"marker\": {\"colorbar\": {\"outlinewidth\": 0, \"ticks\": \"\"}}, \"type\": \"scatterpolar\"}], \"scatterpolargl\": [{\"marker\": {\"colorbar\": {\"outlinewidth\": 0, \"ticks\": \"\"}}, \"type\": \"scatterpolargl\"}], \"scatterternary\": [{\"marker\": {\"colorbar\": {\"outlinewidth\": 0, \"ticks\": \"\"}}, \"type\": \"scatterternary\"}], \"surface\": [{\"colorbar\": {\"outlinewidth\": 0, \"ticks\": \"\"}, \"colorscale\": [[0.0, \"#0d0887\"], [0.1111111111111111, \"#46039f\"], [0.2222222222222222, \"#7201a8\"], [0.3333333333333333, \"#9c179e\"], [0.4444444444444444, \"#bd3786\"], [0.5555555555555556, \"#d8576b\"], [0.6666666666666666, \"#ed7953\"], [0.7777777777777778, \"#fb9f3a\"], [0.8888888888888888, \"#fdca26\"], [1.0, \"#f0f921\"]], \"type\": \"surface\"}], \"table\": [{\"cells\": {\"fill\": {\"color\": \"#EBF0F8\"}, \"line\": {\"color\": \"white\"}}, \"header\": {\"fill\": {\"color\": \"#C8D4E3\"}, \"line\": {\"color\": \"white\"}}, \"type\": \"table\"}]}, \"layout\": {\"annotationdefaults\": {\"arrowcolor\": \"#2a3f5f\", \"arrowhead\": 0, \"arrowwidth\": 1}, \"coloraxis\": {\"colorbar\": {\"outlinewidth\": 0, \"ticks\": \"\"}}, \"colorscale\": {\"diverging\": [[0, \"#8e0152\"], [0.1, \"#c51b7d\"], [0.2, \"#de77ae\"], [0.3, \"#f1b6da\"], [0.4, \"#fde0ef\"], [0.5, \"#f7f7f7\"], [0.6, \"#e6f5d0\"], [0.7, \"#b8e186\"], [0.8, \"#7fbc41\"], [0.9, \"#4d9221\"], [1, \"#276419\"]], \"sequential\": [[0.0, \"#0d0887\"], [0.1111111111111111, \"#46039f\"], [0.2222222222222222, \"#7201a8\"], [0.3333333333333333, \"#9c179e\"], [0.4444444444444444, \"#bd3786\"], [0.5555555555555556, \"#d8576b\"], [0.6666666666666666, \"#ed7953\"], [0.7777777777777778, \"#fb9f3a\"], [0.8888888888888888, \"#fdca26\"], [1.0, \"#f0f921\"]], \"sequentialminus\": [[0.0, \"#0d0887\"], [0.1111111111111111, \"#46039f\"], [0.2222222222222222, \"#7201a8\"], [0.3333333333333333, \"#9c179e\"], [0.4444444444444444, \"#bd3786\"], [0.5555555555555556, \"#d8576b\"], [0.6666666666666666, \"#ed7953\"], [0.7777777777777778, \"#fb9f3a\"], [0.8888888888888888, \"#fdca26\"], [1.0, \"#f0f921\"]]}, \"colorway\": [\"#636efa\", \"#EF553B\", \"#00cc96\", \"#ab63fa\", \"#FFA15A\", \"#19d3f3\", \"#FF6692\", \"#B6E880\", \"#FF97FF\", \"#FECB52\"], \"font\": {\"color\": \"#2a3f5f\"}, \"geo\": {\"bgcolor\": \"white\", \"lakecolor\": \"white\", \"landcolor\": \"#E5ECF6\", \"showlakes\": true, \"showland\": true, \"subunitcolor\": \"white\"}, \"hoverlabel\": {\"align\": \"left\"}, \"hovermode\": \"closest\", \"mapbox\": {\"style\": \"light\"}, \"paper_bgcolor\": \"white\", \"plot_bgcolor\": \"#E5ECF6\", \"polar\": {\"angularaxis\": {\"gridcolor\": \"white\", \"linecolor\": \"white\", \"ticks\": \"\"}, \"bgcolor\": \"#E5ECF6\", \"radialaxis\": {\"gridcolor\": \"white\", \"linecolor\": \"white\", \"ticks\": \"\"}}, \"scene\": {\"xaxis\": {\"backgroundcolor\": \"#E5ECF6\", \"gridcolor\": \"white\", \"gridwidth\": 2, \"linecolor\": \"white\", \"showbackground\": true, \"ticks\": \"\", \"zerolinecolor\": \"white\"}, \"yaxis\": {\"backgroundcolor\": \"#E5ECF6\", \"gridcolor\": \"white\", \"gridwidth\": 2, \"linecolor\": \"white\", \"showbackground\": true, \"ticks\": \"\", \"zerolinecolor\": \"white\"}, \"zaxis\": {\"backgroundcolor\": \"#E5ECF6\", \"gridcolor\": \"white\", \"gridwidth\": 2, \"linecolor\": \"white\", \"showbackground\": true, \"ticks\": \"\", \"zerolinecolor\": \"white\"}}, \"shapedefaults\": {\"line\": {\"color\": \"#2a3f5f\"}}, \"ternary\": {\"aaxis\": {\"gridcolor\": \"white\", \"linecolor\": \"white\", \"ticks\": \"\"}, \"baxis\": {\"gridcolor\": \"white\", \"linecolor\": \"white\", \"ticks\": \"\"}, \"bgcolor\": \"#E5ECF6\", \"caxis\": {\"gridcolor\": \"white\", \"linecolor\": \"white\", \"ticks\": \"\"}}, \"title\": {\"x\": 0.05}, \"xaxis\": {\"automargin\": true, \"gridcolor\": \"white\", \"linecolor\": \"white\", \"ticks\": \"\", \"title\": {\"standoff\": 15}, \"zerolinecolor\": \"white\", \"zerolinewidth\": 2}, \"yaxis\": {\"automargin\": true, \"gridcolor\": \"white\", \"linecolor\": \"white\", \"ticks\": \"\", \"title\": {\"standoff\": 15}, \"zerolinecolor\": \"white\", \"zerolinewidth\": 2}}}, \"title\": {\"text\": \"Spread of Coronavirus in the US\", \"x\": 0.5}, \"updatemenus\": [{\"buttons\": [{\"args\": [null, {\"frame\": {\"duration\": 500, \"redraw\": true}, \"fromcurrent\": true, \"mode\": \"immediate\", \"transition\": {\"duration\": 500, \"easing\": \"linear\"}}], \"label\": \"&#9654;\", \"method\": \"animate\"}, {\"args\": [[null], {\"frame\": {\"duration\": 0, \"redraw\": true}, \"fromcurrent\": true, \"mode\": \"immediate\", \"transition\": {\"duration\": 0, \"easing\": \"linear\"}}], \"label\": \"&#9724;\", \"method\": \"animate\"}], \"direction\": \"left\", \"pad\": {\"r\": 10, \"t\": 70}, \"showactive\": false, \"type\": \"buttons\", \"x\": 0.1, \"xanchor\": \"right\", \"y\": 0, \"yanchor\": \"top\"}]},\n",
       "                        {\"responsive\": true}\n",
       "                    ).then(function(){\n",
       "                            Plotly.addFrames('11c454f8-003d-47ca-95a9-cbd4e452ec50', [{\"data\": [{\"coloraxis\": \"coloraxis\", \"geo\": \"geo\", \"hovertemplate\": \"<b>%{hovertext}</b><br><br>date=2020-01-21<br>state_code=%{location}<br>cases=%{z}<extra></extra>\", \"hovertext\": [\"WA\"], \"locationmode\": \"USA-states\", \"locations\": [\"WA\"], \"name\": \"\", \"z\": [1], \"type\": \"choropleth\"}], \"name\": \"2020-01-21\"}, {\"data\": [{\"coloraxis\": \"coloraxis\", \"geo\": \"geo\", \"hovertemplate\": \"<b>%{hovertext}</b><br><br>date=2020-01-22<br>state_code=%{location}<br>cases=%{z}<extra></extra>\", \"hovertext\": [\"WA\"], \"locationmode\": \"USA-states\", \"locations\": [\"WA\"], \"name\": \"\", \"z\": [1], \"type\": \"choropleth\"}], \"name\": \"2020-01-22\"}, {\"data\": [{\"coloraxis\": \"coloraxis\", \"geo\": \"geo\", \"hovertemplate\": \"<b>%{hovertext}</b><br><br>date=2020-01-23<br>state_code=%{location}<br>cases=%{z}<extra></extra>\", \"hovertext\": [\"WA\"], \"locationmode\": \"USA-states\", \"locations\": [\"WA\"], \"name\": \"\", \"z\": [1], \"type\": \"choropleth\"}], \"name\": \"2020-01-23\"}, {\"data\": [{\"coloraxis\": \"coloraxis\", \"geo\": \"geo\", \"hovertemplate\": \"<b>%{hovertext}</b><br><br>date=2020-01-24<br>state_code=%{location}<br>cases=%{z}<extra></extra>\", \"hovertext\": [\"IL\", \"WA\"], \"locationmode\": \"USA-states\", \"locations\": [\"IL\", \"WA\"], \"name\": \"\", \"z\": [1, 1], \"type\": \"choropleth\"}], \"name\": \"2020-01-24\"}, {\"data\": [{\"coloraxis\": \"coloraxis\", \"geo\": \"geo\", \"hovertemplate\": \"<b>%{hovertext}</b><br><br>date=2020-01-25<br>state_code=%{location}<br>cases=%{z}<extra></extra>\", \"hovertext\": [\"CA\", \"IL\", \"WA\"], \"locationmode\": \"USA-states\", \"locations\": [\"CA\", \"IL\", \"WA\"], \"name\": \"\", \"z\": [1, 1, 1], \"type\": \"choropleth\"}], \"name\": \"2020-01-25\"}, {\"data\": [{\"coloraxis\": \"coloraxis\", \"geo\": \"geo\", \"hovertemplate\": \"<b>%{hovertext}</b><br><br>date=2020-01-26<br>state_code=%{location}<br>cases=%{z}<extra></extra>\", \"hovertext\": [\"AZ\", \"CA\", \"IL\", \"WA\"], \"locationmode\": \"USA-states\", \"locations\": [\"AZ\", \"CA\", \"IL\", \"WA\"], \"name\": \"\", \"z\": [1, 2, 1, 1], \"type\": \"choropleth\"}], \"name\": \"2020-01-26\"}, {\"data\": [{\"coloraxis\": \"coloraxis\", \"geo\": \"geo\", \"hovertemplate\": \"<b>%{hovertext}</b><br><br>date=2020-01-27<br>state_code=%{location}<br>cases=%{z}<extra></extra>\", \"hovertext\": [\"AZ\", \"CA\", \"IL\", \"WA\"], \"locationmode\": \"USA-states\", \"locations\": [\"AZ\", \"CA\", \"IL\", \"WA\"], \"name\": \"\", \"z\": [1, 2, 1, 1], \"type\": \"choropleth\"}], \"name\": \"2020-01-27\"}, {\"data\": [{\"coloraxis\": \"coloraxis\", \"geo\": \"geo\", \"hovertemplate\": \"<b>%{hovertext}</b><br><br>date=2020-01-28<br>state_code=%{location}<br>cases=%{z}<extra></extra>\", \"hovertext\": [\"AZ\", \"CA\", \"IL\", \"WA\"], \"locationmode\": \"USA-states\", \"locations\": [\"AZ\", \"CA\", \"IL\", \"WA\"], \"name\": \"\", \"z\": [1, 2, 1, 1], \"type\": \"choropleth\"}], \"name\": \"2020-01-28\"}, {\"data\": [{\"coloraxis\": \"coloraxis\", \"geo\": \"geo\", \"hovertemplate\": \"<b>%{hovertext}</b><br><br>date=2020-01-29<br>state_code=%{location}<br>cases=%{z}<extra></extra>\", \"hovertext\": [\"AZ\", \"CA\", \"IL\", \"WA\"], \"locationmode\": \"USA-states\", \"locations\": [\"AZ\", \"CA\", \"IL\", \"WA\"], \"name\": \"\", \"z\": [1, 2, 1, 1], \"type\": \"choropleth\"}], \"name\": \"2020-01-29\"}, {\"data\": [{\"coloraxis\": \"coloraxis\", \"geo\": \"geo\", \"hovertemplate\": \"<b>%{hovertext}</b><br><br>date=2020-01-30<br>state_code=%{location}<br>cases=%{z}<extra></extra>\", \"hovertext\": [\"AZ\", \"CA\", \"IL\", \"WA\"], \"locationmode\": \"USA-states\", \"locations\": [\"AZ\", \"CA\", \"IL\", \"WA\"], \"name\": \"\", \"z\": [1, 2, 2, 1], \"type\": \"choropleth\"}], \"name\": \"2020-01-30\"}, {\"data\": [{\"coloraxis\": \"coloraxis\", \"geo\": \"geo\", \"hovertemplate\": \"<b>%{hovertext}</b><br><br>date=2020-01-31<br>state_code=%{location}<br>cases=%{z}<extra></extra>\", \"hovertext\": [\"AZ\", \"CA\", \"IL\", \"WA\"], \"locationmode\": \"USA-states\", \"locations\": [\"AZ\", \"CA\", \"IL\", \"WA\"], \"name\": \"\", \"z\": [1, 3, 2, 1], \"type\": \"choropleth\"}], \"name\": \"2020-01-31\"}, {\"data\": [{\"coloraxis\": \"coloraxis\", \"geo\": \"geo\", \"hovertemplate\": \"<b>%{hovertext}</b><br><br>date=2020-02-01<br>state_code=%{location}<br>cases=%{z}<extra></extra>\", \"hovertext\": [\"AZ\", \"CA\", \"IL\", \"MA\", \"WA\"], \"locationmode\": \"USA-states\", \"locations\": [\"AZ\", \"CA\", \"IL\", \"MA\", \"WA\"], \"name\": \"\", \"z\": [1, 3, 2, 1, 1], \"type\": \"choropleth\"}], \"name\": \"2020-02-01\"}, {\"data\": [{\"coloraxis\": \"coloraxis\", \"geo\": \"geo\", \"hovertemplate\": \"<b>%{hovertext}</b><br><br>date=2020-02-02<br>state_code=%{location}<br>cases=%{z}<extra></extra>\", \"hovertext\": [\"AZ\", \"CA\", \"IL\", \"MA\", \"WA\"], \"locationmode\": \"USA-states\", \"locations\": [\"AZ\", \"CA\", \"IL\", \"MA\", \"WA\"], \"name\": \"\", \"z\": [1, 6, 2, 1, 1], \"type\": \"choropleth\"}], \"name\": \"2020-02-02\"}, {\"data\": [{\"coloraxis\": \"coloraxis\", \"geo\": \"geo\", \"hovertemplate\": \"<b>%{hovertext}</b><br><br>date=2020-02-03<br>state_code=%{location}<br>cases=%{z}<extra></extra>\", \"hovertext\": [\"AZ\", \"CA\", \"IL\", \"MA\", \"WA\"], \"locationmode\": \"USA-states\", \"locations\": [\"AZ\", \"CA\", \"IL\", \"MA\", \"WA\"], \"name\": \"\", \"z\": [1, 6, 2, 1, 1], \"type\": \"choropleth\"}], \"name\": \"2020-02-03\"}, {\"data\": [{\"coloraxis\": \"coloraxis\", \"geo\": \"geo\", \"hovertemplate\": \"<b>%{hovertext}</b><br><br>date=2020-02-04<br>state_code=%{location}<br>cases=%{z}<extra></extra>\", \"hovertext\": [\"AZ\", \"CA\", \"IL\", \"MA\", \"WA\"], \"locationmode\": \"USA-states\", \"locations\": [\"AZ\", \"CA\", \"IL\", \"MA\", \"WA\"], \"name\": \"\", \"z\": [1, 6, 2, 1, 1], \"type\": \"choropleth\"}], \"name\": \"2020-02-04\"}, {\"data\": [{\"coloraxis\": \"coloraxis\", \"geo\": \"geo\", \"hovertemplate\": \"<b>%{hovertext}</b><br><br>date=2020-02-05<br>state_code=%{location}<br>cases=%{z}<extra></extra>\", \"hovertext\": [\"AZ\", \"CA\", \"IL\", \"MA\", \"WA\", \"WI\"], \"locationmode\": \"USA-states\", \"locations\": [\"AZ\", \"CA\", \"IL\", \"MA\", \"WA\", \"WI\"], \"name\": \"\", \"z\": [1, 6, 2, 1, 1, 1], \"type\": \"choropleth\"}], \"name\": \"2020-02-05\"}, {\"data\": [{\"coloraxis\": \"coloraxis\", \"geo\": \"geo\", \"hovertemplate\": \"<b>%{hovertext}</b><br><br>date=2020-02-06<br>state_code=%{location}<br>cases=%{z}<extra></extra>\", \"hovertext\": [\"AZ\", \"CA\", \"IL\", \"MA\", \"WA\", \"WI\"], \"locationmode\": \"USA-states\", \"locations\": [\"AZ\", \"CA\", \"IL\", \"MA\", \"WA\", \"WI\"], \"name\": \"\", \"z\": [1, 6, 2, 1, 1, 1], \"type\": \"choropleth\"}], \"name\": \"2020-02-06\"}, {\"data\": [{\"coloraxis\": \"coloraxis\", \"geo\": \"geo\", \"hovertemplate\": \"<b>%{hovertext}</b><br><br>date=2020-02-07<br>state_code=%{location}<br>cases=%{z}<extra></extra>\", \"hovertext\": [\"AZ\", \"CA\", \"IL\", \"MA\", \"WA\", \"WI\"], \"locationmode\": \"USA-states\", \"locations\": [\"AZ\", \"CA\", \"IL\", \"MA\", \"WA\", \"WI\"], \"name\": \"\", \"z\": [1, 6, 2, 1, 1, 1], \"type\": \"choropleth\"}], \"name\": \"2020-02-07\"}, {\"data\": [{\"coloraxis\": \"coloraxis\", \"geo\": \"geo\", \"hovertemplate\": \"<b>%{hovertext}</b><br><br>date=2020-02-08<br>state_code=%{location}<br>cases=%{z}<extra></extra>\", \"hovertext\": [\"AZ\", \"CA\", \"IL\", \"MA\", \"WA\", \"WI\"], \"locationmode\": \"USA-states\", \"locations\": [\"AZ\", \"CA\", \"IL\", \"MA\", \"WA\", \"WI\"], \"name\": \"\", \"z\": [1, 6, 2, 1, 1, 1], \"type\": \"choropleth\"}], \"name\": \"2020-02-08\"}, {\"data\": [{\"coloraxis\": \"coloraxis\", \"geo\": \"geo\", \"hovertemplate\": \"<b>%{hovertext}</b><br><br>date=2020-02-09<br>state_code=%{location}<br>cases=%{z}<extra></extra>\", \"hovertext\": [\"AZ\", \"CA\", \"IL\", \"MA\", \"WA\", \"WI\"], \"locationmode\": \"USA-states\", \"locations\": [\"AZ\", \"CA\", \"IL\", \"MA\", \"WA\", \"WI\"], \"name\": \"\", \"z\": [1, 6, 2, 1, 1, 1], \"type\": \"choropleth\"}], \"name\": \"2020-02-09\"}, {\"data\": [{\"coloraxis\": \"coloraxis\", \"geo\": \"geo\", \"hovertemplate\": \"<b>%{hovertext}</b><br><br>date=2020-02-10<br>state_code=%{location}<br>cases=%{z}<extra></extra>\", \"hovertext\": [\"AZ\", \"CA\", \"IL\", \"MA\", \"WA\", \"WI\"], \"locationmode\": \"USA-states\", \"locations\": [\"AZ\", \"CA\", \"IL\", \"MA\", \"WA\", \"WI\"], \"name\": \"\", \"z\": [1, 7, 2, 1, 1, 1], \"type\": \"choropleth\"}], \"name\": \"2020-02-10\"}, {\"data\": [{\"coloraxis\": \"coloraxis\", \"geo\": \"geo\", \"hovertemplate\": \"<b>%{hovertext}</b><br><br>date=2020-02-11<br>state_code=%{location}<br>cases=%{z}<extra></extra>\", \"hovertext\": [\"AZ\", \"CA\", \"IL\", \"MA\", \"WA\", \"WI\"], \"locationmode\": \"USA-states\", \"locations\": [\"AZ\", \"CA\", \"IL\", \"MA\", \"WA\", \"WI\"], \"name\": \"\", \"z\": [1, 7, 2, 1, 1, 1], \"type\": \"choropleth\"}], \"name\": \"2020-02-11\"}, {\"data\": [{\"coloraxis\": \"coloraxis\", \"geo\": \"geo\", \"hovertemplate\": \"<b>%{hovertext}</b><br><br>date=2020-02-12<br>state_code=%{location}<br>cases=%{z}<extra></extra>\", \"hovertext\": [\"AZ\", \"CA\", \"IL\", \"MA\", \"TX\", \"WA\", \"WI\"], \"locationmode\": \"USA-states\", \"locations\": [\"AZ\", \"CA\", \"IL\", \"MA\", \"TX\", \"WA\", \"WI\"], \"name\": \"\", \"z\": [1, 7, 2, 1, 1, 1, 1], \"type\": \"choropleth\"}], \"name\": \"2020-02-12\"}, {\"data\": [{\"coloraxis\": \"coloraxis\", \"geo\": \"geo\", \"hovertemplate\": \"<b>%{hovertext}</b><br><br>date=2020-02-13<br>state_code=%{location}<br>cases=%{z}<extra></extra>\", \"hovertext\": [\"AZ\", \"CA\", \"IL\", \"MA\", \"TX\", \"WA\", \"WI\"], \"locationmode\": \"USA-states\", \"locations\": [\"AZ\", \"CA\", \"IL\", \"MA\", \"TX\", \"WA\", \"WI\"], \"name\": \"\", \"z\": [1, 7, 2, 1, 2, 1, 1], \"type\": \"choropleth\"}], \"name\": \"2020-02-13\"}, {\"data\": [{\"coloraxis\": \"coloraxis\", \"geo\": \"geo\", \"hovertemplate\": \"<b>%{hovertext}</b><br><br>date=2020-02-14<br>state_code=%{location}<br>cases=%{z}<extra></extra>\", \"hovertext\": [\"AZ\", \"CA\", \"IL\", \"MA\", \"TX\", \"WA\", \"WI\"], \"locationmode\": \"USA-states\", \"locations\": [\"AZ\", \"CA\", \"IL\", \"MA\", \"TX\", \"WA\", \"WI\"], \"name\": \"\", \"z\": [1, 7, 2, 1, 2, 1, 1], \"type\": \"choropleth\"}], \"name\": \"2020-02-14\"}, {\"data\": [{\"coloraxis\": \"coloraxis\", \"geo\": \"geo\", \"hovertemplate\": \"<b>%{hovertext}</b><br><br>date=2020-02-15<br>state_code=%{location}<br>cases=%{z}<extra></extra>\", \"hovertext\": [\"AZ\", \"CA\", \"IL\", \"MA\", \"TX\", \"WA\", \"WI\"], \"locationmode\": \"USA-states\", \"locations\": [\"AZ\", \"CA\", \"IL\", \"MA\", \"TX\", \"WA\", \"WI\"], \"name\": \"\", \"z\": [1, 7, 2, 1, 2, 1, 1], \"type\": \"choropleth\"}], \"name\": \"2020-02-15\"}, {\"data\": [{\"coloraxis\": \"coloraxis\", \"geo\": \"geo\", \"hovertemplate\": \"<b>%{hovertext}</b><br><br>date=2020-02-16<br>state_code=%{location}<br>cases=%{z}<extra></extra>\", \"hovertext\": [\"AZ\", \"CA\", \"IL\", \"MA\", \"TX\", \"WA\", \"WI\"], \"locationmode\": \"USA-states\", \"locations\": [\"AZ\", \"CA\", \"IL\", \"MA\", \"TX\", \"WA\", \"WI\"], \"name\": \"\", \"z\": [1, 7, 2, 1, 2, 1, 1], \"type\": \"choropleth\"}], \"name\": \"2020-02-16\"}, {\"data\": [{\"coloraxis\": \"coloraxis\", \"geo\": \"geo\", \"hovertemplate\": \"<b>%{hovertext}</b><br><br>date=2020-02-17<br>state_code=%{location}<br>cases=%{z}<extra></extra>\", \"hovertext\": [\"AZ\", \"CA\", \"IL\", \"MA\", \"NE\", \"TX\", \"WA\", \"WI\"], \"locationmode\": \"USA-states\", \"locations\": [\"AZ\", \"CA\", \"IL\", \"MA\", \"NE\", \"TX\", \"WA\", \"WI\"], \"name\": \"\", \"z\": [1, 7, 2, 1, 10, 2, 1, 1], \"type\": \"choropleth\"}], \"name\": \"2020-02-17\"}, {\"data\": [{\"coloraxis\": \"coloraxis\", \"geo\": \"geo\", \"hovertemplate\": \"<b>%{hovertext}</b><br><br>date=2020-02-18<br>state_code=%{location}<br>cases=%{z}<extra></extra>\", \"hovertext\": [\"AZ\", \"CA\", \"IL\", \"MA\", \"NE\", \"TX\", \"WA\", \"WI\"], \"locationmode\": \"USA-states\", \"locations\": [\"AZ\", \"CA\", \"IL\", \"MA\", \"NE\", \"TX\", \"WA\", \"WI\"], \"name\": \"\", \"z\": [1, 7, 2, 1, 10, 2, 1, 1], \"type\": \"choropleth\"}], \"name\": \"2020-02-18\"}, {\"data\": [{\"coloraxis\": \"coloraxis\", \"geo\": \"geo\", \"hovertemplate\": \"<b>%{hovertext}</b><br><br>date=2020-02-19<br>state_code=%{location}<br>cases=%{z}<extra></extra>\", \"hovertext\": [\"AZ\", \"CA\", \"IL\", \"MA\", \"NE\", \"TX\", \"WA\", \"WI\"], \"locationmode\": \"USA-states\", \"locations\": [\"AZ\", \"CA\", \"IL\", \"MA\", \"NE\", \"TX\", \"WA\", \"WI\"], \"name\": \"\", \"z\": [1, 7, 2, 1, 10, 2, 1, 1], \"type\": \"choropleth\"}], \"name\": \"2020-02-19\"}, {\"data\": [{\"coloraxis\": \"coloraxis\", \"geo\": \"geo\", \"hovertemplate\": \"<b>%{hovertext}</b><br><br>date=2020-02-20<br>state_code=%{location}<br>cases=%{z}<extra></extra>\", \"hovertext\": [\"AZ\", \"CA\", \"IL\", \"MA\", \"NE\", \"TX\", \"WA\", \"WI\"], \"locationmode\": \"USA-states\", \"locations\": [\"AZ\", \"CA\", \"IL\", \"MA\", \"NE\", \"TX\", \"WA\", \"WI\"], \"name\": \"\", \"z\": [1, 8, 2, 1, 11, 2, 1, 1], \"type\": \"choropleth\"}], \"name\": \"2020-02-20\"}, {\"data\": [{\"coloraxis\": \"coloraxis\", \"geo\": \"geo\", \"hovertemplate\": \"<b>%{hovertext}</b><br><br>date=2020-02-21<br>state_code=%{location}<br>cases=%{z}<extra></extra>\", \"hovertext\": [\"AZ\", \"CA\", \"IL\", \"MA\", \"NE\", \"TX\", \"WA\", \"WI\"], \"locationmode\": \"USA-states\", \"locations\": [\"AZ\", \"CA\", \"IL\", \"MA\", \"NE\", \"TX\", \"WA\", \"WI\"], \"name\": \"\", \"z\": [1, 9, 2, 1, 11, 4, 1, 1], \"type\": \"choropleth\"}], \"name\": \"2020-02-21\"}, {\"data\": [{\"coloraxis\": \"coloraxis\", \"geo\": \"geo\", \"hovertemplate\": \"<b>%{hovertext}</b><br><br>date=2020-02-22<br>state_code=%{location}<br>cases=%{z}<extra></extra>\", \"hovertext\": [\"AZ\", \"CA\", \"IL\", \"MA\", \"NE\", \"TX\", \"WA\", \"WI\"], \"locationmode\": \"USA-states\", \"locations\": [\"AZ\", \"CA\", \"IL\", \"MA\", \"NE\", \"TX\", \"WA\", \"WI\"], \"name\": \"\", \"z\": [1, 9, 2, 1, 11, 4, 1, 1], \"type\": \"choropleth\"}], \"name\": \"2020-02-22\"}, {\"data\": [{\"coloraxis\": \"coloraxis\", \"geo\": \"geo\", \"hovertemplate\": \"<b>%{hovertext}</b><br><br>date=2020-02-23<br>state_code=%{location}<br>cases=%{z}<extra></extra>\", \"hovertext\": [\"AZ\", \"CA\", \"IL\", \"MA\", \"NE\", \"TX\", \"WA\", \"WI\"], \"locationmode\": \"USA-states\", \"locations\": [\"AZ\", \"CA\", \"IL\", \"MA\", \"NE\", \"TX\", \"WA\", \"WI\"], \"name\": \"\", \"z\": [1, 9, 2, 1, 11, 4, 1, 1], \"type\": \"choropleth\"}], \"name\": \"2020-02-23\"}, {\"data\": [{\"coloraxis\": \"coloraxis\", \"geo\": \"geo\", \"hovertemplate\": \"<b>%{hovertext}</b><br><br>date=2020-02-24<br>state_code=%{location}<br>cases=%{z}<extra></extra>\", \"hovertext\": [\"AZ\", \"CA\", \"IL\", \"MA\", \"NE\", \"TX\", \"WA\", \"WI\"], \"locationmode\": \"USA-states\", \"locations\": [\"AZ\", \"CA\", \"IL\", \"MA\", \"NE\", \"TX\", \"WA\", \"WI\"], \"name\": \"\", \"z\": [1, 11, 2, 1, 12, 10, 5, 1], \"type\": \"choropleth\"}], \"name\": \"2020-02-24\"}, {\"data\": [{\"coloraxis\": \"coloraxis\", \"geo\": \"geo\", \"hovertemplate\": \"<b>%{hovertext}</b><br><br>date=2020-02-25<br>state_code=%{location}<br>cases=%{z}<extra></extra>\", \"hovertext\": [\"AZ\", \"CA\", \"IL\", \"MA\", \"NE\", \"TX\", \"UT\", \"WA\", \"WI\"], \"locationmode\": \"USA-states\", \"locations\": [\"AZ\", \"CA\", \"IL\", \"MA\", \"NE\", \"TX\", \"UT\", \"WA\", \"WI\"], \"name\": \"\", \"z\": [1, 11, 2, 1, 13, 10, 1, 5, 1], \"type\": \"choropleth\"}], \"name\": \"2020-02-25\"}, {\"data\": [{\"coloraxis\": \"coloraxis\", \"geo\": \"geo\", \"hovertemplate\": \"<b>%{hovertext}</b><br><br>date=2020-02-26<br>state_code=%{location}<br>cases=%{z}<extra></extra>\", \"hovertext\": [\"AZ\", \"CA\", \"IL\", \"MA\", \"NE\", \"TX\", \"UT\", \"WA\", \"WI\"], \"locationmode\": \"USA-states\", \"locations\": [\"AZ\", \"CA\", \"IL\", \"MA\", \"NE\", \"TX\", \"UT\", \"WA\", \"WI\"], \"name\": \"\", \"z\": [1, 26, 2, 1, 13, 10, 1, 5, 1], \"type\": \"choropleth\"}], \"name\": \"2020-02-26\"}, {\"data\": [{\"coloraxis\": \"coloraxis\", \"geo\": \"geo\", \"hovertemplate\": \"<b>%{hovertext}</b><br><br>date=2020-02-27<br>state_code=%{location}<br>cases=%{z}<extra></extra>\", \"hovertext\": [\"AZ\", \"CA\", \"IL\", \"MA\", \"NE\", \"TX\", \"UT\", \"WA\", \"WI\"], \"locationmode\": \"USA-states\", \"locations\": [\"AZ\", \"CA\", \"IL\", \"MA\", \"NE\", \"TX\", \"UT\", \"WA\", \"WI\"], \"name\": \"\", \"z\": [1, 26, 2, 1, 13, 10, 1, 5, 1], \"type\": \"choropleth\"}], \"name\": \"2020-02-27\"}, {\"data\": [{\"coloraxis\": \"coloraxis\", \"geo\": \"geo\", \"hovertemplate\": \"<b>%{hovertext}</b><br><br>date=2020-02-28<br>state_code=%{location}<br>cases=%{z}<extra></extra>\", \"hovertext\": [\"AZ\", \"CA\", \"IL\", \"MA\", \"NE\", \"OR\", \"TX\", \"UT\", \"WA\", \"WI\"], \"locationmode\": \"USA-states\", \"locations\": [\"AZ\", \"CA\", \"IL\", \"MA\", \"NE\", \"OR\", \"TX\", \"UT\", \"WA\", \"WI\"], \"name\": \"\", \"z\": [1, 27, 2, 1, 13, 1, 11, 1, 7, 1], \"type\": \"choropleth\"}], \"name\": \"2020-02-28\"}, {\"data\": [{\"coloraxis\": \"coloraxis\", \"geo\": \"geo\", \"hovertemplate\": \"<b>%{hovertext}</b><br><br>date=2020-02-29<br>state_code=%{location}<br>cases=%{z}<extra></extra>\", \"hovertext\": [\"AZ\", \"CA\", \"IL\", \"MA\", \"NE\", \"OR\", \"TX\", \"UT\", \"WA\", \"WI\"], \"locationmode\": \"USA-states\", \"locations\": [\"AZ\", \"CA\", \"IL\", \"MA\", \"NE\", \"OR\", \"TX\", \"UT\", \"WA\", \"WI\"], \"name\": \"\", \"z\": [1, 28, 3, 1, 13, 1, 11, 1, 10, 1], \"type\": \"choropleth\"}], \"name\": \"2020-02-29\"}, {\"data\": [{\"coloraxis\": \"coloraxis\", \"geo\": \"geo\", \"hovertemplate\": \"<b>%{hovertext}</b><br><br>date=2020-03-01<br>state_code=%{location}<br>cases=%{z}<extra></extra>\", \"hovertext\": [\"AZ\", \"CA\", \"FL\", \"IL\", \"MA\", \"NE\", \"NY\", \"OR\", \"RI\", \"TX\", \"UT\", \"WA\", \"WI\"], \"locationmode\": \"USA-states\", \"locations\": [\"AZ\", \"CA\", \"FL\", \"IL\", \"MA\", \"NE\", \"NY\", \"OR\", \"RI\", \"TX\", \"UT\", \"WA\", \"WI\"], \"name\": \"\", \"z\": [1, 33, 2, 3, 1, 13, 1, 2, 2, 11, 1, 17, 1], \"type\": \"choropleth\"}], \"name\": \"2020-03-01\"}, {\"data\": [{\"coloraxis\": \"coloraxis\", \"geo\": \"geo\", \"hovertemplate\": \"<b>%{hovertext}</b><br><br>date=2020-03-02<br>state_code=%{location}<br>cases=%{z}<extra></extra>\", \"hovertext\": [\"AZ\", \"CA\", \"FL\", \"GA\", \"IL\", \"MA\", \"NE\", \"NH\", \"NY\", \"OR\", \"RI\", \"TX\", \"UT\", \"WA\", \"WI\"], \"locationmode\": \"USA-states\", \"locations\": [\"AZ\", \"CA\", \"FL\", \"GA\", \"IL\", \"MA\", \"NE\", \"NH\", \"NY\", \"OR\", \"RI\", \"TX\", \"UT\", \"WA\", \"WI\"], \"name\": \"\", \"z\": [1, 38, 2, 2, 4, 2, 13, 1, 1, 2, 2, 11, 1, 23, 1], \"type\": \"choropleth\"}], \"name\": \"2020-03-02\"}, {\"data\": [{\"coloraxis\": \"coloraxis\", \"geo\": \"geo\", \"hovertemplate\": \"<b>%{hovertext}</b><br><br>date=2020-03-03<br>state_code=%{location}<br>cases=%{z}<extra></extra>\", \"hovertext\": [\"AZ\", \"CA\", \"FL\", \"GA\", \"IL\", \"MA\", \"NE\", \"NH\", \"NY\", \"NC\", \"OR\", \"RI\", \"TX\", \"UT\", \"WA\", \"WI\"], \"locationmode\": \"USA-states\", \"locations\": [\"AZ\", \"CA\", \"FL\", \"GA\", \"IL\", \"MA\", \"NE\", \"NH\", \"NY\", \"NC\", \"OR\", \"RI\", \"TX\", \"UT\", \"WA\", \"WI\"], \"name\": \"\", \"z\": [2, 45, 3, 2, 4, 2, 13, 2, 2, 1, 2, 2, 11, 1, 32, 1], \"type\": \"choropleth\"}], \"name\": \"2020-03-03\"}, {\"data\": [{\"coloraxis\": \"coloraxis\", \"geo\": \"geo\", \"hovertemplate\": \"<b>%{hovertext}</b><br><br>date=2020-03-04<br>state_code=%{location}<br>cases=%{z}<extra></extra>\", \"hovertext\": [\"AZ\", \"CA\", \"FL\", \"GA\", \"IL\", \"MA\", \"NE\", \"NH\", \"NJ\", \"NY\", \"NC\", \"OR\", \"RI\", \"TX\", \"UT\", \"WA\", \"WI\"], \"locationmode\": \"USA-states\", \"locations\": [\"AZ\", \"CA\", \"FL\", \"GA\", \"IL\", \"MA\", \"NE\", \"NH\", \"NJ\", \"NY\", \"NC\", \"OR\", \"RI\", \"TX\", \"UT\", \"WA\", \"WI\"], \"name\": \"\", \"z\": [2, 55, 3, 2, 4, 2, 13, 2, 1, 11, 1, 2, 2, 12, 1, 47, 1], \"type\": \"choropleth\"}], \"name\": \"2020-03-04\"}, {\"data\": [{\"coloraxis\": \"coloraxis\", \"geo\": \"geo\", \"hovertemplate\": \"<b>%{hovertext}</b><br><br>date=2020-03-05<br>state_code=%{location}<br>cases=%{z}<extra></extra>\", \"hovertext\": [\"AZ\", \"CA\", \"CO\", \"FL\", \"GA\", \"IL\", \"MD\", \"MA\", \"NE\", \"NV\", \"NH\", \"NJ\", \"NY\", \"NC\", \"OR\", \"RI\", \"TN\", \"TX\", \"UT\", \"WA\", \"WI\"], \"locationmode\": \"USA-states\", \"locations\": [\"AZ\", \"CA\", \"CO\", \"FL\", \"GA\", \"IL\", \"MD\", \"MA\", \"NE\", \"NV\", \"NH\", \"NJ\", \"NY\", \"NC\", \"OR\", \"RI\", \"TN\", \"TX\", \"UT\", \"WA\", \"WI\"], \"name\": \"\", \"z\": [2, 67, 2, 4, 2, 5, 3, 3, 13, 2, 2, 2, 22, 1, 2, 2, 1, 16, 1, 75, 1], \"type\": \"choropleth\"}], \"name\": \"2020-03-05\"}, {\"data\": [{\"coloraxis\": \"coloraxis\", \"geo\": \"geo\", \"hovertemplate\": \"<b>%{hovertext}</b><br><br>date=2020-03-06<br>state_code=%{location}<br>cases=%{z}<extra></extra>\", \"hovertext\": [\"AZ\", \"CA\", \"CO\", \"FL\", \"GA\", \"HI\", \"IL\", \"IN\", \"KY\", \"MD\", \"MA\", \"MN\", \"NE\", \"NV\", \"NH\", \"NJ\", \"NY\", \"NC\", \"OK\", \"OR\", \"PA\", \"RI\", \"SC\", \"TN\", \"TX\", \"UT\", \"WA\", \"WI\"], \"locationmode\": \"USA-states\", \"locations\": [\"AZ\", \"CA\", \"CO\", \"FL\", \"GA\", \"HI\", \"IL\", \"IN\", \"KY\", \"MD\", \"MA\", \"MN\", \"NE\", \"NV\", \"NH\", \"NJ\", \"NY\", \"NC\", \"OK\", \"OR\", \"PA\", \"RI\", \"SC\", \"TN\", \"TX\", \"UT\", \"WA\", \"WI\"], \"name\": \"\", \"z\": [3, 81, 8, 7, 3, 1, 6, 1, 1, 3, 8, 1, 14, 2, 2, 4, 44, 2, 1, 2, 2, 3, 2, 1, 19, 3, 86, 1], \"type\": \"choropleth\"}], \"name\": \"2020-03-06\"}, {\"data\": [{\"coloraxis\": \"coloraxis\", \"geo\": \"geo\", \"hovertemplate\": \"<b>%{hovertext}</b><br><br>date=2020-03-07<br>state_code=%{location}<br>cases=%{z}<extra></extra>\", \"hovertext\": [\"AZ\", \"CA\", \"CO\", \"dc\", \"FL\", \"GA\", \"HI\", \"IL\", \"IN\", \"KS\", \"KY\", \"MD\", \"MA\", \"MN\", \"MO\", \"NE\", \"NV\", \"NH\", \"NJ\", \"NY\", \"NC\", \"OK\", \"OR\", \"PA\", \"RI\", \"SC\", \"TN\", \"TX\", \"UT\", \"VT\", \"VA\", \"WA\", \"WI\"], \"locationmode\": \"USA-states\", \"locations\": [\"AZ\", \"CA\", \"CO\", \"dc\", \"FL\", \"GA\", \"HI\", \"IL\", \"IN\", \"KS\", \"KY\", \"MD\", \"MA\", \"MN\", \"MO\", \"NE\", \"NV\", \"NH\", \"NJ\", \"NY\", \"NC\", \"OK\", \"OR\", \"PA\", \"RI\", \"SC\", \"TN\", \"TX\", \"UT\", \"VT\", \"VA\", \"WA\", \"WI\"], \"name\": \"\", \"z\": [5, 100, 8, 1, 12, 7, 1, 6, 1, 1, 1, 3, 13, 1, 1, 14, 2, 4, 4, 89, 2, 1, 6, 4, 3, 2, 1, 19, 3, 1, 1, 110, 1], \"type\": \"choropleth\"}], \"name\": \"2020-03-07\"}, {\"data\": [{\"coloraxis\": \"coloraxis\", \"geo\": \"geo\", \"hovertemplate\": \"<b>%{hovertext}</b><br><br>date=2020-03-08<br>state_code=%{location}<br>cases=%{z}<extra></extra>\", \"hovertext\": [\"AZ\", \"CA\", \"CO\", \"CT\", \"dc\", \"FL\", \"GA\", \"HI\", \"IL\", \"IN\", \"IA\", \"KS\", \"KY\", \"MD\", \"MA\", \"MN\", \"MO\", \"NE\", \"NV\", \"NH\", \"NJ\", \"NY\", \"NC\", \"OK\", \"OR\", \"PA\", \"RI\", \"SC\", \"TN\", \"TX\", \"UT\", \"VT\", \"VA\", \"WA\", \"WI\"], \"locationmode\": \"USA-states\", \"locations\": [\"AZ\", \"CA\", \"CO\", \"CT\", \"dc\", \"FL\", \"GA\", \"HI\", \"IL\", \"IN\", \"IA\", \"KS\", \"KY\", \"MD\", \"MA\", \"MN\", \"MO\", \"NE\", \"NV\", \"NH\", \"NJ\", \"NY\", \"NC\", \"OK\", \"OR\", \"PA\", \"RI\", \"SC\", \"TN\", \"TX\", \"UT\", \"VT\", \"VA\", \"WA\", \"WI\"], \"name\": \"\", \"z\": [5, 112, 8, 1, 1, 13, 11, 2, 7, 2, 3, 1, 4, 5, 28, 2, 1, 16, 4, 4, 6, 106, 2, 1, 13, 6, 3, 6, 3, 23, 3, 1, 2, 141, 1], \"type\": \"choropleth\"}], \"name\": \"2020-03-08\"}, {\"data\": [{\"coloraxis\": \"coloraxis\", \"geo\": \"geo\", \"hovertemplate\": \"<b>%{hovertext}</b><br><br>date=2020-03-09<br>state_code=%{location}<br>cases=%{z}<extra></extra>\", \"hovertext\": [\"AZ\", \"CA\", \"CO\", \"CT\", \"dc\", \"FL\", \"GA\", \"HI\", \"IL\", \"IN\", \"IA\", \"KS\", \"KY\", \"LA\", \"MD\", \"MA\", \"MN\", \"MO\", \"NE\", \"NV\", \"NH\", \"NJ\", \"NY\", \"NC\", \"OH\", \"OK\", \"OR\", \"PA\", \"RI\", \"SC\", \"TN\", \"TX\", \"UT\", \"VT\", \"VA\", \"WA\", \"WI\"], \"locationmode\": \"USA-states\", \"locations\": [\"AZ\", \"CA\", \"CO\", \"CT\", \"dc\", \"FL\", \"GA\", \"HI\", \"IL\", \"IN\", \"IA\", \"KS\", \"KY\", \"LA\", \"MD\", \"MA\", \"MN\", \"MO\", \"NE\", \"NV\", \"NH\", \"NJ\", \"NY\", \"NC\", \"OH\", \"OK\", \"OR\", \"PA\", \"RI\", \"SC\", \"TN\", \"TX\", \"UT\", \"VT\", \"VA\", \"WA\", \"WI\"], \"name\": \"\", \"z\": [6, 172, 12, 2, 4, 14, 17, 2, 11, 4, 8, 1, 5, 1, 6, 41, 2, 1, 16, 4, 4, 11, 142, 7, 3, 1, 13, 10, 3, 7, 4, 24, 3, 1, 5, 179, 2], \"type\": \"choropleth\"}], \"name\": \"2020-03-09\"}, {\"data\": [{\"coloraxis\": \"coloraxis\", \"geo\": \"geo\", \"hovertemplate\": \"<b>%{hovertext}</b><br><br>date=2020-03-10<br>state_code=%{location}<br>cases=%{z}<extra></extra>\", \"hovertext\": [\"AZ\", \"CA\", \"CO\", \"CT\", \"dc\", \"FL\", \"GA\", \"HI\", \"IL\", \"IN\", \"IA\", \"KS\", \"KY\", \"LA\", \"MD\", \"MA\", \"MI\", \"MN\", \"MO\", \"NE\", \"NV\", \"NH\", \"NJ\", \"NY\", \"NC\", \"OH\", \"OK\", \"OR\", \"PA\", \"RI\", \"SC\", \"SD\", \"TN\", \"TX\", \"UT\", \"VT\", \"VA\", \"WA\", \"WI\"], \"locationmode\": \"USA-states\", \"locations\": [\"AZ\", \"CA\", \"CO\", \"CT\", \"dc\", \"FL\", \"GA\", \"HI\", \"IL\", \"IN\", \"IA\", \"KS\", \"KY\", \"LA\", \"MD\", \"MA\", \"MI\", \"MN\", \"MO\", \"NE\", \"NV\", \"NH\", \"NJ\", \"NY\", \"NC\", \"OH\", \"OK\", \"OR\", \"PA\", \"RI\", \"SC\", \"SD\", \"TN\", \"TX\", \"UT\", \"VT\", \"VA\", \"WA\", \"WI\"], \"name\": \"\", \"z\": [6, 179, 17, 2, 4, 23, 22, 2, 19, 6, 13, 1, 7, 6, 9, 92, 2, 3, 1, 17, 4, 5, 15, 173, 7, 3, 2, 14, 12, 5, 9, 5, 7, 31, 4, 1, 8, 279, 3], \"type\": \"choropleth\"}], \"name\": \"2020-03-10\"}, {\"data\": [{\"coloraxis\": \"coloraxis\", \"geo\": \"geo\", \"hovertemplate\": \"<b>%{hovertext}</b><br><br>date=2020-03-11<br>state_code=%{location}<br>cases=%{z}<extra></extra>\", \"hovertext\": [\"AZ\", \"AR\", \"CA\", \"CO\", \"CT\", \"DE\", \"dc\", \"FL\", \"GA\", \"HI\", \"IL\", \"IN\", \"IA\", \"KS\", \"KY\", \"LA\", \"MD\", \"MA\", \"MI\", \"MN\", \"MS\", \"MO\", \"NE\", \"NV\", \"NH\", \"NJ\", \"NM\", \"NY\", \"NC\", \"ND\", \"OH\", \"OK\", \"OR\", \"PA\", \"RI\", \"SC\", \"SD\", \"TN\", \"TX\", \"UT\", \"VT\", \"VA\", \"WA\", \"WI\", \"WY\"], \"locationmode\": \"USA-states\", \"locations\": [\"AZ\", \"AR\", \"CA\", \"CO\", \"CT\", \"DE\", \"dc\", \"FL\", \"GA\", \"HI\", \"IL\", \"IN\", \"IA\", \"KS\", \"KY\", \"LA\", \"MD\", \"MA\", \"MI\", \"MN\", \"MS\", \"MO\", \"NE\", \"NV\", \"NH\", \"NJ\", \"NM\", \"NY\", \"NC\", \"ND\", \"OH\", \"OK\", \"OR\", \"PA\", \"RI\", \"SC\", \"SD\", \"TN\", \"TX\", \"UT\", \"VT\", \"VA\", \"WA\", \"WI\", \"WY\"], \"name\": \"\", \"z\": [9, 1, 202, 34, 3, 1, 10, 26, 31, 2, 25, 11, 14, 1, 7, 13, 13, 95, 2, 5, 1, 1, 23, 7, 5, 23, 4, 217, 8, 1, 4, 2, 20, 16, 5, 10, 8, 8, 33, 5, 2, 10, 338, 6, 1], \"type\": \"choropleth\"}], \"name\": \"2020-03-11\"}, {\"data\": [{\"coloraxis\": \"coloraxis\", \"geo\": \"geo\", \"hovertemplate\": \"<b>%{hovertext}</b><br><br>date=2020-03-12<br>state_code=%{location}<br>cases=%{z}<extra></extra>\", \"hovertext\": [\"AK\", \"AZ\", \"AR\", \"CA\", \"CO\", \"CT\", \"DE\", \"dc\", \"FL\", \"GA\", \"HI\", \"IL\", \"IN\", \"IA\", \"KS\", \"KY\", \"LA\", \"ME\", \"MD\", \"MA\", \"MI\", \"MN\", \"MS\", \"MO\", \"NE\", \"NV\", \"NH\", \"NJ\", \"NM\", \"NY\", \"NC\", \"ND\", \"OH\", \"OK\", \"OR\", \"PA\", \"RI\", \"SC\", \"SD\", \"TN\", \"TX\", \"UT\", \"VT\", \"VA\", \"WA\", \"WI\", \"WY\"], \"locationmode\": \"USA-states\", \"locations\": [\"AK\", \"AZ\", \"AR\", \"CA\", \"CO\", \"CT\", \"DE\", \"dc\", \"FL\", \"GA\", \"HI\", \"IL\", \"IN\", \"IA\", \"KS\", \"KY\", \"LA\", \"ME\", \"MD\", \"MA\", \"MI\", \"MN\", \"MS\", \"MO\", \"NE\", \"NV\", \"NH\", \"NJ\", \"NM\", \"NY\", \"NC\", \"ND\", \"OH\", \"OK\", \"OR\", \"PA\", \"RI\", \"SC\", \"SD\", \"TN\", \"TX\", \"UT\", \"VT\", \"VA\", \"WA\", \"WI\", \"WY\"], \"name\": \"\", \"z\": [1, 9, 6, 252, 49, 6, 4, 10, 46, 31, 2, 32, 12, 16, 5, 11, 14, 1, 13, 108, 12, 9, 1, 2, 24, 11, 6, 29, 6, 326, 16, 1, 5, 2, 30, 22, 5, 12, 8, 18, 41, 7, 2, 17, 419, 8, 1], \"type\": \"choropleth\"}], \"name\": \"2020-03-12\"}, {\"data\": [{\"coloraxis\": \"coloraxis\", \"geo\": \"geo\", \"hovertemplate\": \"<b>%{hovertext}</b><br><br>date=2020-03-13<br>state_code=%{location}<br>cases=%{z}<extra></extra>\", \"hovertext\": [\"AL\", \"AK\", \"AZ\", \"AR\", \"CA\", \"CO\", \"CT\", \"DE\", \"dc\", \"FL\", \"GA\", \"HI\", \"ID\", \"IL\", \"IN\", \"IA\", \"KS\", \"KY\", \"LA\", \"ME\", \"MD\", \"MA\", \"MI\", \"MN\", \"MS\", \"MO\", \"MT\", \"NE\", \"NV\", \"NH\", \"NJ\", \"NM\", \"NY\", \"NC\", \"ND\", \"OH\", \"OK\", \"OR\", \"PA\", \"RI\", \"SC\", \"SD\", \"TN\", \"TX\", \"UT\", \"VT\", \"VA\", \"WA\", \"WI\", \"WY\"], \"locationmode\": \"USA-states\", \"locations\": [\"AL\", \"AK\", \"AZ\", \"AR\", \"CA\", \"CO\", \"CT\", \"DE\", \"dc\", \"FL\", \"GA\", \"HI\", \"ID\", \"IL\", \"IN\", \"IA\", \"KS\", \"KY\", \"LA\", \"ME\", \"MD\", \"MA\", \"MI\", \"MN\", \"MS\", \"MO\", \"MT\", \"NE\", \"NV\", \"NH\", \"NJ\", \"NM\", \"NY\", \"NC\", \"ND\", \"OH\", \"OK\", \"OR\", \"PA\", \"RI\", \"SC\", \"SD\", \"TN\", \"TX\", \"UT\", \"VT\", \"VA\", \"WA\", \"WI\", \"WY\"], \"name\": \"\", \"z\": [6, 1, 9, 7, 320, 78, 11, 4, 10, 70, 41, 2, 1, 46, 12, 17, 6, 11, 36, 2, 18, 123, 25, 14, 6, 4, 4, 27, 19, 7, 50, 10, 421, 18, 1, 13, 3, 30, 41, 20, 13, 9, 26, 58, 7, 2, 30, 511, 19, 2], \"type\": \"choropleth\"}], \"name\": \"2020-03-13\"}, {\"data\": [{\"coloraxis\": \"coloraxis\", \"geo\": \"geo\", \"hovertemplate\": \"<b>%{hovertext}</b><br><br>date=2020-03-14<br>state_code=%{location}<br>cases=%{z}<extra></extra>\", \"hovertext\": [\"AL\", \"AK\", \"AZ\", \"AR\", \"CA\", \"CO\", \"CT\", \"DE\", \"dc\", \"FL\", \"GA\", \"HI\", \"ID\", \"IL\", \"IN\", \"IA\", \"KS\", \"KY\", \"LA\", \"ME\", \"MD\", \"MA\", \"MI\", \"MN\", \"MS\", \"MO\", \"MT\", \"NE\", \"NV\", \"NH\", \"NJ\", \"NM\", \"NY\", \"NC\", \"ND\", \"OH\", \"OK\", \"OR\", \"PA\", \"RI\", \"SC\", \"SD\", \"TN\", \"TX\", \"UT\", \"VT\", \"VA\", \"WA\", \"WI\", \"WY\"], \"locationmode\": \"USA-states\", \"locations\": [\"AL\", \"AK\", \"AZ\", \"AR\", \"CA\", \"CO\", \"CT\", \"DE\", \"dc\", \"FL\", \"GA\", \"HI\", \"ID\", \"IL\", \"IN\", \"IA\", \"KS\", \"KY\", \"LA\", \"ME\", \"MD\", \"MA\", \"MI\", \"MN\", \"MS\", \"MO\", \"MT\", \"NE\", \"NV\", \"NH\", \"NJ\", \"NM\", \"NY\", \"NC\", \"ND\", \"OH\", \"OK\", \"OR\", \"PA\", \"RI\", \"SC\", \"SD\", \"TN\", \"TX\", \"UT\", \"VT\", \"VA\", \"WA\", \"WI\", \"WY\"], \"name\": \"\", \"z\": [12, 1, 12, 9, 381, 103, 20, 4, 16, 70, 65, 4, 5, 66, 15, 18, 8, 18, 77, 3, 27, 138, 33, 21, 6, 5, 6, 29, 21, 7, 75, 13, 610, 25, 1, 26, 4, 36, 47, 20, 19, 9, 32, 69, 21, 5, 42, 609, 27, 3], \"type\": \"choropleth\"}], \"name\": \"2020-03-14\"}, {\"data\": [{\"coloraxis\": \"coloraxis\", \"geo\": \"geo\", \"hovertemplate\": \"<b>%{hovertext}</b><br><br>date=2020-03-15<br>state_code=%{location}<br>cases=%{z}<extra></extra>\", \"hovertext\": [\"AL\", \"AK\", \"AZ\", \"AR\", \"CA\", \"CO\", \"CT\", \"DE\", \"dc\", \"FL\", \"GA\", \"HI\", \"ID\", \"IL\", \"IN\", \"IA\", \"KS\", \"KY\", \"LA\", \"ME\", \"MD\", \"MA\", \"MI\", \"MN\", \"MS\", \"MO\", \"MT\", \"NE\", \"NV\", \"NH\", \"NJ\", \"NM\", \"NY\", \"NC\", \"ND\", \"OH\", \"OK\", \"OR\", \"PA\", \"RI\", \"SC\", \"SD\", \"TN\", \"TX\", \"UT\", \"VT\", \"VA\", \"WA\", \"WI\", \"WY\"], \"locationmode\": \"USA-states\", \"locations\": [\"AL\", \"AK\", \"AZ\", \"AR\", \"CA\", \"CO\", \"CT\", \"DE\", \"dc\", \"FL\", \"GA\", \"HI\", \"ID\", \"IL\", \"IN\", \"IA\", \"KS\", \"KY\", \"LA\", \"ME\", \"MD\", \"MA\", \"MI\", \"MN\", \"MS\", \"MO\", \"MT\", \"NE\", \"NV\", \"NH\", \"NJ\", \"NM\", \"NY\", \"NC\", \"ND\", \"OH\", \"OK\", \"OR\", \"PA\", \"RI\", \"SC\", \"SD\", \"TN\", \"TX\", \"UT\", \"VT\", \"VA\", \"WA\", \"WI\", \"WY\"], \"name\": \"\", \"z\": [23, 1, 13, 16, 478, 136, 26, 7, 17, 109, 97, 7, 5, 94, 19, 22, 9, 21, 103, 12, 32, 164, 53, 35, 10, 5, 6, 31, 26, 13, 98, 17, 732, 32, 1, 37, 8, 39, 68, 20, 28, 9, 39, 80, 29, 8, 45, 675, 33, 3], \"type\": \"choropleth\"}], \"name\": \"2020-03-15\"}, {\"data\": [{\"coloraxis\": \"coloraxis\", \"geo\": \"geo\", \"hovertemplate\": \"<b>%{hovertext}</b><br><br>date=2020-03-16<br>state_code=%{location}<br>cases=%{z}<extra></extra>\", \"hovertext\": [\"AL\", \"AK\", \"AZ\", \"AR\", \"CA\", \"CO\", \"CT\", \"DE\", \"dc\", \"FL\", \"GA\", \"HI\", \"ID\", \"IL\", \"IN\", \"IA\", \"KS\", \"KY\", \"LA\", \"ME\", \"MD\", \"MA\", \"MI\", \"MN\", \"MS\", \"MO\", \"MT\", \"NE\", \"NV\", \"NH\", \"NJ\", \"NM\", \"NY\", \"NC\", \"ND\", \"OH\", \"OK\", \"OR\", \"PA\", \"RI\", \"SC\", \"SD\", \"TN\", \"TX\", \"UT\", \"VT\", \"VA\", \"WA\", \"WI\", \"WY\"], \"locationmode\": \"USA-states\", \"locations\": [\"AL\", \"AK\", \"AZ\", \"AR\", \"CA\", \"CO\", \"CT\", \"DE\", \"dc\", \"FL\", \"GA\", \"HI\", \"ID\", \"IL\", \"IN\", \"IA\", \"KS\", \"KY\", \"LA\", \"ME\", \"MD\", \"MA\", \"MI\", \"MN\", \"MS\", \"MO\", \"MT\", \"NE\", \"NV\", \"NH\", \"NJ\", \"NM\", \"NY\", \"NC\", \"ND\", \"OH\", \"OK\", \"OR\", \"PA\", \"RI\", \"SC\", \"SD\", \"TN\", \"TX\", \"UT\", \"VT\", \"VA\", \"WA\", \"WI\", \"WY\"], \"name\": \"\", \"z\": [29, 3, 18, 22, 588, 161, 41, 8, 22, 141, 118, 10, 5, 104, 24, 22, 11, 22, 137, 17, 39, 197, 54, 54, 12, 9, 8, 33, 45, 17, 176, 21, 950, 34, 1, 50, 10, 46, 81, 21, 33, 10, 52, 87, 40, 12, 51, 794, 47, 10], \"type\": \"choropleth\"}], \"name\": \"2020-03-16\"}, {\"data\": [{\"coloraxis\": \"coloraxis\", \"geo\": \"geo\", \"hovertemplate\": \"<b>%{hovertext}</b><br><br>date=2020-03-17<br>state_code=%{location}<br>cases=%{z}<extra></extra>\", \"hovertext\": [\"AL\", \"AK\", \"AZ\", \"AR\", \"CA\", \"CO\", \"CT\", \"DE\", \"dc\", \"FL\", \"GA\", \"HI\", \"ID\", \"IL\", \"IN\", \"IA\", \"KS\", \"KY\", \"LA\", \"ME\", \"MD\", \"MA\", \"MI\", \"MN\", \"MS\", \"MO\", \"MT\", \"NE\", \"NV\", \"NH\", \"NJ\", \"NM\", \"NY\", \"NC\", \"ND\", \"OH\", \"OK\", \"OR\", \"PA\", \"RI\", \"SC\", \"SD\", \"TN\", \"TX\", \"UT\", \"VT\", \"VA\", \"WA\", \"WV\", \"WI\", \"WY\"], \"locationmode\": \"USA-states\", \"locations\": [\"AL\", \"AK\", \"AZ\", \"AR\", \"CA\", \"CO\", \"CT\", \"DE\", \"dc\", \"FL\", \"GA\", \"HI\", \"ID\", \"IL\", \"IN\", \"IA\", \"KS\", \"KY\", \"LA\", \"ME\", \"MD\", \"MA\", \"MI\", \"MN\", \"MS\", \"MO\", \"MT\", \"NE\", \"NV\", \"NH\", \"NJ\", \"NM\", \"NY\", \"NC\", \"ND\", \"OH\", \"OK\", \"OR\", \"PA\", \"RI\", \"SC\", \"SD\", \"TN\", \"TX\", \"UT\", \"VT\", \"VA\", \"WA\", \"WV\", \"WI\", \"WY\"], \"name\": \"\", \"z\": [39, 6, 20, 22, 732, 183, 68, 16, 31, 210, 142, 14, 9, 159, 30, 29, 17, 26, 196, 32, 57, 218, 65, 60, 21, 16, 8, 36, 55, 26, 268, 23, 1374, 42, 5, 67, 18, 66, 101, 23, 47, 11, 73, 106, 51, 14, 67, 908, 1, 72, 15], \"type\": \"choropleth\"}], \"name\": \"2020-03-17\"}, {\"data\": [{\"coloraxis\": \"coloraxis\", \"geo\": \"geo\", \"hovertemplate\": \"<b>%{hovertext}</b><br><br>date=2020-03-18<br>state_code=%{location}<br>cases=%{z}<extra></extra>\", \"hovertext\": [\"AL\", \"AK\", \"AZ\", \"AR\", \"CA\", \"CO\", \"CT\", \"DE\", \"dc\", \"FL\", \"GA\", \"HI\", \"ID\", \"IL\", \"IN\", \"IA\", \"KS\", \"KY\", \"LA\", \"ME\", \"MD\", \"MA\", \"MI\", \"MN\", \"MS\", \"MO\", \"MT\", \"NE\", \"NV\", \"NH\", \"NJ\", \"NM\", \"NY\", \"NC\", \"ND\", \"OH\", \"OK\", \"OR\", \"PA\", \"RI\", \"SC\", \"SD\", \"TN\", \"TX\", \"UT\", \"VT\", \"VA\", \"WA\", \"WV\", \"WI\", \"WY\"], \"locationmode\": \"USA-states\", \"locations\": [\"AL\", \"AK\", \"AZ\", \"AR\", \"CA\", \"CO\", \"CT\", \"DE\", \"dc\", \"FL\", \"GA\", \"HI\", \"ID\", \"IL\", \"IN\", \"IA\", \"KS\", \"KY\", \"LA\", \"ME\", \"MD\", \"MA\", \"MI\", \"MN\", \"MS\", \"MO\", \"MT\", \"NE\", \"NV\", \"NH\", \"NJ\", \"NM\", \"NY\", \"NC\", \"ND\", \"OH\", \"OK\", \"OR\", \"PA\", \"RI\", \"SC\", \"SD\", \"TN\", \"TX\", \"UT\", \"VT\", \"VA\", \"WA\", \"WV\", \"WI\", \"WY\"], \"name\": \"\", \"z\": [51, 9, 28, 33, 893, 216, 96, 26, 36, 326, 193, 16, 11, 286, 39, 38, 22, 35, 280, 43, 85, 256, 80, 77, 34, 21, 12, 43, 82, 39, 427, 28, 2382, 66, 7, 90, 29, 74, 139, 33, 60, 11, 98, 166, 65, 19, 78, 1026, 2, 106, 17], \"type\": \"choropleth\"}], \"name\": \"2020-03-18\"}, {\"data\": [{\"coloraxis\": \"coloraxis\", \"geo\": \"geo\", \"hovertemplate\": \"<b>%{hovertext}</b><br><br>date=2020-03-19<br>state_code=%{location}<br>cases=%{z}<extra></extra>\", \"hovertext\": [\"AL\", \"AK\", \"AZ\", \"AR\", \"CA\", \"CO\", \"CT\", \"DE\", \"dc\", \"FL\", \"GA\", \"HI\", \"ID\", \"IL\", \"IN\", \"IA\", \"KS\", \"KY\", \"LA\", \"ME\", \"MD\", \"MA\", \"MI\", \"MN\", \"MS\", \"MO\", \"MT\", \"NE\", \"NV\", \"NH\", \"NJ\", \"NM\", \"NY\", \"NC\", \"ND\", \"OH\", \"OK\", \"OR\", \"PA\", \"RI\", \"SC\", \"SD\", \"TN\", \"TX\", \"UT\", \"VT\", \"VA\", \"WA\", \"WV\", \"WI\", \"WY\"], \"locationmode\": \"USA-states\", \"locations\": [\"AL\", \"AK\", \"AZ\", \"AR\", \"CA\", \"CO\", \"CT\", \"DE\", \"dc\", \"FL\", \"GA\", \"HI\", \"ID\", \"IL\", \"IN\", \"IA\", \"KS\", \"KY\", \"LA\", \"ME\", \"MD\", \"MA\", \"MI\", \"MN\", \"MS\", \"MO\", \"MT\", \"NE\", \"NV\", \"NH\", \"NJ\", \"NM\", \"NY\", \"NC\", \"ND\", \"OH\", \"OK\", \"OR\", \"PA\", \"RI\", \"SC\", \"SD\", \"TN\", \"TX\", \"UT\", \"VT\", \"VA\", \"WA\", \"WV\", \"WI\", \"WY\"], \"name\": \"\", \"z\": [78, 12, 47, 62, 1067, 278, 159, 30, 68, 434, 282, 26, 23, 420, 56, 44, 35, 47, 392, 52, 108, 328, 334, 89, 50, 35, 19, 47, 99, 44, 735, 35, 4152, 104, 19, 120, 44, 87, 187, 44, 81, 14, 155, 248, 80, 22, 94, 1228, 5, 155, 18], \"type\": \"choropleth\"}], \"name\": \"2020-03-19\"}, {\"data\": [{\"coloraxis\": \"coloraxis\", \"geo\": \"geo\", \"hovertemplate\": \"<b>%{hovertext}</b><br><br>date=2020-03-20<br>state_code=%{location}<br>cases=%{z}<extra></extra>\", \"hovertext\": [\"AL\", \"AK\", \"AZ\", \"AR\", \"CA\", \"CO\", \"CT\", \"DE\", \"dc\", \"FL\", \"GA\", \"HI\", \"ID\", \"IL\", \"IN\", \"IA\", \"KS\", \"KY\", \"LA\", \"ME\", \"MD\", \"MA\", \"MI\", \"MN\", \"MS\", \"MO\", \"MT\", \"NE\", \"NV\", \"NH\", \"NJ\", \"NM\", \"NY\", \"NC\", \"ND\", \"OH\", \"OK\", \"OR\", \"PA\", \"RI\", \"SC\", \"SD\", \"TN\", \"TX\", \"UT\", \"VT\", \"VA\", \"WA\", \"WV\", \"WI\", \"WY\"], \"locationmode\": \"USA-states\", \"locations\": [\"AL\", \"AK\", \"AZ\", \"AR\", \"CA\", \"CO\", \"CT\", \"DE\", \"dc\", \"FL\", \"GA\", \"HI\", \"ID\", \"IL\", \"IN\", \"IA\", \"KS\", \"KY\", \"LA\", \"ME\", \"MD\", \"MA\", \"MI\", \"MN\", \"MS\", \"MO\", \"MT\", \"NE\", \"NV\", \"NH\", \"NJ\", \"NM\", \"NY\", \"NC\", \"ND\", \"OH\", \"OK\", \"OR\", \"PA\", \"RI\", \"SC\", \"SD\", \"TN\", \"TX\", \"UT\", \"VT\", \"VA\", \"WA\", \"WV\", \"WI\", \"WY\"], \"name\": \"\", \"z\": [106, 14, 70, 100, 1283, 364, 194, 39, 77, 564, 482, 37, 31, 583, 79, 45, 49, 63, 537, 57, 150, 413, 548, 115, 80, 73, 19, 53, 165, 55, 896, 43, 7102, 144, 27, 169, 49, 114, 269, 44, 126, 14, 237, 377, 112, 29, 115, 1404, 8, 216, 22], \"type\": \"choropleth\"}], \"name\": \"2020-03-20\"}, {\"data\": [{\"coloraxis\": \"coloraxis\", \"geo\": \"geo\", \"hovertemplate\": \"<b>%{hovertext}</b><br><br>date=2020-03-21<br>state_code=%{location}<br>cases=%{z}<extra></extra>\", \"hovertext\": [\"AL\", \"AK\", \"AZ\", \"AR\", \"CA\", \"CO\", \"CT\", \"DE\", \"dc\", \"FL\", \"GA\", \"HI\", \"ID\", \"IL\", \"IN\", \"IA\", \"KS\", \"KY\", \"LA\", \"ME\", \"MD\", \"MA\", \"MI\", \"MN\", \"MS\", \"MO\", \"MT\", \"NE\", \"NV\", \"NH\", \"NJ\", \"NM\", \"NY\", \"NC\", \"ND\", \"OH\", \"OK\", \"OR\", \"PA\", \"RI\", \"SC\", \"SD\", \"TN\", \"TX\", \"UT\", \"VT\", \"VA\", \"WA\", \"WV\", \"WI\", \"WY\"], \"locationmode\": \"USA-states\", \"locations\": [\"AL\", \"AK\", \"AZ\", \"AR\", \"CA\", \"CO\", \"CT\", \"DE\", \"dc\", \"FL\", \"GA\", \"HI\", \"ID\", \"IL\", \"IN\", \"IA\", \"KS\", \"KY\", \"LA\", \"ME\", \"MD\", \"MA\", \"MI\", \"MN\", \"MS\", \"MO\", \"MT\", \"NE\", \"NV\", \"NH\", \"NJ\", \"NM\", \"NY\", \"NC\", \"ND\", \"OH\", \"OK\", \"OR\", \"PA\", \"RI\", \"SC\", \"SD\", \"TN\", \"TX\", \"UT\", \"VT\", \"VA\", \"WA\", \"WV\", \"WI\", \"WY\"], \"name\": \"\", \"z\": [131, 21, 104, 118, 1544, 475, 223, 45, 98, 764, 552, 48, 42, 751, 126, 68, 57, 84, 763, 70, 195, 525, 787, 138, 140, 93, 29, 61, 165, 65, 1336, 57, 10356, 184, 28, 247, 53, 137, 388, 66, 172, 14, 312, 547, 138, 49, 152, 1655, 12, 281, 24], \"type\": \"choropleth\"}], \"name\": \"2020-03-21\"}, {\"data\": [{\"coloraxis\": \"coloraxis\", \"geo\": \"geo\", \"hovertemplate\": \"<b>%{hovertext}</b><br><br>date=2020-03-22<br>state_code=%{location}<br>cases=%{z}<extra></extra>\", \"hovertext\": [\"AL\", \"AK\", \"AZ\", \"AR\", \"CA\", \"CO\", \"CT\", \"DE\", \"dc\", \"FL\", \"GA\", \"HI\", \"ID\", \"IL\", \"IN\", \"IA\", \"KS\", \"KY\", \"LA\", \"ME\", \"MD\", \"MA\", \"MI\", \"MN\", \"MS\", \"MO\", \"MT\", \"NE\", \"NV\", \"NH\", \"NJ\", \"NM\", \"NY\", \"NC\", \"ND\", \"OH\", \"OK\", \"OR\", \"PA\", \"RI\", \"SC\", \"SD\", \"TN\", \"TX\", \"UT\", \"VT\", \"VA\", \"WA\", \"WV\", \"WI\", \"WY\"], \"locationmode\": \"USA-states\", \"locations\": [\"AL\", \"AK\", \"AZ\", \"AR\", \"CA\", \"CO\", \"CT\", \"DE\", \"dc\", \"FL\", \"GA\", \"HI\", \"ID\", \"IL\", \"IN\", \"IA\", \"KS\", \"KY\", \"LA\", \"ME\", \"MD\", \"MA\", \"MI\", \"MN\", \"MS\", \"MO\", \"MT\", \"NE\", \"NV\", \"NH\", \"NJ\", \"NM\", \"NY\", \"NC\", \"ND\", \"OH\", \"OK\", \"OR\", \"PA\", \"RI\", \"SC\", \"SD\", \"TN\", \"TX\", \"UT\", \"VT\", \"VA\", \"WA\", \"WV\", \"WI\", \"WY\"], \"name\": \"\", \"z\": [157, 22, 153, 165, 1851, 591, 327, 56, 116, 1000, 620, 56, 47, 1047, 201, 90, 66, 103, 837, 89, 245, 646, 1033, 171, 207, 130, 34, 62, 190, 78, 1914, 65, 15168, 269, 30, 351, 67, 161, 504, 83, 194, 21, 424, 632, 182, 52, 219, 1844, 16, 382, 26], \"type\": \"choropleth\"}], \"name\": \"2020-03-22\"}, {\"data\": [{\"coloraxis\": \"coloraxis\", \"geo\": \"geo\", \"hovertemplate\": \"<b>%{hovertext}</b><br><br>date=2020-03-23<br>state_code=%{location}<br>cases=%{z}<extra></extra>\", \"hovertext\": [\"AL\", \"AK\", \"AZ\", \"AR\", \"CA\", \"CO\", \"CT\", \"DE\", \"dc\", \"FL\", \"GA\", \"HI\", \"ID\", \"IL\", \"IN\", \"IA\", \"KS\", \"KY\", \"LA\", \"ME\", \"MD\", \"MA\", \"MI\", \"MN\", \"MS\", \"MO\", \"MT\", \"NE\", \"NV\", \"NH\", \"NJ\", \"NM\", \"NY\", \"NC\", \"ND\", \"OH\", \"OK\", \"OR\", \"PA\", \"RI\", \"SC\", \"SD\", \"TN\", \"TX\", \"UT\", \"VT\", \"VA\", \"WA\", \"WV\", \"WI\", \"WY\"], \"locationmode\": \"USA-states\", \"locations\": [\"AL\", \"AK\", \"AZ\", \"AR\", \"CA\", \"CO\", \"CT\", \"DE\", \"dc\", \"FL\", \"GA\", \"HI\", \"ID\", \"IL\", \"IN\", \"IA\", \"KS\", \"KY\", \"LA\", \"ME\", \"MD\", \"MA\", \"MI\", \"MN\", \"MS\", \"MO\", \"MT\", \"NE\", \"NV\", \"NH\", \"NJ\", \"NM\", \"NY\", \"NC\", \"ND\", \"OH\", \"OK\", \"OR\", \"PA\", \"RI\", \"SC\", \"SD\", \"TN\", \"TX\", \"UT\", \"VT\", \"VA\", \"WA\", \"WV\", \"WI\", \"WY\"], \"name\": \"\", \"z\": [196, 36, 234, 201, 2240, 721, 415, 87, 138, 1222, 800, 77, 50, 1285, 259, 105, 82, 124, 1172, 107, 290, 777, 1324, 235, 249, 183, 45, 73, 265, 101, 2844, 83, 20875, 303, 32, 444, 81, 191, 644, 106, 299, 28, 522, 728, 257, 75, 254, 2101, 16, 418, 28], \"type\": \"choropleth\"}], \"name\": \"2020-03-23\"}, {\"data\": [{\"coloraxis\": \"coloraxis\", \"geo\": \"geo\", \"hovertemplate\": \"<b>%{hovertext}</b><br><br>date=2020-03-24<br>state_code=%{location}<br>cases=%{z}<extra></extra>\", \"hovertext\": [\"AL\", \"AK\", \"AZ\", \"AR\", \"CA\", \"CO\", \"CT\", \"DE\", \"dc\", \"FL\", \"GA\", \"HI\", \"ID\", \"IL\", \"IN\", \"IA\", \"KS\", \"KY\", \"LA\", \"ME\", \"MD\", \"MA\", \"MI\", \"MN\", \"MS\", \"MO\", \"MT\", \"NE\", \"NV\", \"NH\", \"NJ\", \"NM\", \"NY\", \"NC\", \"ND\", \"OH\", \"OK\", \"OR\", \"PA\", \"RI\", \"SC\", \"SD\", \"TN\", \"TX\", \"UT\", \"VT\", \"VA\", \"WA\", \"WV\", \"WI\", \"WY\"], \"locationmode\": \"USA-states\", \"locations\": [\"AL\", \"AK\", \"AZ\", \"AR\", \"CA\", \"CO\", \"CT\", \"DE\", \"dc\", \"FL\", \"GA\", \"HI\", \"ID\", \"IL\", \"IN\", \"IA\", \"KS\", \"KY\", \"LA\", \"ME\", \"MD\", \"MA\", \"MI\", \"MN\", \"MS\", \"MO\", \"MT\", \"NE\", \"NV\", \"NH\", \"NJ\", \"NM\", \"NY\", \"NC\", \"ND\", \"OH\", \"OK\", \"OR\", \"PA\", \"RI\", \"SC\", \"SD\", \"TN\", \"TX\", \"UT\", \"VT\", \"VA\", \"WA\", \"WV\", \"WI\", \"WY\"], \"name\": \"\", \"z\": [242, 42, 326, 232, 2644, 912, 618, 104, 183, 1467, 1097, 90, 73, 1535, 366, 124, 99, 157, 1388, 118, 349, 1159, 1791, 262, 320, 255, 51, 77, 315, 108, 3675, 100, 25665, 399, 36, 564, 106, 209, 851, 124, 342, 30, 679, 857, 298, 95, 290, 2469, 39, 481, 37], \"type\": \"choropleth\"}], \"name\": \"2020-03-24\"}, {\"data\": [{\"coloraxis\": \"coloraxis\", \"geo\": \"geo\", \"hovertemplate\": \"<b>%{hovertext}</b><br><br>date=2020-03-25<br>state_code=%{location}<br>cases=%{z}<extra></extra>\", \"hovertext\": [\"AL\", \"AK\", \"AZ\", \"AR\", \"CA\", \"CO\", \"CT\", \"DE\", \"dc\", \"FL\", \"GA\", \"HI\", \"ID\", \"IL\", \"IN\", \"IA\", \"KS\", \"KY\", \"LA\", \"ME\", \"MD\", \"MA\", \"MI\", \"MN\", \"MS\", \"MO\", \"MT\", \"NE\", \"NV\", \"NH\", \"NJ\", \"NM\", \"NY\", \"NC\", \"ND\", \"OH\", \"OK\", \"OR\", \"PA\", \"RI\", \"SC\", \"SD\", \"TN\", \"TX\", \"UT\", \"VT\", \"VA\", \"WA\", \"WV\", \"WI\", \"WY\"], \"locationmode\": \"USA-states\", \"locations\": [\"AL\", \"AK\", \"AZ\", \"AR\", \"CA\", \"CO\", \"CT\", \"DE\", \"dc\", \"FL\", \"GA\", \"HI\", \"ID\", \"IL\", \"IN\", \"IA\", \"KS\", \"KY\", \"LA\", \"ME\", \"MD\", \"MA\", \"MI\", \"MN\", \"MS\", \"MO\", \"MT\", \"NE\", \"NV\", \"NH\", \"NJ\", \"NM\", \"NY\", \"NC\", \"ND\", \"OH\", \"OK\", \"OR\", \"PA\", \"RI\", \"SC\", \"SD\", \"TN\", \"TX\", \"UT\", \"VT\", \"VA\", \"WA\", \"WV\", \"WI\", \"WY\"], \"name\": \"\", \"z\": [386, 59, 402, 308, 3183, 1086, 875, 119, 231, 1965, 1387, 95, 123, 1875, 479, 145, 132, 198, 1795, 142, 423, 1838, 2294, 287, 377, 377, 65, 84, 405, 137, 4402, 112, 33066, 563, 45, 706, 164, 266, 1151, 132, 424, 41, 806, 1119, 346, 123, 391, 2585, 51, 623, 49], \"type\": \"choropleth\"}], \"name\": \"2020-03-25\"}, {\"data\": [{\"coloraxis\": \"coloraxis\", \"geo\": \"geo\", \"hovertemplate\": \"<b>%{hovertext}</b><br><br>date=2020-03-26<br>state_code=%{location}<br>cases=%{z}<extra></extra>\", \"hovertext\": [\"AL\", \"AK\", \"AZ\", \"AR\", \"CA\", \"CO\", \"CT\", \"DE\", \"dc\", \"FL\", \"GA\", \"HI\", \"ID\", \"IL\", \"IN\", \"IA\", \"KS\", \"KY\", \"LA\", \"ME\", \"MD\", \"MA\", \"MI\", \"MN\", \"MS\", \"MO\", \"MT\", \"NE\", \"NV\", \"NH\", \"NJ\", \"NM\", \"NY\", \"NC\", \"ND\", \"OH\", \"OK\", \"OR\", \"PA\", \"RI\", \"SC\", \"SD\", \"TN\", \"TX\", \"UT\", \"VT\", \"VA\", \"WA\", \"WV\", \"WI\", \"WY\"], \"locationmode\": \"USA-states\", \"locations\": [\"AL\", \"AK\", \"AZ\", \"AR\", \"CA\", \"CO\", \"CT\", \"DE\", \"dc\", \"FL\", \"GA\", \"HI\", \"ID\", \"IL\", \"IN\", \"IA\", \"KS\", \"KY\", \"LA\", \"ME\", \"MD\", \"MA\", \"MI\", \"MN\", \"MS\", \"MO\", \"MT\", \"NE\", \"NV\", \"NH\", \"NJ\", \"NM\", \"NY\", \"NC\", \"ND\", \"OH\", \"OK\", \"OR\", \"PA\", \"RI\", \"SC\", \"SD\", \"TN\", \"TX\", \"UT\", \"VT\", \"VA\", \"WA\", \"WV\", \"WI\", \"WY\"], \"name\": \"\", \"z\": [538, 69, 508, 351, 4060, 1432, 1012, 143, 267, 2477, 1643, 106, 189, 2538, 656, 179, 171, 248, 2305, 155, 581, 2417, 2878, 346, 487, 507, 90, 92, 535, 158, 6876, 136, 38987, 638, 58, 867, 248, 316, 1690, 165, 456, 46, 981, 1543, 402, 158, 604, 3208, 76, 754, 56], \"type\": \"choropleth\"}], \"name\": \"2020-03-26\"}, {\"data\": [{\"coloraxis\": \"coloraxis\", \"geo\": \"geo\", \"hovertemplate\": \"<b>%{hovertext}</b><br><br>date=2020-03-27<br>state_code=%{location}<br>cases=%{z}<extra></extra>\", \"hovertext\": [\"AL\", \"AK\", \"AZ\", \"AR\", \"CA\", \"CO\", \"CT\", \"DE\", \"dc\", \"FL\", \"GA\", \"HI\", \"ID\", \"IL\", \"IN\", \"IA\", \"KS\", \"KY\", \"LA\", \"ME\", \"MD\", \"MA\", \"MI\", \"MN\", \"MS\", \"MO\", \"MT\", \"NE\", \"NV\", \"NH\", \"NJ\", \"NM\", \"NY\", \"NC\", \"ND\", \"OH\", \"OK\", \"OR\", \"PA\", \"RI\", \"SC\", \"SD\", \"TN\", \"TX\", \"UT\", \"VT\", \"VA\", \"WA\", \"WV\", \"WI\", \"WY\"], \"locationmode\": \"USA-states\", \"locations\": [\"AL\", \"AK\", \"AZ\", \"AR\", \"CA\", \"CO\", \"CT\", \"DE\", \"dc\", \"FL\", \"GA\", \"HI\", \"ID\", \"IL\", \"IN\", \"IA\", \"KS\", \"KY\", \"LA\", \"ME\", \"MD\", \"MA\", \"MI\", \"MN\", \"MS\", \"MO\", \"MT\", \"NE\", \"NV\", \"NH\", \"NJ\", \"NM\", \"NY\", \"NC\", \"ND\", \"OH\", \"OK\", \"OR\", \"PA\", \"RI\", \"SC\", \"SD\", \"TN\", \"TX\", \"UT\", \"VT\", \"VA\", \"WA\", \"WV\", \"WI\", \"WY\"], \"name\": \"\", \"z\": [639, 85, 665, 386, 4914, 1735, 1291, 165, 304, 3198, 2198, 120, 231, 3029, 982, 235, 212, 302, 2746, 168, 775, 3240, 3657, 398, 579, 671, 121, 100, 621, 187, 8825, 191, 44635, 783, 68, 1144, 322, 414, 2218, 203, 539, 58, 1180, 1942, 480, 184, 606, 3770, 96, 930, 73], \"type\": \"choropleth\"}], \"name\": \"2020-03-27\"}, {\"data\": [{\"coloraxis\": \"coloraxis\", \"geo\": \"geo\", \"hovertemplate\": \"<b>%{hovertext}</b><br><br>date=2020-03-28<br>state_code=%{location}<br>cases=%{z}<extra></extra>\", \"hovertext\": [\"AL\", \"AK\", \"AZ\", \"AR\", \"CA\", \"CO\", \"CT\", \"DE\", \"dc\", \"FL\", \"GA\", \"HI\", \"ID\", \"IL\", \"IN\", \"IA\", \"KS\", \"KY\", \"LA\", \"ME\", \"MD\", \"MA\", \"MI\", \"MN\", \"MS\", \"MO\", \"MT\", \"NE\", \"NV\", \"NH\", \"NJ\", \"NM\", \"NY\", \"NC\", \"ND\", \"OH\", \"OK\", \"OR\", \"PA\", \"RI\", \"SC\", \"SD\", \"TN\", \"TX\", \"UT\", \"VT\", \"VA\", \"WA\", \"WV\", \"WI\", \"WY\"], \"locationmode\": \"USA-states\", \"locations\": [\"AL\", \"AK\", \"AZ\", \"AR\", \"CA\", \"CO\", \"CT\", \"DE\", \"dc\", \"FL\", \"GA\", \"HI\", \"ID\", \"IL\", \"IN\", \"IA\", \"KS\", \"KY\", \"LA\", \"ME\", \"MD\", \"MA\", \"MI\", \"MN\", \"MS\", \"MO\", \"MT\", \"NE\", \"NV\", \"NH\", \"NJ\", \"NM\", \"NY\", \"NC\", \"ND\", \"OH\", \"OK\", \"OR\", \"PA\", \"RI\", \"SC\", \"SD\", \"TN\", \"TX\", \"UT\", \"VT\", \"VA\", \"WA\", \"WV\", \"WI\", \"WY\"], \"name\": \"\", \"z\": [720, 102, 773, 409, 5565, 2061, 1524, 214, 342, 4038, 2447, 151, 261, 3547, 1232, 298, 271, 394, 3315, 211, 1066, 4257, 4635, 441, 669, 838, 147, 122, 738, 214, 11124, 208, 53363, 972, 94, 1406, 377, 479, 2815, 239, 660, 68, 1364, 2161, 608, 211, 740, 4311, 113, 1042, 84], \"type\": \"choropleth\"}], \"name\": \"2020-03-28\"}, {\"data\": [{\"coloraxis\": \"coloraxis\", \"geo\": \"geo\", \"hovertemplate\": \"<b>%{hovertext}</b><br><br>date=2020-03-29<br>state_code=%{location}<br>cases=%{z}<extra></extra>\", \"hovertext\": [\"AL\", \"AK\", \"AZ\", \"AR\", \"CA\", \"CO\", \"CT\", \"DE\", \"dc\", \"FL\", \"GA\", \"HI\", \"ID\", \"IL\", \"IN\", \"IA\", \"KS\", \"KY\", \"LA\", \"ME\", \"MD\", \"MA\", \"MI\", \"MN\", \"MS\", \"MO\", \"MT\", \"NE\", \"NV\", \"NH\", \"NJ\", \"NM\", \"NY\", \"NC\", \"ND\", \"OH\", \"OK\", \"OR\", \"PA\", \"RI\", \"SC\", \"SD\", \"TN\", \"TX\", \"UT\", \"VT\", \"VA\", \"WA\", \"WV\", \"WI\", \"WY\"], \"locationmode\": \"USA-states\", \"locations\": [\"AL\", \"AK\", \"AZ\", \"AR\", \"CA\", \"CO\", \"CT\", \"DE\", \"dc\", \"FL\", \"GA\", \"HI\", \"ID\", \"IL\", \"IN\", \"IA\", \"KS\", \"KY\", \"LA\", \"ME\", \"MD\", \"MA\", \"MI\", \"MN\", \"MS\", \"MO\", \"MT\", \"NE\", \"NV\", \"NH\", \"NJ\", \"NM\", \"NY\", \"NC\", \"ND\", \"OH\", \"OK\", \"OR\", \"PA\", \"RI\", \"SC\", \"SD\", \"TN\", \"TX\", \"UT\", \"VT\", \"VA\", \"WA\", \"WV\", \"WI\", \"WY\"], \"name\": \"\", \"z\": [830, 114, 929, 449, 6266, 2315, 1993, 232, 342, 4942, 2683, 175, 310, 4613, 1514, 336, 332, 439, 3540, 253, 1244, 4955, 5486, 504, 759, 903, 161, 137, 920, 258, 13386, 237, 59568, 1167, 98, 1665, 429, 548, 3441, 294, 774, 90, 1570, 2712, 719, 235, 890, 4896, 124, 1120, 87], \"type\": \"choropleth\"}], \"name\": \"2020-03-29\"}, {\"data\": [{\"coloraxis\": \"coloraxis\", \"geo\": \"geo\", \"hovertemplate\": \"<b>%{hovertext}</b><br><br>date=2020-03-30<br>state_code=%{location}<br>cases=%{z}<extra></extra>\", \"hovertext\": [\"AL\", \"AK\", \"AZ\", \"AR\", \"CA\", \"CO\", \"CT\", \"DE\", \"dc\", \"FL\", \"GA\", \"HI\", \"ID\", \"IL\", \"IN\", \"IA\", \"KS\", \"KY\", \"LA\", \"ME\", \"MD\", \"MA\", \"MI\", \"MN\", \"MS\", \"MO\", \"MT\", \"NE\", \"NV\", \"NH\", \"NJ\", \"NM\", \"NY\", \"NC\", \"ND\", \"OH\", \"OK\", \"OR\", \"PA\", \"RI\", \"SC\", \"SD\", \"TN\", \"TX\", \"UT\", \"VT\", \"VA\", \"WA\", \"WV\", \"WI\", \"WY\"], \"locationmode\": \"USA-states\", \"locations\": [\"AL\", \"AK\", \"AZ\", \"AR\", \"CA\", \"CO\", \"CT\", \"DE\", \"dc\", \"FL\", \"GA\", \"HI\", \"ID\", \"IL\", \"IN\", \"IA\", \"KS\", \"KY\", \"LA\", \"ME\", \"MD\", \"MA\", \"MI\", \"MN\", \"MS\", \"MO\", \"MT\", \"NE\", \"NV\", \"NH\", \"NJ\", \"NM\", \"NY\", \"NC\", \"ND\", \"OH\", \"OK\", \"OR\", \"PA\", \"RI\", \"SC\", \"SD\", \"TN\", \"TX\", \"UT\", \"VT\", \"VA\", \"WA\", \"WV\", \"WI\", \"WY\"], \"name\": \"\", \"z\": [947, 119, 1169, 508, 7421, 2628, 2571, 264, 495, 5694, 3032, 204, 415, 5070, 1788, 424, 373, 480, 4025, 275, 1414, 5752, 6508, 576, 848, 1050, 177, 185, 1044, 314, 16636, 281, 67174, 1304, 109, 1933, 481, 606, 4156, 408, 925, 101, 1721, 3043, 806, 256, 1021, 5179, 145, 1267, 95], \"type\": \"choropleth\"}], \"name\": \"2020-03-30\"}, {\"data\": [{\"coloraxis\": \"coloraxis\", \"geo\": \"geo\", \"hovertemplate\": \"<b>%{hovertext}</b><br><br>date=2020-03-31<br>state_code=%{location}<br>cases=%{z}<extra></extra>\", \"hovertext\": [\"AL\", \"AK\", \"AZ\", \"AR\", \"CA\", \"CO\", \"CT\", \"DE\", \"dc\", \"FL\", \"GA\", \"HI\", \"ID\", \"IL\", \"IN\", \"IA\", \"KS\", \"KY\", \"LA\", \"ME\", \"MD\", \"MA\", \"MI\", \"MN\", \"MS\", \"MO\", \"MT\", \"NE\", \"NV\", \"NH\", \"NJ\", \"NM\", \"NY\", \"NC\", \"ND\", \"OH\", \"OK\", \"OR\", \"PA\", \"RI\", \"SC\", \"SD\", \"TN\", \"TX\", \"UT\", \"VT\", \"VA\", \"WA\", \"WV\", \"WI\", \"WY\"], \"locationmode\": \"USA-states\", \"locations\": [\"AL\", \"AK\", \"AZ\", \"AR\", \"CA\", \"CO\", \"CT\", \"DE\", \"dc\", \"FL\", \"GA\", \"HI\", \"ID\", \"IL\", \"IN\", \"IA\", \"KS\", \"KY\", \"LA\", \"ME\", \"MD\", \"MA\", \"MI\", \"MN\", \"MS\", \"MO\", \"MT\", \"NE\", \"NV\", \"NH\", \"NJ\", \"NM\", \"NY\", \"NC\", \"ND\", \"OH\", \"OK\", \"OR\", \"PA\", \"RI\", \"SC\", \"SD\", \"TN\", \"TX\", \"UT\", \"VT\", \"VA\", \"WA\", \"WV\", \"WI\", \"WY\"], \"name\": \"\", \"z\": [999, 133, 1298, 564, 8582, 2990, 3128, 319, 495, 6741, 4117, 224, 526, 5994, 2159, 498, 434, 590, 5237, 303, 1662, 6620, 7630, 629, 937, 1351, 198, 193, 1113, 367, 18696, 315, 75832, 1528, 126, 2199, 566, 690, 4997, 488, 1083, 108, 2049, 3576, 887, 293, 1250, 5292, 162, 1351, 120], \"type\": \"choropleth\"}], \"name\": \"2020-03-31\"}, {\"data\": [{\"coloraxis\": \"coloraxis\", \"geo\": \"geo\", \"hovertemplate\": \"<b>%{hovertext}</b><br><br>date=2020-04-01<br>state_code=%{location}<br>cases=%{z}<extra></extra>\", \"hovertext\": [\"AL\", \"AK\", \"AZ\", \"AR\", \"CA\", \"CO\", \"CT\", \"DE\", \"dc\", \"FL\", \"GA\", \"HI\", \"ID\", \"IL\", \"IN\", \"IA\", \"KS\", \"KY\", \"LA\", \"ME\", \"MD\", \"MA\", \"MI\", \"MN\", \"MS\", \"MO\", \"MT\", \"NE\", \"NV\", \"NH\", \"NJ\", \"NM\", \"NY\", \"NC\", \"ND\", \"OH\", \"OK\", \"OR\", \"PA\", \"RI\", \"SC\", \"SD\", \"TN\", \"TX\", \"UT\", \"VT\", \"VA\", \"WA\", \"WV\", \"WI\", \"WY\"], \"locationmode\": \"USA-states\", \"locations\": [\"AL\", \"AK\", \"AZ\", \"AR\", \"CA\", \"CO\", \"CT\", \"DE\", \"dc\", \"FL\", \"GA\", \"HI\", \"ID\", \"IL\", \"IN\", \"IA\", \"KS\", \"KY\", \"LA\", \"ME\", \"MD\", \"MA\", \"MI\", \"MN\", \"MS\", \"MO\", \"MT\", \"NE\", \"NV\", \"NH\", \"NJ\", \"NM\", \"NY\", \"NC\", \"ND\", \"OH\", \"OK\", \"OR\", \"PA\", \"RI\", \"SC\", \"SD\", \"TN\", \"TX\", \"UT\", \"VT\", \"VA\", \"WA\", \"WV\", \"WI\", \"WY\"], \"name\": \"\", \"z\": [1106, 143, 1413, 624, 9816, 3346, 3557, 368, 586, 7765, 4748, 258, 669, 6980, 2565, 549, 488, 682, 6424, 344, 1985, 7738, 9293, 689, 1073, 1581, 217, 249, 1279, 415, 22255, 363, 83889, 1582, 147, 2547, 719, 736, 5805, 566, 1293, 129, 2690, 4261, 1012, 321, 1511, 5588, 191, 1550, 137], \"type\": \"choropleth\"}], \"name\": \"2020-04-01\"}, {\"data\": [{\"coloraxis\": \"coloraxis\", \"geo\": \"geo\", \"hovertemplate\": \"<b>%{hovertext}</b><br><br>date=2020-04-02<br>state_code=%{location}<br>cases=%{z}<extra></extra>\", \"hovertext\": [\"AL\", \"AK\", \"AZ\", \"AR\", \"CA\", \"CO\", \"CT\", \"DE\", \"dc\", \"FL\", \"GA\", \"HI\", \"ID\", \"IL\", \"IN\", \"IA\", \"KS\", \"KY\", \"LA\", \"ME\", \"MD\", \"MA\", \"MI\", \"MN\", \"MS\", \"MO\", \"MT\", \"NE\", \"NV\", \"NH\", \"NJ\", \"NM\", \"NY\", \"NC\", \"ND\", \"OH\", \"OK\", \"OR\", \"PA\", \"RI\", \"SC\", \"SD\", \"TN\", \"TX\", \"UT\", \"VT\", \"VA\", \"WA\", \"WV\", \"WI\", \"WY\"], \"locationmode\": \"USA-states\", \"locations\": [\"AL\", \"AK\", \"AZ\", \"AR\", \"CA\", \"CO\", \"CT\", \"DE\", \"dc\", \"FL\", \"GA\", \"HI\", \"ID\", \"IL\", \"IN\", \"IA\", \"KS\", \"KY\", \"LA\", \"ME\", \"MD\", \"MA\", \"MI\", \"MN\", \"MS\", \"MO\", \"MT\", \"NE\", \"NV\", \"NH\", \"NJ\", \"NM\", \"NY\", \"NC\", \"ND\", \"OH\", \"OK\", \"OR\", \"PA\", \"RI\", \"SC\", \"SD\", \"TN\", \"TX\", \"UT\", \"VT\", \"VA\", \"WA\", \"WV\", \"WI\", \"WY\"], \"name\": \"\", \"z\": [1270, 146, 1600, 683, 11190, 3728, 3824, 393, 653, 9000, 5444, 283, 891, 7695, 3039, 614, 554, 755, 9150, 376, 2331, 8966, 10791, 742, 1177, 1834, 241, 273, 1458, 479, 25590, 403, 92770, 1857, 159, 2902, 879, 826, 7016, 657, 1554, 165, 2869, 4880, 1074, 338, 1706, 6585, 217, 1730, 153], \"type\": \"choropleth\"}], \"name\": \"2020-04-02\"}, {\"data\": [{\"coloraxis\": \"coloraxis\", \"geo\": \"geo\", \"hovertemplate\": \"<b>%{hovertext}</b><br><br>date=2020-04-03<br>state_code=%{location}<br>cases=%{z}<extra></extra>\", \"hovertext\": [\"AL\", \"AK\", \"AZ\", \"AR\", \"CA\", \"CO\", \"CT\", \"DE\", \"dc\", \"FL\", \"GA\", \"HI\", \"ID\", \"IL\", \"IN\", \"IA\", \"KS\", \"KY\", \"LA\", \"ME\", \"MD\", \"MA\", \"MI\", \"MN\", \"MS\", \"MO\", \"MT\", \"NE\", \"NV\", \"NH\", \"NJ\", \"NM\", \"NY\", \"NC\", \"ND\", \"OH\", \"OK\", \"OR\", \"PA\", \"RI\", \"SC\", \"SD\", \"TN\", \"TX\", \"UT\", \"VT\", \"VA\", \"WA\", \"WV\", \"WI\", \"WY\"], \"locationmode\": \"USA-states\", \"locations\": [\"AL\", \"AK\", \"AZ\", \"AR\", \"CA\", \"CO\", \"CT\", \"DE\", \"dc\", \"FL\", \"GA\", \"HI\", \"ID\", \"IL\", \"IN\", \"IA\", \"KS\", \"KY\", \"LA\", \"ME\", \"MD\", \"MA\", \"MI\", \"MN\", \"MS\", \"MO\", \"MT\", \"NE\", \"NV\", \"NH\", \"NJ\", \"NM\", \"NY\", \"NC\", \"ND\", \"OH\", \"OK\", \"OR\", \"PA\", \"RI\", \"SC\", \"SD\", \"TN\", \"TX\", \"UT\", \"VT\", \"VA\", \"WA\", \"WV\", \"WI\", \"WY\"], \"name\": \"\", \"z\": [1535, 156, 1769, 738, 12569, 4182, 4915, 450, 757, 10260, 5967, 317, 1013, 8904, 3437, 699, 624, 770, 10297, 432, 2758, 10402, 12670, 789, 1358, 2113, 262, 296, 1549, 540, 29895, 495, 102870, 2093, 173, 3312, 988, 899, 8420, 711, 1700, 187, 3032, 5669, 1260, 389, 2012, 6966, 242, 1916, 166], \"type\": \"choropleth\"}], \"name\": \"2020-04-03\"}, {\"data\": [{\"coloraxis\": \"coloraxis\", \"geo\": \"geo\", \"hovertemplate\": \"<b>%{hovertext}</b><br><br>date=2020-04-04<br>state_code=%{location}<br>cases=%{z}<extra></extra>\", \"hovertext\": [\"AL\", \"AK\", \"AZ\", \"AR\", \"CA\", \"CO\", \"CT\", \"DE\", \"dc\", \"FL\", \"GA\", \"HI\", \"ID\", \"IL\", \"IN\", \"IA\", \"KS\", \"KY\", \"LA\", \"ME\", \"MD\", \"MA\", \"MI\", \"MN\", \"MS\", \"MO\", \"MT\", \"NE\", \"NV\", \"NH\", \"NJ\", \"NM\", \"NY\", \"NC\", \"ND\", \"OH\", \"OK\", \"OR\", \"PA\", \"RI\", \"SC\", \"SD\", \"TN\", \"TX\", \"UT\", \"VT\", \"VA\", \"WA\", \"WV\", \"WI\", \"WY\"], \"locationmode\": \"USA-states\", \"locations\": [\"AL\", \"AK\", \"AZ\", \"AR\", \"CA\", \"CO\", \"CT\", \"DE\", \"dc\", \"FL\", \"GA\", \"HI\", \"ID\", \"IL\", \"IN\", \"IA\", \"KS\", \"KY\", \"LA\", \"ME\", \"MD\", \"MA\", \"MI\", \"MN\", \"MS\", \"MO\", \"MT\", \"NE\", \"NV\", \"NH\", \"NJ\", \"NM\", \"NY\", \"NC\", \"ND\", \"OH\", \"OK\", \"OR\", \"PA\", \"RI\", \"SC\", \"SD\", \"TN\", \"TX\", \"UT\", \"VT\", \"VA\", \"WA\", \"WV\", \"WI\", \"WY\"], \"name\": \"\", \"z\": [1633, 169, 2019, 743, 13796, 4574, 5276, 593, 902, 11537, 6383, 349, 1077, 10357, 3953, 786, 701, 917, 12496, 456, 3125, 11736, 14225, 865, 1455, 2291, 281, 339, 1758, 621, 34124, 543, 114996, 2402, 186, 3739, 1159, 999, 10109, 806, 1917, 212, 3265, 6566, 1428, 461, 2407, 7498, 282, 2112, 187], \"type\": \"choropleth\"}], \"name\": \"2020-04-04\"}, {\"data\": [{\"coloraxis\": \"coloraxis\", \"geo\": \"geo\", \"hovertemplate\": \"<b>%{hovertext}</b><br><br>date=2020-04-05<br>state_code=%{location}<br>cases=%{z}<extra></extra>\", \"hovertext\": [\"AL\", \"AK\", \"AZ\", \"AR\", \"CA\", \"CO\", \"CT\", \"DE\", \"dc\", \"FL\", \"GA\", \"HI\", \"ID\", \"IL\", \"IN\", \"IA\", \"KS\", \"KY\", \"LA\", \"ME\", \"MD\", \"MA\", \"MI\", \"MN\", \"MS\", \"MO\", \"MT\", \"NE\", \"NV\", \"NH\", \"NJ\", \"NM\", \"NY\", \"NC\", \"ND\", \"OH\", \"OK\", \"OR\", \"PA\", \"RI\", \"SC\", \"SD\", \"TN\", \"TX\", \"UT\", \"VT\", \"VA\", \"WA\", \"WV\", \"WI\", \"WY\"], \"locationmode\": \"USA-states\", \"locations\": [\"AL\", \"AK\", \"AZ\", \"AR\", \"CA\", \"CO\", \"CT\", \"DE\", \"dc\", \"FL\", \"GA\", \"HI\", \"ID\", \"IL\", \"IN\", \"IA\", \"KS\", \"KY\", \"LA\", \"ME\", \"MD\", \"MA\", \"MI\", \"MN\", \"MS\", \"MO\", \"MT\", \"NE\", \"NV\", \"NH\", \"NJ\", \"NM\", \"NY\", \"NC\", \"ND\", \"OH\", \"OK\", \"OR\", \"PA\", \"RI\", \"SC\", \"SD\", \"TN\", \"TX\", \"UT\", \"VT\", \"VA\", \"WA\", \"WV\", \"WI\", \"WY\"], \"name\": \"\", \"z\": [1841, 185, 2269, 853, 15076, 4950, 5675, 673, 998, 12342, 6742, 369, 1101, 11276, 4411, 868, 763, 1048, 13010, 470, 3609, 12500, 15635, 935, 1638, 2367, 298, 377, 1880, 669, 37505, 624, 122911, 2585, 207, 4043, 1252, 1068, 11589, 922, 2049, 240, 3538, 7094, 1605, 512, 2637, 7984, 324, 2267, 200], \"type\": \"choropleth\"}], \"name\": \"2020-04-05\"}, {\"data\": [{\"coloraxis\": \"coloraxis\", \"geo\": \"geo\", \"hovertemplate\": \"<b>%{hovertext}</b><br><br>date=2020-04-06<br>state_code=%{location}<br>cases=%{z}<extra></extra>\", \"hovertext\": [\"AL\", \"AK\", \"AZ\", \"AR\", \"CA\", \"CO\", \"CT\", \"DE\", \"dc\", \"FL\", \"GA\", \"HI\", \"ID\", \"IL\", \"IN\", \"IA\", \"KS\", \"KY\", \"LA\", \"ME\", \"MD\", \"MA\", \"MI\", \"MN\", \"MS\", \"MO\", \"MT\", \"NE\", \"NV\", \"NH\", \"NJ\", \"NM\", \"NY\", \"NC\", \"ND\", \"OH\", \"OK\", \"OR\", \"PA\", \"RI\", \"SC\", \"SD\", \"TN\", \"TX\", \"UT\", \"VT\", \"VA\", \"WA\", \"WV\", \"WI\", \"WY\"], \"locationmode\": \"USA-states\", \"locations\": [\"AL\", \"AK\", \"AZ\", \"AR\", \"CA\", \"CO\", \"CT\", \"DE\", \"dc\", \"FL\", \"GA\", \"HI\", \"ID\", \"IL\", \"IN\", \"IA\", \"KS\", \"KY\", \"LA\", \"ME\", \"MD\", \"MA\", \"MI\", \"MN\", \"MS\", \"MO\", \"MT\", \"NE\", \"NV\", \"NH\", \"NJ\", \"NM\", \"NY\", \"NC\", \"ND\", \"OH\", \"OK\", \"OR\", \"PA\", \"RI\", \"SC\", \"SD\", \"TN\", \"TX\", \"UT\", \"VT\", \"VA\", \"WA\", \"WV\", \"WI\", \"WY\"], \"name\": \"\", \"z\": [2006, 189, 2465, 927, 16284, 5172, 6906, 783, 1097, 13621, 7558, 385, 1170, 12262, 4956, 946, 853, 1057, 14867, 499, 4045, 13837, 17130, 986, 1738, 2722, 319, 438, 1971, 715, 41090, 686, 130703, 2870, 225, 4450, 1327, 1132, 13074, 1082, 2232, 288, 3753, 8115, 1675, 543, 2878, 8384, 345, 2440, 212], \"type\": \"choropleth\"}], \"name\": \"2020-04-06\"}, {\"data\": [{\"coloraxis\": \"coloraxis\", \"geo\": \"geo\", \"hovertemplate\": \"<b>%{hovertext}</b><br><br>date=2020-04-07<br>state_code=%{location}<br>cases=%{z}<extra></extra>\", \"hovertext\": [\"AL\", \"AK\", \"AZ\", \"AR\", \"CA\", \"CO\", \"CT\", \"DE\", \"dc\", \"FL\", \"GA\", \"HI\", \"ID\", \"IL\", \"IN\", \"IA\", \"KS\", \"KY\", \"LA\", \"ME\", \"MD\", \"MA\", \"MI\", \"MN\", \"MS\", \"MO\", \"MT\", \"NE\", \"NV\", \"NH\", \"NJ\", \"NM\", \"NY\", \"NC\", \"ND\", \"OH\", \"OK\", \"OR\", \"PA\", \"RI\", \"SC\", \"SD\", \"TN\", \"TX\", \"UT\", \"VT\", \"VA\", \"WA\", \"WV\", \"WI\", \"WY\"], \"locationmode\": \"USA-states\", \"locations\": [\"AL\", \"AK\", \"AZ\", \"AR\", \"CA\", \"CO\", \"CT\", \"DE\", \"dc\", \"FL\", \"GA\", \"HI\", \"ID\", \"IL\", \"IN\", \"IA\", \"KS\", \"KY\", \"LA\", \"ME\", \"MD\", \"MA\", \"MI\", \"MN\", \"MS\", \"MO\", \"MT\", \"NE\", \"NV\", \"NH\", \"NJ\", \"NM\", \"NY\", \"NC\", \"ND\", \"OH\", \"OK\", \"OR\", \"PA\", \"RI\", \"SC\", \"SD\", \"TN\", \"TX\", \"UT\", \"VT\", \"VA\", \"WA\", \"WV\", \"WI\", \"WY\"], \"name\": \"\", \"z\": [2197, 211, 2575, 997, 17540, 5429, 7781, 928, 1211, 14739, 9156, 408, 1210, 13549, 5507, 1048, 905, 1289, 16284, 519, 4371, 15202, 18852, 1069, 1915, 3037, 319, 490, 2101, 747, 44416, 794, 140081, 3220, 237, 4782, 1472, 1181, 14582, 1229, 2417, 320, 4010, 8974, 1752, 575, 3333, 8682, 412, 2578, 221], \"type\": \"choropleth\"}], \"name\": \"2020-04-07\"}]);\n",
       "                        }).then(function(){\n",
       "                            \n",
       "var gd = document.getElementById('11c454f8-003d-47ca-95a9-cbd4e452ec50');\n",
       "var x = new MutationObserver(function (mutations, observer) {{\n",
       "        var display = window.getComputedStyle(gd).display;\n",
       "        if (!display || display === 'none') {{\n",
       "            console.log([gd, 'removed!']);\n",
       "            Plotly.purge(gd);\n",
       "            observer.disconnect();\n",
       "        }}\n",
       "}});\n",
       "\n",
       "// Listen for the removal of the full notebook cells\n",
       "var notebookContainer = gd.closest('#notebook-container');\n",
       "if (notebookContainer) {{\n",
       "    x.observe(notebookContainer, {childList: true});\n",
       "}}\n",
       "\n",
       "// Listen for the clearing of the current output cell\n",
       "var outputEl = gd.closest('.output');\n",
       "if (outputEl) {{\n",
       "    x.observe(outputEl, {childList: true});\n",
       "}}\n",
       "\n",
       "                        })\n",
       "                };\n",
       "                });\n",
       "            </script>\n",
       "        </div>"
      ]
     },
     "metadata": {},
     "output_type": "display_data"
    }
   ],
   "source": [
    "# create dynamic choropleth map\n",
    "fig = px.choropleth(\n",
    "        df_statedate, \n",
    "        locations='state_code', \n",
    "        locationmode = 'USA-states',\n",
    "        color = 'cases', \n",
    "        hover_name = 'state_code', \n",
    "        animation_frame = 'date',\n",
    "        color_continuous_scale = 'Reds'\n",
    ")\n",
    "\n",
    "fig.update_layout(\n",
    "    title_text = 'Spread of Coronavirus in the US',\n",
    "    title_x = 0.5,\n",
    "    geo=dict(\n",
    "        scope = 'usa',\n",
    "        projection = go.layout.geo.Projection(type = 'albers usa'),\n",
    "        showlakes = False),\n",
    ")\n",
    "    \n",
    "fig.show()"
   ]
  }
 ],
 "metadata": {
  "kernelspec": {
   "display_name": "Python 3",
   "language": "python",
   "name": "python3"
  },
  "language_info": {
   "codemirror_mode": {
    "name": "ipython",
    "version": 3
   },
   "file_extension": ".py",
   "mimetype": "text/x-python",
   "name": "python",
   "nbconvert_exporter": "python",
   "pygments_lexer": "ipython3",
   "version": "3.7.4"
  }
 },
 "nbformat": 4,
 "nbformat_minor": 2
}
