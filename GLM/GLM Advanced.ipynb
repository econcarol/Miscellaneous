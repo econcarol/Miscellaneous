{
 "cells": [
  {
   "cell_type": "markdown",
   "id": "3608ad44",
   "metadata": {},
   "source": [
    "# GLM Advanced"
   ]
  },
  {
   "cell_type": "code",
   "execution_count": 1,
   "id": "af29b7ef",
   "metadata": {},
   "outputs": [],
   "source": [
    "import numpy as np\n",
    "import pandas as pd\n",
    "import pyreadr\n",
    "from sklearn.model_selection import train_test_split\n",
    "import statsmodels.api as sm\n",
    "import statsmodels.formula.api as smf\n",
    "from statsmodels.genmod.bayes_mixed_glm import PoissonBayesMixedGLM\n",
    "from statsmodels.genmod.generalized_estimating_equations import GEE\n",
    "\n",
    "pd.set_option('display.max_columns', None, 'display.max_rows', None)"
   ]
  },
  {
   "cell_type": "markdown",
   "id": "2413f317",
   "metadata": {},
   "source": [
    "# Import Data\n",
    "You can download the sample data <a href=\"https://github.com/henckr/maidrr/blob/master/data/mtpl_be.rda\">here</a>. Data dictionary is available <a href=\"https://henckr.github.io/maidrr/reference/mtpl_be.html\">here</a>.\n",
    "* <b><i>id</i></b>: policyholder id\n",
    "* <b><i>nclaims</i></b>: number of claims\n",
    "* <b><i>coverage</i></b>: converage type as TPL, TPL+ or TPL++\n",
    "* <b><i>expo</i></b>: exposure period, as a fraction of a year\n",
    "* <b><i>ageph</i></b>: age of the policyholder, in years\n",
    "* <b><i>sex</i></b>: female or male\n",
    "* <b><i>bm</i></b>: bonus-malus level, higher is worse\n",
    "* <b><i>power</i></b>: horsepower of the vehicle, in kilowatt\n",
    "* <b><i>agec</i></b>: age of the vehicle, in years\n",
    "* <b><i>fuel</i></b>: diesel or gasoline\n",
    "* <b><i>use</i></b>: private or work\n",
    "* <b><i>fleet</i></b>: 0 or 1\n",
    "* <b><i>postcode</i></b>: first two digits of the postal code of the municipality of residence"
   ]
  },
  {
   "cell_type": "code",
   "execution_count": 2,
   "id": "6f185066",
   "metadata": {},
   "outputs": [],
   "source": [
    "df = pyreadr.read_r('mtpl_be.rda')['mtpl_be']"
   ]
  },
  {
   "cell_type": "code",
   "execution_count": 3,
   "id": "834eb71e",
   "metadata": {},
   "outputs": [
    {
     "name": "stdout",
     "output_type": "stream",
     "text": [
      "(163210, 13)\n"
     ]
    },
    {
     "data": {
      "text/html": [
       "<div>\n",
       "<style scoped>\n",
       "    .dataframe tbody tr th:only-of-type {\n",
       "        vertical-align: middle;\n",
       "    }\n",
       "\n",
       "    .dataframe tbody tr th {\n",
       "        vertical-align: top;\n",
       "    }\n",
       "\n",
       "    .dataframe thead th {\n",
       "        text-align: right;\n",
       "    }\n",
       "</style>\n",
       "<table border=\"1\" class=\"dataframe\">\n",
       "  <thead>\n",
       "    <tr style=\"text-align: right;\">\n",
       "      <th></th>\n",
       "      <th>id</th>\n",
       "      <th>expo</th>\n",
       "      <th>nclaims</th>\n",
       "      <th>coverage</th>\n",
       "      <th>ageph</th>\n",
       "      <th>sex</th>\n",
       "      <th>bm</th>\n",
       "      <th>power</th>\n",
       "      <th>agec</th>\n",
       "      <th>fuel</th>\n",
       "      <th>use</th>\n",
       "      <th>fleet</th>\n",
       "      <th>postcode</th>\n",
       "    </tr>\n",
       "  </thead>\n",
       "  <tbody>\n",
       "    <tr>\n",
       "      <th>0</th>\n",
       "      <td>1</td>\n",
       "      <td>1.000000</td>\n",
       "      <td>1</td>\n",
       "      <td>TPL</td>\n",
       "      <td>50</td>\n",
       "      <td>male</td>\n",
       "      <td>5</td>\n",
       "      <td>77</td>\n",
       "      <td>12</td>\n",
       "      <td>gasoline</td>\n",
       "      <td>private</td>\n",
       "      <td>no</td>\n",
       "      <td>10</td>\n",
       "    </tr>\n",
       "    <tr>\n",
       "      <th>1</th>\n",
       "      <td>2</td>\n",
       "      <td>1.000000</td>\n",
       "      <td>0</td>\n",
       "      <td>TPL+</td>\n",
       "      <td>64</td>\n",
       "      <td>female</td>\n",
       "      <td>5</td>\n",
       "      <td>66</td>\n",
       "      <td>3</td>\n",
       "      <td>gasoline</td>\n",
       "      <td>private</td>\n",
       "      <td>no</td>\n",
       "      <td>10</td>\n",
       "    </tr>\n",
       "    <tr>\n",
       "      <th>2</th>\n",
       "      <td>3</td>\n",
       "      <td>1.000000</td>\n",
       "      <td>0</td>\n",
       "      <td>TPL</td>\n",
       "      <td>60</td>\n",
       "      <td>male</td>\n",
       "      <td>0</td>\n",
       "      <td>70</td>\n",
       "      <td>10</td>\n",
       "      <td>diesel</td>\n",
       "      <td>private</td>\n",
       "      <td>no</td>\n",
       "      <td>10</td>\n",
       "    </tr>\n",
       "    <tr>\n",
       "      <th>3</th>\n",
       "      <td>4</td>\n",
       "      <td>1.000000</td>\n",
       "      <td>0</td>\n",
       "      <td>TPL</td>\n",
       "      <td>77</td>\n",
       "      <td>male</td>\n",
       "      <td>0</td>\n",
       "      <td>57</td>\n",
       "      <td>15</td>\n",
       "      <td>gasoline</td>\n",
       "      <td>private</td>\n",
       "      <td>no</td>\n",
       "      <td>10</td>\n",
       "    </tr>\n",
       "    <tr>\n",
       "      <th>4</th>\n",
       "      <td>5</td>\n",
       "      <td>0.046575</td>\n",
       "      <td>1</td>\n",
       "      <td>TPL</td>\n",
       "      <td>28</td>\n",
       "      <td>female</td>\n",
       "      <td>9</td>\n",
       "      <td>70</td>\n",
       "      <td>7</td>\n",
       "      <td>gasoline</td>\n",
       "      <td>private</td>\n",
       "      <td>no</td>\n",
       "      <td>10</td>\n",
       "    </tr>\n",
       "  </tbody>\n",
       "</table>\n",
       "</div>"
      ],
      "text/plain": [
       "   id      expo  nclaims coverage  ageph     sex  bm  power  agec      fuel  \\\n",
       "0   1  1.000000        1      TPL     50    male   5     77    12  gasoline   \n",
       "1   2  1.000000        0     TPL+     64  female   5     66     3  gasoline   \n",
       "2   3  1.000000        0      TPL     60    male   0     70    10    diesel   \n",
       "3   4  1.000000        0      TPL     77    male   0     57    15  gasoline   \n",
       "4   5  0.046575        1      TPL     28  female   9     70     7  gasoline   \n",
       "\n",
       "       use fleet postcode  \n",
       "0  private    no       10  \n",
       "1  private    no       10  \n",
       "2  private    no       10  \n",
       "3  private    no       10  \n",
       "4  private    no       10  "
      ]
     },
     "metadata": {},
     "output_type": "display_data"
    }
   ],
   "source": [
    "print(df.shape)\n",
    "display(df.head())"
   ]
  },
  {
   "cell_type": "markdown",
   "id": "726d0001",
   "metadata": {},
   "source": [
    "# Preprocess Data"
   ]
  },
  {
   "cell_type": "code",
   "execution_count": 4,
   "id": "52bd4370",
   "metadata": {},
   "outputs": [],
   "source": [
    "# one-hot encode gender\n",
    "# ref: male\n",
    "def female(row):\n",
    "    if row[\"sex\"]!=\"male\":\n",
    "        return 1\n",
    "    else:\n",
    "        return 0\n",
    "    \n",
    "# one-hot encode coverage\n",
    "# ref: TPL\n",
    "def tpl1p(row):\n",
    "    if row[\"coverage\"]==\"TPL+\":\n",
    "        return 1\n",
    "    else:\n",
    "        return 0\n",
    "\n",
    "def tpl2p(row):\n",
    "    if row[\"coverage\"]==\"TPL++\":\n",
    "        return 1\n",
    "    else:\n",
    "        return 0\n",
    "    \n",
    "# one-hot encode age\n",
    "# ref: 33-47\n",
    "# younger than 33\n",
    "def age1(row):\n",
    "    if row[\"ageph\"]<df.ageph.min()+15:\n",
    "        return 1\n",
    "    else:\n",
    "        return 0\n",
    "\n",
    "# btw 33 and 47 (ref)\n",
    "def age2(row):\n",
    "    if row[\"ageph\"]>=df.ageph.min()+(15*1) and row[\"ageph\"]<df.ageph.min()+(15*2):\n",
    "        return 1\n",
    "    else:\n",
    "        return 0\n",
    "\n",
    "# btw 48 and 62\n",
    "def age3(row):\n",
    "    if row[\"ageph\"]>=df.ageph.min()+(15*2) and row[\"ageph\"]<df.ageph.min()+(15*3):\n",
    "        return 1\n",
    "    else:\n",
    "        return 0\n",
    "\n",
    "# btw 63 and 77\n",
    "def age4(row):\n",
    "    if row[\"ageph\"]>=df.ageph.min()+(15*3) and row[\"ageph\"]<df.ageph.min()+(15*4):\n",
    "        return 1\n",
    "    else:\n",
    "        return 0\n",
    "\n",
    "# older than 77\n",
    "def age5(row):\n",
    "    if row[\"ageph\"]>=df.ageph.min()+(15*4):\n",
    "        return 1\n",
    "    else:\n",
    "        return 0"
   ]
  },
  {
   "cell_type": "code",
   "execution_count": 5,
   "id": "9a76a381",
   "metadata": {},
   "outputs": [],
   "source": [
    "# apply one-hot encoders to the data\n",
    "df[\"female\"] = df.apply(female, axis=1)\n",
    "df[\"tpl1p\"] = df.apply(tpl1p, axis=1)\n",
    "df[\"tpl2p\"] = df.apply(tpl2p, axis=1)\n",
    "df[\"age1\"] = df.apply(age1, axis=1)\n",
    "df[\"age3\"] = df.apply(age3, axis=1)\n",
    "df[\"age4\"] = df.apply(age4, axis=1)\n",
    "df[\"age5\"] = df.apply(age5, axis=1)"
   ]
  },
  {
   "cell_type": "code",
   "execution_count": 6,
   "id": "1f76be52",
   "metadata": {},
   "outputs": [],
   "source": [
    "# split data into train (70%) and test (30%)\n",
    "weight = \"expo\"\n",
    "target = \"nclaims\"\n",
    "features = [\"id\", \"female\", \"tpl1p\", \"tpl2p\", \"age1\", \"age3\", \"age4\", \"age5\"]\n",
    "df_train, df_test = train_test_split(df[[weight]+[target]+features], test_size=0.3, random_state=0)"
   ]
  },
  {
   "cell_type": "code",
   "execution_count": 7,
   "id": "e6bbbe2a",
   "metadata": {},
   "outputs": [
    {
     "name": "stdout",
     "output_type": "stream",
     "text": [
      "(30, 10)\n"
     ]
    }
   ],
   "source": [
    "# aggregate data by summing count and exposure by same characteristics \n",
    "data = df_train.copy()\n",
    "data[\"nclaims\"] = data[target]\n",
    "data[\"expo\"] = data[weight]\n",
    "dfagg_train = (\n",
    "    data[\"female tpl1p tpl2p age1 age3 age4 age5 nclaims expo\".split()]\n",
    "    .groupby(\"female tpl1p tpl2p age1 age3 age4 age5\".split())\n",
    "    .sum()\n",
    ")\n",
    "dfagg_train.reset_index(inplace=True)\n",
    "dfagg_train[\"freq\"] = dfagg_train[target]/dfagg_train[weight]\n",
    "print(dfagg_train.shape)"
   ]
  },
  {
   "cell_type": "markdown",
   "id": "73ee741c",
   "metadata": {},
   "source": [
    "# Train Model"
   ]
  },
  {
   "cell_type": "markdown",
   "id": "cc75a1fd",
   "metadata": {},
   "source": [
    "## Previously-Selected Best GLM w/ Grouped Data\n",
    "* Here, 30.8/20 = 1.54 indicates a pretty good model fit.\n",
    "* Person Chi2 / DF Residuals\n",
    "    * Pearson Chi2 indicates the degree of departure from data to model prediction.\n",
    "    * \\> 1: overdispersion, or the variance of the response is greater than what's assumed by the model\n",
    "    * = 1: data is drawn from a Poisson distribution with sufficient samples\n",
    "    * < 1: underdispersion (rare)"
   ]
  },
  {
   "cell_type": "code",
   "execution_count": 8,
   "id": "965bf252",
   "metadata": {},
   "outputs": [
    {
     "name": "stdout",
     "output_type": "stream",
     "text": [
      "AIC: 233.17279245500438 \n",
      "\n",
      "                 Generalized Linear Model Regression Results                  \n",
      "==============================================================================\n",
      "Dep. Variable:                nclaims   No. Observations:                   27\n",
      "Model:                            GLM   Df Residuals:                       20\n",
      "Model Family:                 Poisson   Df Model:                            6\n",
      "Link Function:                    Log   Scale:                          1.0000\n",
      "Method:                          IRLS   Log-Likelihood:                -109.59\n",
      "Date:                Mon, 16 Oct 2023   Deviance:                       30.344\n",
      "Time:                        16:51:13   Pearson chi2:                     30.8\n",
      "No. Iterations:                     7   Pseudo R-squ. (CS):              1.000\n",
      "Covariance Type:            nonrobust                                         \n",
      "==============================================================================\n",
      "                 coef    std err          z      P>|z|      [0.025      0.975]\n",
      "------------------------------------------------------------------------------\n",
      "Intercept     -1.9079      0.017   -115.443      0.000      -1.940      -1.875\n",
      "tpl1p         -0.1047      0.023     -4.523      0.000      -0.150      -0.059\n",
      "tpl2p         -0.0821      0.028     -2.911      0.004      -0.137      -0.027\n",
      "age1           0.2776      0.026     10.489      0.000       0.226       0.329\n",
      "age3          -0.1235      0.028     -4.465      0.000      -0.178      -0.069\n",
      "age4          -0.2889      0.036     -7.917      0.000      -0.360      -0.217\n",
      "age5          -0.2120      0.070     -3.009      0.003      -0.350      -0.074\n",
      "==============================================================================\n"
     ]
    }
   ],
   "source": [
    "glm_agg = smf.glm(\n",
    "    \"nclaims ~ tpl1p + tpl2p + age1 + age3 + age4 + age5\",\n",
    "    data=dfagg_train.drop([2,3,4]),\n",
    "    family=sm.families.Poisson(),\n",
    "    exposure=np.asarray(dfagg_train.drop([2,3,4])[weight]),\n",
    ")\n",
    "res_agg = glm_agg.fit()\n",
    "print(\"AIC:\", res_agg.aic, \"\\n\")\n",
    "print(res_agg.summary())"
   ]
  },
  {
   "cell_type": "markdown",
   "id": "2f56d380",
   "metadata": {},
   "source": [
    "## Mixed Poisson Model\n",
    "* Based on (Person Chi2 / DF Residuals) ratio, we know there is a very slight overdispersion. \n",
    "* We can use a Negative Binomial (NB) GLM to correct for that, even though it's not necessary in this case."
   ]
  },
  {
   "cell_type": "markdown",
   "id": "9afa139f",
   "metadata": {},
   "source": [
    "## Cross-Sectional Data\n",
    "### Approach 1\n",
    "<b> Step 1: Find alpha via the auxiliary OLS </b>\n",
    "* Use weighted least squares (WLS) to account for exposure.\n",
    "* We can see alpha is very close to 0 and statistically insignificant."
   ]
  },
  {
   "cell_type": "code",
   "execution_count": 9,
   "id": "ff4df4fc",
   "metadata": {},
   "outputs": [],
   "source": [
    "# create a df for the auxiliary OLS\n",
    "dfagg_train_nooutlier = dfagg_train.drop([2,3,4]).copy()\n",
    "dfagg_train_nooutlier[\"aux_lambda\"] = res_agg.mu\n",
    "dfagg_train_nooutlier[\"aux_ols_y\"] = \\\n",
    "    ((dfagg_train_nooutlier[target]-dfagg_train_nooutlier[\"aux_lambda\"])**2-dfagg_train_nooutlier[\"aux_lambda\"]) / \\\n",
    "    dfagg_train_nooutlier[\"aux_lambda\"]"
   ]
  },
  {
   "cell_type": "code",
   "execution_count": 10,
   "id": "54e48d12",
   "metadata": {},
   "outputs": [
    {
     "name": "stdout",
     "output_type": "stream",
     "text": [
      "                                 WLS Regression Results                                \n",
      "=======================================================================================\n",
      "Dep. Variable:              aux_ols_y   R-squared (uncentered):                   0.064\n",
      "Model:                            WLS   Adj. R-squared (uncentered):              0.028\n",
      "Method:                 Least Squares   F-statistic:                              1.788\n",
      "Date:                Mon, 16 Oct 2023   Prob (F-statistic):                       0.193\n",
      "Time:                        16:51:13   Log-Likelihood:                         -57.300\n",
      "No. Observations:                  27   AIC:                                      116.6\n",
      "Df Residuals:                      26   BIC:                                      117.9\n",
      "Df Model:                           1                                                  \n",
      "Covariance Type:            nonrobust                                                  \n",
      "==============================================================================\n",
      "                 coef    std err          t      P>|t|      [0.025      0.975]\n",
      "------------------------------------------------------------------------------\n",
      "aux_lambda     0.0004      0.000      1.337      0.193      -0.000       0.001\n",
      "==============================================================================\n",
      "Omnibus:                       25.015   Durbin-Watson:                   1.140\n",
      "Prob(Omnibus):                  0.000   Jarque-Bera (JB):               42.397\n",
      "Skew:                           1.994   Prob(JB):                     6.22e-10\n",
      "Kurtosis:                       7.667   Cond. No.                         1.00\n",
      "==============================================================================\n",
      "\n",
      "Notes:\n",
      "[1] R² is computed without centering (uncentered) since the model does not contain a constant.\n",
      "[2] Standard Errors assume that the covariance matrix of the errors is correctly specified.\n"
     ]
    }
   ],
   "source": [
    "res_aux_wls = smf.wls(\n",
    "    \"aux_ols_y ~ aux_lambda - 1\", \n",
    "    data=dfagg_train_nooutlier,\n",
    "    weights=dfagg_train_nooutlier[weight]\n",
    ").fit()\n",
    "print(res_aux_wls.summary())"
   ]
  },
  {
   "cell_type": "markdown",
   "id": "510dfd68",
   "metadata": {},
   "source": [
    "<b> Step 2: Fit NB2 GLM using alpha from Step 1 </b>\n",
    "* The resulting NB2 GLM is very similar to the Poisson GLM.\n",
    "* No clear improvement in AIC."
   ]
  },
  {
   "cell_type": "code",
   "execution_count": 11,
   "id": "78591ffd",
   "metadata": {},
   "outputs": [
    {
     "name": "stdout",
     "output_type": "stream",
     "text": [
      "AIC: 233.17279245500438 \n",
      "\n",
      "                 Generalized Linear Model Regression Results                  \n",
      "==============================================================================\n",
      "Dep. Variable:                nclaims   No. Observations:                   27\n",
      "Model:                            GLM   Df Residuals:                       20\n",
      "Model Family:                 Poisson   Df Model:                            6\n",
      "Link Function:                    Log   Scale:                          1.0000\n",
      "Method:                          IRLS   Log-Likelihood:                -109.59\n",
      "Date:                Mon, 16 Oct 2023   Deviance:                       30.344\n",
      "Time:                        16:51:13   Pearson chi2:                     30.8\n",
      "No. Iterations:                     7   Pseudo R-squ. (CS):              1.000\n",
      "Covariance Type:            nonrobust                                         \n",
      "==============================================================================\n",
      "                 coef    std err          z      P>|z|      [0.025      0.975]\n",
      "------------------------------------------------------------------------------\n",
      "Intercept     -1.9079      0.017   -115.443      0.000      -1.940      -1.875\n",
      "tpl1p         -0.1047      0.023     -4.523      0.000      -0.150      -0.059\n",
      "tpl2p         -0.0821      0.028     -2.911      0.004      -0.137      -0.027\n",
      "age1           0.2776      0.026     10.489      0.000       0.226       0.329\n",
      "age3          -0.1235      0.028     -4.465      0.000      -0.178      -0.069\n",
      "age4          -0.2889      0.036     -7.917      0.000      -0.360      -0.217\n",
      "age5          -0.2120      0.070     -3.009      0.003      -0.350      -0.074\n",
      "==============================================================================\n"
     ]
    }
   ],
   "source": [
    "glm_agg_nb2 = smf.glm(\n",
    "    \"nclaims ~ tpl1p + tpl2p + age1 + age3 + age4 + age5\",\n",
    "    data=dfagg_train.drop([2,3,4]),\n",
    "    family=sm.families.NegativeBinomial(alpha=res_aux_wls.params[0]),\n",
    "    exposure=np.asarray(dfagg_train.drop([2,3,4])[weight]),\n",
    ")\n",
    "res_agg_nb2 = glm_agg.fit()\n",
    "print(\"AIC:\", res_agg_nb2.aic, \"\\n\")\n",
    "print(res_agg_nb2.summary())"
   ]
  },
  {
   "cell_type": "markdown",
   "id": "0caffd0a",
   "metadata": {},
   "source": [
    "### Approach 2\n",
    "<b> Poisson-LogNormal Regression </b>\n",
    "* No good implmentation in Python.\n",
    "* I don't see a way to incorporate exposure. Also, it can't deal with large data.\n",
    "* Need to use individual data due to policy-specific random effects assumption."
   ]
  },
  {
   "cell_type": "code",
   "execution_count": 12,
   "id": "642058c8",
   "metadata": {},
   "outputs": [],
   "source": [
    "# drop outliers from individual data to be consistent with grouped data results\n",
    "mask = ((df_train[\"female\"]==0) & (df_train[\"tpl1p\"]==0) & (df_train[\"tpl2p\"]==0)) & \\\n",
    "       ((df_train[\"age1\"]==1) | (df_train[\"age3\"]==1) | (df_train[\"age4\"]==1))"
   ]
  },
  {
   "cell_type": "code",
   "execution_count": 13,
   "id": "b53bd868",
   "metadata": {},
   "outputs": [
    {
     "name": "stdout",
     "output_type": "stream",
     "text": [
      "               Poisson Mixed GLM Results\n",
      "========================================================\n",
      "          Type Post. Mean Post. SD   SD  SD (LB) SD (UB)\n",
      "--------------------------------------------------------\n",
      "Intercept    M    -2.2300   0.0880                      \n",
      "tpl1p        M    -0.1976   0.1501                      \n",
      "tpl2p        M    -0.0256   0.1949                      \n",
      "age1         M     0.3818   0.1735                      \n",
      "age3         M    -0.1555   0.2070                      \n",
      "age4         M    -0.5036   0.3263                      \n",
      "age5         M    -1.8252   1.1907                      \n",
      "a            V    -0.3820   0.0224 0.682   0.653   0.714\n",
      "========================================================\n",
      "Parameter types are mean structure (M) and variance\n",
      "structure (V)\n",
      "Variance parameters are modeled as log standard\n",
      "deviations\n"
     ]
    }
   ],
   "source": [
    "# random effects model with random intercepts for policyholder id\n",
    "random = {\"a\": \"0 + C(id)\"}\n",
    "res_ind_pl = PoissonBayesMixedGLM.from_formula(\n",
    "    \"nclaims ~ tpl1p + tpl2p + age1 + age3 + age4 + age5\",\n",
    "    data=df_train[~mask].head(1000), # restrict to 1000 obs to avoid memory allocation error\n",
    "    vc_formulas=random, \n",
    "    ).fit_vb()\n",
    "print(res_ind_pl.summary())"
   ]
  },
  {
   "cell_type": "markdown",
   "id": "404bc476",
   "metadata": {},
   "source": [
    "## Panel Data\n",
    "### Generalized Estimating Equations (GEE)\n",
    "* Here, we don't have repeated obs. Thus, the GEE results below are almost identical to the Poisson GLM with grouped data. \n",
    "* Obs relating to the same policyholder across time are expected to be correlated. GEE is used to deal with repeated measures on the same individuals.\n",
    "* However, GEE only provides us with a way to correct standard erros and assess the relevance of features to explain the response of interest. Notice the standard errors are slightly bigger for some features compared to the best GLM selected in GLM Basics. \n",
    "* Fixed effects: features included. Random effects: policyholder ID."
   ]
  },
  {
   "cell_type": "code",
   "execution_count": 14,
   "id": "b75081a9",
   "metadata": {},
   "outputs": [
    {
     "name": "stdout",
     "output_type": "stream",
     "text": [
      "Any repeated policy holder ID?\n",
      "No\n"
     ]
    }
   ],
   "source": [
    "print(\"Any repeated policy holder ID?\")\n",
    "if max(df_train[~mask].groupby(\"id\").size().reset_index(name=\"count\")[\"count\"])>1:\n",
    "    print(\"Yes\")\n",
    "else:\n",
    "    print(\"No\")"
   ]
  },
  {
   "cell_type": "markdown",
   "id": "c21b6635",
   "metadata": {},
   "source": [
    "<b> Poisson GEE, under serial independence </b>"
   ]
  },
  {
   "cell_type": "code",
   "execution_count": 15,
   "id": "5f3fc15f",
   "metadata": {},
   "outputs": [
    {
     "name": "stdout",
     "output_type": "stream",
     "text": [
      "                               GEE Regression Results                              \n",
      "===================================================================================\n",
      "Dep. Variable:                     nclaims   No. Observations:                82826\n",
      "Model:                                 GEE   No. clusters:                    82826\n",
      "Method:                        Generalized   Min. cluster size:                   1\n",
      "                      Estimating Equations   Max. cluster size:                   1\n",
      "Family:                            Poisson   Mean cluster size:                 1.0\n",
      "Dependence structure:         Independence   Num. iterations:                     1\n",
      "Date:                     Mon, 16 Oct 2023   Scale:                           1.000\n",
      "Covariance type:                    robust   Time:                         16:52:32\n",
      "==============================================================================\n",
      "                 coef    std err          z      P>|z|      [0.025      0.975]\n",
      "------------------------------------------------------------------------------\n",
      "Intercept     -1.9079      0.017   -110.822      0.000      -1.942      -1.874\n",
      "tpl1p         -0.1047      0.024     -4.347      0.000      -0.152      -0.057\n",
      "tpl2p         -0.0821      0.029     -2.843      0.004      -0.139      -0.026\n",
      "age1           0.2776      0.028     10.090      0.000       0.224       0.332\n",
      "age3          -0.1235      0.029     -4.329      0.000      -0.179      -0.068\n",
      "age4          -0.2889      0.037     -7.708      0.000      -0.362      -0.215\n",
      "age5          -0.2120      0.070     -3.027      0.002      -0.349      -0.075\n",
      "==============================================================================\n",
      "Skew:                          3.1153   Kurtosis:                      11.1189\n",
      "Centered skew:                    nan   Centered kurtosis:                 nan\n",
      "==============================================================================\n"
     ]
    }
   ],
   "source": [
    "fam = sm.families.Poisson()\n",
    "ind = sm.cov_struct.Independence()\n",
    "res_gee_ind = GEE.from_formula(\n",
    "    \"nclaims ~ tpl1p + tpl2p + age1 + age3 + age4 + age5\",\n",
    "    data=df_train[~mask],\n",
    "    groups=df_train[~mask][\"id\"],\n",
    "    family=fam,\n",
    "    cov_struct=ind,\n",
    "    exposure=np.asarray(df_train[~mask][weight])).fit()\n",
    "print(res_gee_ind.summary())"
   ]
  },
  {
   "cell_type": "markdown",
   "id": "682d9103",
   "metadata": {},
   "source": [
    "<b> Poisson GEE, exchangeble working correlation matrix </b>"
   ]
  },
  {
   "cell_type": "code",
   "execution_count": 16,
   "id": "a199992f",
   "metadata": {},
   "outputs": [
    {
     "name": "stdout",
     "output_type": "stream",
     "text": [
      "                               GEE Regression Results                              \n",
      "===================================================================================\n",
      "Dep. Variable:                     nclaims   No. Observations:                82826\n",
      "Model:                                 GEE   No. clusters:                    82826\n",
      "Method:                        Generalized   Min. cluster size:                   1\n",
      "                      Estimating Equations   Max. cluster size:                   1\n",
      "Family:                            Poisson   Mean cluster size:                 1.0\n",
      "Dependence structure:         Exchangeable   Num. iterations:                     1\n",
      "Date:                     Mon, 16 Oct 2023   Scale:                           1.000\n",
      "Covariance type:                    robust   Time:                         16:52:44\n",
      "==============================================================================\n",
      "                 coef    std err          z      P>|z|      [0.025      0.975]\n",
      "------------------------------------------------------------------------------\n",
      "Intercept     -1.9079      0.017   -110.822      0.000      -1.942      -1.874\n",
      "tpl1p         -0.1047      0.024     -4.347      0.000      -0.152      -0.057\n",
      "tpl2p         -0.0821      0.029     -2.843      0.004      -0.139      -0.026\n",
      "age1           0.2776      0.028     10.090      0.000       0.224       0.332\n",
      "age3          -0.1235      0.029     -4.329      0.000      -0.179      -0.068\n",
      "age4          -0.2889      0.037     -7.708      0.000      -0.362      -0.215\n",
      "age5          -0.2120      0.070     -3.027      0.002      -0.349      -0.075\n",
      "==============================================================================\n",
      "Skew:                          3.1153   Kurtosis:                      11.1189\n",
      "Centered skew:                    nan   Centered kurtosis:                 nan\n",
      "==============================================================================\n"
     ]
    }
   ],
   "source": [
    "exc = sm.cov_struct.Exchangeable()\n",
    "res_gee_exc = GEE.from_formula(\n",
    "    \"nclaims ~ tpl1p + tpl2p + age1 + age3 + age4 + age5\",\n",
    "    data=df_train[~mask],\n",
    "    groups=df_train[~mask][\"id\"],\n",
    "    family=fam,\n",
    "    cov_struct=exc,\n",
    "    exposure=np.asarray(df_train[~mask][weight])).fit()\n",
    "print(res_gee_exc.summary())"
   ]
  }
 ],
 "metadata": {
  "kernelspec": {
   "display_name": "Python 3",
   "language": "python",
   "name": "python3"
  },
  "language_info": {
   "codemirror_mode": {
    "name": "ipython",
    "version": 3
   },
   "file_extension": ".py",
   "mimetype": "text/x-python",
   "name": "python",
   "nbconvert_exporter": "python",
   "pygments_lexer": "ipython3",
   "version": "3.8.5"
  }
 },
 "nbformat": 4,
 "nbformat_minor": 5
}
