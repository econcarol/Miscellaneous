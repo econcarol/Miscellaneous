{
 "cells": [
  {
   "cell_type": "code",
   "execution_count": 1,
   "metadata": {},
   "outputs": [],
   "source": [
    "# Soln to Coding Interview Q4\n",
    "# Q4: compare two arrays and find the missing element\n",
    "\n",
    "# brute force way: time o(n(n+m)) space o(1)\n",
    "def missing_v1(a1, a2):\n",
    "    counter = 0\n",
    "    for i, v in enumerate(a1):\n",
    "        counter += 1\n",
    "        # count time o(n) + o(m)\n",
    "        if a1.count(v) != a2.count(v):\n",
    "            missing = v\n",
    "            \n",
    "    return missing, counter*(len(a1)+len(a2))"
   ]
  },
  {
   "cell_type": "code",
   "execution_count": 2,
   "metadata": {},
   "outputs": [
    {
     "name": "stdout",
     "output_type": "stream",
     "text": [
      "a1: [2, 2, 4, 4, 5]\n",
      "a2: [5, 2, 4, 4]\n",
      "missing element: 2\n",
      "time complexity: 45\n"
     ]
    }
   ],
   "source": [
    "# try out an example\n",
    "import random\n",
    "\n",
    "a1 = [2, 2, 4, 4, 5]\n",
    "\n",
    "# shuffle elements in 1st array\n",
    "a2 = a1.copy()\n",
    "random.shuffle(a2)\n",
    "\n",
    "# delete a random element\n",
    "r = random.randint(0, len(a1)-1)\n",
    "a2.pop(r)\n",
    "\n",
    "# print both arrays\n",
    "print('a1:', a1)\n",
    "print('a2:', a2)\n",
    "\n",
    "# find missing element\n",
    "missing, counter = missing_v1(a1, a2)\n",
    "print('missing element:', missing)\n",
    "print('time complexity:', counter)"
   ]
  },
  {
   "cell_type": "code",
   "execution_count": 3,
   "metadata": {},
   "outputs": [],
   "source": [
    "# optimize time: time o(nlogn + mlogm), space o(1)\n",
    "import math\n",
    "\n",
    "def missing_v2(a1, a2):\n",
    "    counter = 0\n",
    "    \n",
    "    a1.sort() # time o(nlogn)\n",
    "    counter += len(a1) * math.log(len(a1))\n",
    "    a2.sort() # time o(mlogm)\n",
    "    counter += len(a2) * math.log(len(a2))\n",
    "    \n",
    "    for i in range(len(a2)):\n",
    "        counter += 1\n",
    "        if a1[i] != a2[i]:\n",
    "            missing = a1[i]\n",
    "            break\n",
    "        else:\n",
    "            missing = a1[len(a1)-1]\n",
    "            \n",
    "    return missing, int(counter)"
   ]
  },
  {
   "cell_type": "code",
   "execution_count": 4,
   "metadata": {},
   "outputs": [
    {
     "name": "stdout",
     "output_type": "stream",
     "text": [
      "a1: [2, 2, 4, 4, 5]\n",
      "a2: [5, 2, 4, 4]\n",
      "missing element: 2\n",
      "time complexity: 15\n"
     ]
    }
   ],
   "source": [
    "# try the same example\n",
    "# print both arrays\n",
    "print('a1:', a1)\n",
    "print('a2:', a2)\n",
    "\n",
    "# find missing element\n",
    "missing, counter = missing_v2(a1, a2)\n",
    "print('missing element:', missing)\n",
    "print('time complexity:', counter)"
   ]
  }
 ],
 "metadata": {
  "kernelspec": {
   "display_name": "Python 3",
   "language": "python",
   "name": "python3"
  },
  "language_info": {
   "codemirror_mode": {
    "name": "ipython",
    "version": 3
   },
   "file_extension": ".py",
   "mimetype": "text/x-python",
   "name": "python",
   "nbconvert_exporter": "python",
   "pygments_lexer": "ipython3",
   "version": "3.7.4"
  }
 },
 "nbformat": 4,
 "nbformat_minor": 2
}
