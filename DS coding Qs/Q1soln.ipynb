{
 "cells": [
  {
   "cell_type": "code",
   "execution_count": 1,
   "metadata": {},
   "outputs": [],
   "source": [
    "# Soln to Coding Interview Q1\n",
    "# Q1: find the max sum when adding any consecutive elements in an array \n",
    "\n",
    "# brute force way: time o(n^2) space o(1)\n",
    "def max_continuous_sum_v1(a): \n",
    "    max_sum = float('-inf')\n",
    "    counter = 0\n",
    "    \n",
    "    if len(a) == 0:\n",
    "        print('Array is empty.')\n",
    "        max_sum, counter = None, 1  \n",
    "    else:\n",
    "        for i in range(len(a)): \n",
    "            tempsum = 0\n",
    "            tempsum += a[i]\n",
    "            if tempsum > max_sum:\n",
    "                max_sum = tempsum\n",
    "                \n",
    "            for j in range(i+1, len(a)): \n",
    "                counter += 1 \n",
    "                tempsum += a[j]\n",
    "                if tempsum > max_sum:\n",
    "                    max_sum = tempsum\n",
    "\n",
    "    return max_sum, counter"
   ]
  },
  {
   "cell_type": "code",
   "execution_count": 2,
   "metadata": {},
   "outputs": [
    {
     "name": "stdout",
     "output_type": "stream",
     "text": [
      "max continuous sum: 12\n",
      "time complexity: 15\n"
     ]
    }
   ],
   "source": [
    "# try an example\n",
    "a1 = [12, -10, 7, -8, 4, 6]\n",
    "max_sum, counter = max_continuous_sum_v1(a1)\n",
    "\n",
    "print('max continuous sum:', max_sum)\n",
    "print('time complexity:', counter)"
   ]
  },
  {
   "cell_type": "code",
   "execution_count": 3,
   "metadata": {},
   "outputs": [
    {
     "name": "stdout",
     "output_type": "stream",
     "text": [
      "max continuous sum: 20\n",
      "time complexity: 21\n"
     ]
    }
   ],
   "source": [
    "# try an example\n",
    "a2 = [-1, 8, 0, -9, 12, -2, 10]\n",
    "max_sum, counter = max_continuous_sum_v1(a2)\n",
    "\n",
    "print('max continuous sum:', max_sum)\n",
    "print('time complexity:', counter)"
   ]
  },
  {
   "cell_type": "code",
   "execution_count": 4,
   "metadata": {},
   "outputs": [],
   "source": [
    "# optimize time: time o(n) space o(1)\n",
    "def max_continuous_sum_v2(a):    \n",
    "    max_sum = float('-inf')\n",
    "    tempsum = 0\n",
    "    counter = 0\n",
    "    \n",
    "    if len(a) == 0:\n",
    "        print('Array is empty.')\n",
    "        max_sum, counter = None, 1       \n",
    "    else:\n",
    "        for i in range(len(a)):  \n",
    "            counter += 1 \n",
    "            tempsum += a[i]\n",
    "            if tempsum > max_sum:\n",
    "                max_sum = tempsum\n",
    "            if tempsum < 0:\n",
    "                tempsum = 0\n",
    "            \n",
    "    return max_sum, counter"
   ]
  },
  {
   "cell_type": "code",
   "execution_count": 5,
   "metadata": {},
   "outputs": [
    {
     "name": "stdout",
     "output_type": "stream",
     "text": [
      "max continuous sum: 12\n",
      "time complexity: 6\n"
     ]
    }
   ],
   "source": [
    "# try the same example\n",
    "a1 = [12, -10, 7, -8, 4, 6]\n",
    "max_sum, counter = max_continuous_sum_v2(a1)\n",
    "\n",
    "print('max continuous sum:', max_sum)\n",
    "print('time complexity:', counter)"
   ]
  },
  {
   "cell_type": "code",
   "execution_count": 6,
   "metadata": {},
   "outputs": [
    {
     "name": "stdout",
     "output_type": "stream",
     "text": [
      "max continuous sum: 20\n",
      "time complexity: 7\n"
     ]
    }
   ],
   "source": [
    "# try the same example\n",
    "a2 = [-1, 8, 0, -9, 12, -2, 10]\n",
    "max_sum, counter = max_continuous_sum_v2(a2)\n",
    "\n",
    "print('max continuous sum:', max_sum)\n",
    "print('time complexity:', counter)"
   ]
  },
  {
   "cell_type": "code",
   "execution_count": 7,
   "metadata": {},
   "outputs": [
    {
     "name": "stdout",
     "output_type": "stream",
     "text": [
      "Array is empty.\n",
      "max continuous sum: None\n",
      "time complexity: 1\n"
     ]
    }
   ],
   "source": [
    "# try a corner case\n",
    "a3 = []\n",
    "max_sum, counter = max_continuous_sum_v2(a3)\n",
    "\n",
    "print('max continuous sum:', max_sum)\n",
    "print('time complexity:', counter)"
   ]
  }
 ],
 "metadata": {
  "kernelspec": {
   "display_name": "Python 3",
   "language": "python",
   "name": "python3"
  },
  "language_info": {
   "codemirror_mode": {
    "name": "ipython",
    "version": 3
   },
   "file_extension": ".py",
   "mimetype": "text/x-python",
   "name": "python",
   "nbconvert_exporter": "python",
   "pygments_lexer": "ipython3",
   "version": "3.7.4"
  }
 },
 "nbformat": 4,
 "nbformat_minor": 2
}
