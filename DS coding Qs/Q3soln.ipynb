{
 "cells": [
  {
   "cell_type": "code",
   "execution_count": 1,
   "metadata": {},
   "outputs": [],
   "source": [
    "# Soln to Coding Interview Q3\n",
    "# Q3: given a history of stock price, \n",
    "#     find the buy-sell strategy that maximizes profit\n",
    "#     without shorting the stock\n",
    "\n",
    "# brute force way: time o(n^2) space o(1)\n",
    "import sys\n",
    "def stock_strategy_v1(price): \n",
    "    # check for corner cases\n",
    "    if len(price) <= 1:\n",
    "        print('Need at least 2 prices')\n",
    "        max_profit, buy_day, sell_day, counter = -1, -1, -1, -1\n",
    "        return max_profit, buy_day, sell_day, counter\n",
    "    \n",
    "    max_profit = 0\n",
    "    counter = 0       \n",
    "    for i in range(0, len(price)):\n",
    "        for j in range(i+1, len(price)):\n",
    "            counter += 1\n",
    "            profit = price[j] - price[i]\n",
    "\n",
    "            if profit > max_profit:\n",
    "                max_profit = profit\n",
    "                buy_day    = i+1\n",
    "                sell_day   = j+1\n",
    "                \n",
    "    return max_profit, buy_day, sell_day, counter\n"
   ]
  },
  {
   "cell_type": "code",
   "execution_count": 2,
   "metadata": {},
   "outputs": [
    {
     "name": "stdout",
     "output_type": "stream",
     "text": [
      "buy on day 5 and sell on day 7 , gain a profit of $ 30\n",
      "time complexity: 45\n"
     ]
    }
   ],
   "source": [
    "# try an example\n",
    "price = [310, 315, 275, 295, 260, 270, 290, 230, 255, 250]\n",
    "\n",
    "max_profit, buy_day, sell_day, counter = stock_strategy_v1(price)\n",
    "print('buy on day', buy_day, 'and sell on day', sell_day, ', gain a profit of $', max_profit)\n",
    "print('time complexity:', counter)"
   ]
  },
  {
   "cell_type": "code",
   "execution_count": 3,
   "metadata": {},
   "outputs": [],
   "source": [
    "# divide-&-conquer way: time o(nlogn) space o(1)\n",
    "def stock_strategy_v2(price): \n",
    "    # check for corner cases\n",
    "    if len(price) <= 1:\n",
    "        print('Need at least 2 prices')\n",
    "        max_profit, buy_day, sell_day, counter = -1, -1, -1, -1\n",
    "        return max_profit, buy_day, sell_day, counter\n",
    "    \n",
    "    halfway = round(len(price)/2) # same as floor here\n",
    "    \n",
    "    profit1, buy1, sell1 = 0, 0, 0\n",
    "    profit2, buy2, sell2 = 0, 0, 0\n",
    "    counter = 0\n",
    "    \n",
    "    # time complexity T(n/2)\n",
    "    for i in range(0, halfway):\n",
    "        for j in range(i+1, halfway):\n",
    "            counter += 1\n",
    "            if (price[j] - price[i]) > profit1:\n",
    "                profit1, buy1, sell1 = price[j]-price[i], i+1, j+1\n",
    "                \n",
    "    # time complexity T(n/2)            \n",
    "    for i in range(halfway, len(price)):\n",
    "        for j in range(i+1, len(price)):\n",
    "            counter += 1\n",
    "            if (price[j] - price[i]) > profit2:\n",
    "                profit2, buy2, sell2 = price[j]-price[i], i+1, j+1\n",
    "    \n",
    "    # combine 2 subarray results\n",
    "    if profit2 > profit1:\n",
    "        max_profit, buy_day, sell_day = profit2, buy2, sell2\n",
    "    else:\n",
    "        max_profit, buy_day, sell_day = profit1, buy1, sell1\n",
    "    \n",
    "    # time complexity o(n)\n",
    "    # check for cross-subarray possibility\n",
    "    p1 = min(price[:halfway])\n",
    "    p2 = max(price[halfway:]) \n",
    "    if (p2 - p1) > max_profit:\n",
    "        max_profit = p2 - p1\n",
    "        buy_day    = price[:halfway].index(p1)+1\n",
    "        sell_day   = price[halfway:].index(p2)+halfway+1\n",
    "    \n",
    "    # total time complexity T(n) = 2T(n/2) + o(n) = o(nlogn)\n",
    "    return max_profit, buy_day, sell_day, counter"
   ]
  },
  {
   "cell_type": "code",
   "execution_count": 4,
   "metadata": {},
   "outputs": [
    {
     "name": "stdout",
     "output_type": "stream",
     "text": [
      "buy on day 5 and sell on day 7 , gain a profit of $ 30\n",
      "time complexity: 20\n"
     ]
    }
   ],
   "source": [
    "# try the same example\n",
    "price = [310, 315, 275, 295, 260, 270, 290, 230, 255, 250]\n",
    "\n",
    "max_profit, buy_day, sell_day, counter = stock_strategy_v2(price)\n",
    "print('buy on day', buy_day, 'and sell on day', sell_day, ', gain a profit of $', max_profit)\n",
    "print('time complexity:', counter)"
   ]
  },
  {
   "cell_type": "code",
   "execution_count": 5,
   "metadata": {},
   "outputs": [],
   "source": [
    "# best: time o(n) space o(1)\n",
    "def stock_strategy_v3(price): \n",
    "    # check for corner cases\n",
    "    if len(price) <= 1:\n",
    "        print('Need at least 2 prices')\n",
    "        max_profit, buy_day, sell_day, counter = -1, -1, -1, -1\n",
    "        return max_profit, buy_day, sell_day, counter\n",
    "    \n",
    "    min_price, max_profit = float('inf'), 0\n",
    "    buy_day, sell_day = -1, -1\n",
    "    counter = 0\n",
    "    \n",
    "    for i, p in enumerate(price):\n",
    "        counter += 1\n",
    "        profit = p - min_price\n",
    "        if profit > max_profit:\n",
    "            max_profit = profit\n",
    "            buy_day    = price.index(min_price)+1\n",
    "            sell_day   = i+1\n",
    "        if p < min_price:\n",
    "            min_price = p\n",
    "      \n",
    "    return max_profit, buy_day, sell_day, counter"
   ]
  },
  {
   "cell_type": "code",
   "execution_count": 6,
   "metadata": {},
   "outputs": [
    {
     "name": "stdout",
     "output_type": "stream",
     "text": [
      "buy on day 5 and sell on day 7 , gain a profit of $ 30\n",
      "time complexity: 10\n"
     ]
    }
   ],
   "source": [
    "# try the same example\n",
    "price = [310, 315, 275, 295, 260, 270, 290, 230, 255, 250]\n",
    "\n",
    "max_profit, buy_day, sell_day, counter = stock_strategy_v3(price)\n",
    "print('buy on day', buy_day, 'and sell on day', sell_day, ', gain a profit of $', max_profit)\n",
    "print('time complexity:', counter)"
   ]
  },
  {
   "cell_type": "code",
   "execution_count": 7,
   "metadata": {},
   "outputs": [],
   "source": [
    "# applied the algorithm to a variant: \n",
    "# find the length of a longest subarray all of whose entires are equal\n",
    "def find_equal(array):     \n",
    "    # check for corner cases\n",
    "    if len(array) == 0:\n",
    "        print('Need at least 1 entry')\n",
    "        equal_entry, max_length, counter = 'n/a', 0, -1\n",
    "        return equal_entry, max_length, counter\n",
    "    \n",
    "    start, length, max_length = float('inf'), 1, 0\n",
    "    counter = 0\n",
    "    \n",
    "    for i, v in enumerate(array):\n",
    "        counter += 1\n",
    "        if (v-start) == 0:\n",
    "            length += 1\n",
    "        else:\n",
    "            start = v\n",
    "            length = 1 \n",
    "        if length > max_length:\n",
    "            max_length = length\n",
    "            equal_entry = v\n",
    "      \n",
    "    return equal_entry, max_length, counter"
   ]
  },
  {
   "cell_type": "code",
   "execution_count": 8,
   "metadata": {},
   "outputs": [
    {
     "name": "stdout",
     "output_type": "stream",
     "text": [
      "equal entry value: -2\n",
      "max length with equal entry: 4\n",
      "time complexity: 11\n"
     ]
    }
   ],
   "source": [
    "# try an example\n",
    "array = [-1, 0, -2, -2, -2, -2, 0, 2, 2, 3, 1]\n",
    "\n",
    "equal_entry, max_length, counter = find_equal(array)\n",
    "print('equal entry value:', equal_entry)\n",
    "print('max length with equal entry:', max_length)\n",
    "print('time complexity:', counter)"
   ]
  },
  {
   "cell_type": "code",
   "execution_count": 9,
   "metadata": {},
   "outputs": [
    {
     "name": "stdout",
     "output_type": "stream",
     "text": [
      "Need at least 1 entry\n"
     ]
    }
   ],
   "source": [
    "# try a corner case\n",
    "array = []\n",
    "equal_entry, max_length, counter = find_equal(array)"
   ]
  }
 ],
 "metadata": {
  "kernelspec": {
   "display_name": "Python 3",
   "language": "python",
   "name": "python3"
  },
  "language_info": {
   "codemirror_mode": {
    "name": "ipython",
    "version": 3
   },
   "file_extension": ".py",
   "mimetype": "text/x-python",
   "name": "python",
   "nbconvert_exporter": "python",
   "pygments_lexer": "ipython3",
   "version": "3.7.4"
  }
 },
 "nbformat": 4,
 "nbformat_minor": 2
}
